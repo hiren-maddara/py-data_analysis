{
  "cells": [
    {
      "cell_type": "markdown",
      "metadata": {
        "id": "pS4-jYwD_U5v"
      },
      "source": [
        "# BASICS OF PYTHON | SESSION 3&4\n",
        "\n",
        "---\n",
        "Sina Shafiezadeh | October 2024\n",
        "---\n"
      ]
    },
    {
      "cell_type": "markdown",
      "metadata": {
        "id": "4UuPCYl634-F"
      },
      "source": [
        "In these two sessions, we are going to work with a fake dataset about BMI scores in **10 steps** and **20 exercises**."
      ]
    },
    {
      "cell_type": "markdown",
      "metadata": {
        "id": "anY9j--Fj79Z"
      },
      "source": [
        "# 1.&nbsp;Data Importing"
      ]
    },
    {
      "cell_type": "code",
      "execution_count": 2,
      "metadata": {
        "id": "IxYmFXq3y786"
      },
      "outputs": [],
      "source": [
        "# import packages\n",
        "import pandas as pd\n",
        "import numpy as np"
      ]
    },
    {
      "cell_type": "code",
      "execution_count": 3,
      "metadata": {
        "id": "o3oD2Jipc1tP"
      },
      "outputs": [],
      "source": [
        "# import dataset (method 1): upload from the local machine\n",
        "# from google.colab import files\n",
        "\n",
        "# uploaded = files.upload()\n",
        "# filename = next(iter(uploaded)) # get the uploaded file name\n",
        "\n",
        "# data = pd.read_csv(filename)"
      ]
    },
    {
      "cell_type": "code",
      "execution_count": 4,
      "metadata": {
        "id": "HqVw9DI2j6Nl"
      },
      "outputs": [],
      "source": [
        "# import dataset (method 2): upload from the google drive\n",
        "# from google.colab import drive\n",
        "# drive.mount('/content/drive')\n",
        "# data = pd.read_csv('drive/MyDrive/bmi.csv')"
      ]
    },
    {
      "cell_type": "code",
      "execution_count": 5,
      "metadata": {
        "id": "KlTYaulbD8Lt"
      },
      "outputs": [],
      "source": [
        "# import dataset (method 3): download from a URL directly\n",
        "import requests\n",
        "url = \"https://raw.githubusercontent.com/sina-shafiezadeh/Basics-of-Python-course/main/bmi.csv\" # click on the \"Raw\" button to get the direct link to the raw file\n",
        "response = requests.get(url)\n",
        "open('bmi.csv', 'wb').write(response.content)\n",
        "data = pd.read_csv('bmi.csv')"
      ]
    },
    {
      "cell_type": "markdown",
      "metadata": {
        "id": "BbH5OJkwF1aW"
      },
      "source": [
        "# 2.&nbsp;Data Cleaning (overview)"
      ]
    },
    {
      "cell_type": "code",
      "execution_count": 6,
      "metadata": {
        "colab": {
          "base_uri": "https://localhost:8080/"
        },
        "id": "2P_lIomEmBMb",
        "outputId": "8a420d56-4200-4235-8331-61de949c1ffc"
      },
      "outputs": [
        {
          "name": "stdout",
          "output_type": "stream",
          "text": [
            "     sex   city   age   bmi  bmi_score  pet  sport  time\n",
            "0      f      3  25.4  34.1       34.1    0   2676  2023\n",
            "1      f      1  19.9  22.4       22.4    1   3006  2023\n",
            "2      f  city2  21.3  17.0       17.0    1   2303  2023\n",
            "3    NaN      1  23.0  17.6       17.6    0   3073  2023\n",
            "4      f      1  15.0  17.6       17.6    1   3858  2023\n",
            "..   ...    ...   ...   ...        ...  ...    ...   ...\n",
            "287    f      3  16.1  20.8       20.8    1   3280  2023\n",
            "288    f      1  30.6  29.8       29.8    0     14  2023\n",
            "289  NaN      2  33.1  24.5       24.5    0   1188  2023\n",
            "290    m  city2  29.0  24.2       24.2    0    487  2023\n",
            "291    m      1  35.6  27.6       27.6    1   1916  2023\n",
            "\n",
            "[292 rows x 8 columns]\n"
          ]
        }
      ],
      "source": [
        "print(data)"
      ]
    },
    {
      "cell_type": "code",
      "execution_count": 7,
      "metadata": {
        "colab": {
          "base_uri": "https://localhost:8080/"
        },
        "id": "V8F5Fz_HmSha",
        "outputId": "f2ed4458-9409-4dbc-fccc-c20d93dbfd35"
      },
      "outputs": [
        {
          "name": "stdout",
          "output_type": "stream",
          "text": [
            "(292, 8)\n"
          ]
        }
      ],
      "source": [
        "print(data.shape)"
      ]
    },
    {
      "cell_type": "code",
      "execution_count": 8,
      "metadata": {
        "colab": {
          "base_uri": "https://localhost:8080/"
        },
        "id": "Gc297v2Xmdu0",
        "outputId": "118b85d9-db97-48e1-a0fe-400c3d0ac542"
      },
      "outputs": [
        {
          "name": "stdout",
          "output_type": "stream",
          "text": [
            "2336\n"
          ]
        }
      ],
      "source": [
        "print(data.size) # rows*columns"
      ]
    },
    {
      "cell_type": "code",
      "execution_count": 9,
      "metadata": {
        "colab": {
          "base_uri": "https://localhost:8080/"
        },
        "id": "c-YRGWJtmuYT",
        "outputId": "0cce5e6f-5e5d-48aa-f839-57bcb492a46c"
      },
      "outputs": [
        {
          "name": "stdout",
          "output_type": "stream",
          "text": [
            "   sex   city   age   bmi  bmi_score  pet  sport  time\n",
            "0    f      3  25.4  34.1       34.1    0   2676  2023\n",
            "1    f      1  19.9  22.4       22.4    1   3006  2023\n",
            "2    f  city2  21.3  17.0       17.0    1   2303  2023\n",
            "3  NaN      1  23.0  17.6       17.6    0   3073  2023\n",
            "4    f      1  15.0  17.6       17.6    1   3858  2023\n"
          ]
        }
      ],
      "source": [
        "print(data.head(5)) # first 5 rows"
      ]
    },
    {
      "cell_type": "code",
      "execution_count": 10,
      "metadata": {
        "colab": {
          "base_uri": "https://localhost:8080/"
        },
        "id": "LaWQa8Ppmua-",
        "outputId": "aefc343f-3ee0-4904-af38-0844b88c910b"
      },
      "outputs": [
        {
          "name": "stdout",
          "output_type": "stream",
          "text": [
            "     sex   city   age   bmi  bmi_score  pet  sport  time\n",
            "287    f      3  16.1  20.8       20.8    1   3280  2023\n",
            "288    f      1  30.6  29.8       29.8    0     14  2023\n",
            "289  NaN      2  33.1  24.5       24.5    0   1188  2023\n",
            "290    m  city2  29.0  24.2       24.2    0    487  2023\n",
            "291    m      1  35.6  27.6       27.6    1   1916  2023\n"
          ]
        }
      ],
      "source": [
        "print(data.tail(5)) # last 5 rows"
      ]
    },
    {
      "cell_type": "code",
      "execution_count": 11,
      "metadata": {
        "colab": {
          "base_uri": "https://localhost:8080/"
        },
        "id": "41IOXxdpnDuq",
        "outputId": "3446d3bf-5b81-406d-e306-d815f71748b3"
      },
      "outputs": [
        {
          "name": "stdout",
          "output_type": "stream",
          "text": [
            "<class 'pandas.core.frame.DataFrame'>\n",
            "RangeIndex: 292 entries, 0 to 291\n",
            "Data columns (total 8 columns):\n",
            " #   Column     Non-Null Count  Dtype  \n",
            "---  ------     --------------  -----  \n",
            " 0   sex        288 non-null    object \n",
            " 1   city       292 non-null    object \n",
            " 2   age        292 non-null    float64\n",
            " 3   bmi        289 non-null    float64\n",
            " 4   bmi_score  289 non-null    float64\n",
            " 5   pet        292 non-null    int64  \n",
            " 6   sport      292 non-null    int64  \n",
            " 7   time       292 non-null    int64  \n",
            "dtypes: float64(3), int64(3), object(2)\n",
            "memory usage: 18.4+ KB\n",
            "None\n"
          ]
        }
      ],
      "source": [
        "print(data.info()) # shape, names, count, data type and memory info"
      ]
    },
    {
      "cell_type": "code",
      "execution_count": 12,
      "metadata": {
        "colab": {
          "base_uri": "https://localhost:8080/"
        },
        "id": "at48qUnknDxL",
        "outputId": "b6eee791-68e2-475c-e54b-0e0f5401c84e"
      },
      "outputs": [
        {
          "name": "stdout",
          "output_type": "stream",
          "text": [
            "              age         bmi   bmi_score         pet         sport  \\\n",
            "count  292.000000  289.000000  289.000000  292.000000    292.000000   \n",
            "mean    31.565068   28.693772   28.693772    0.510274   3936.763699   \n",
            "std      9.637659    7.599431    7.599431    0.500753   5741.682983   \n",
            "min     12.300000   16.000000   16.000000    0.000000     14.000000   \n",
            "25%     24.250000   22.400000   22.400000    0.000000   1742.000000   \n",
            "50%     31.400000   27.900000   27.900000    1.000000   3506.000000   \n",
            "75%     38.625000   35.200000   35.200000    1.000000   5197.000000   \n",
            "max     56.500000   42.000000   42.000000    1.000000  72135.000000   \n",
            "\n",
            "              time  \n",
            "count   292.000000  \n",
            "mean   2022.982877  \n",
            "std       0.292603  \n",
            "min    2018.000000  \n",
            "25%    2023.000000  \n",
            "50%    2023.000000  \n",
            "75%    2023.000000  \n",
            "max    2023.000000  \n"
          ]
        }
      ],
      "source": [
        "print(data.describe()) # description for numerical columns"
      ]
    },
    {
      "cell_type": "code",
      "execution_count": 13,
      "metadata": {
        "colab": {
          "base_uri": "https://localhost:8080/"
        },
        "id": "eeYUMr7RuLBh",
        "outputId": "d25dcb32-3444-454a-a63f-73f43cce228c"
      },
      "outputs": [
        {
          "name": "stdout",
          "output_type": "stream",
          "text": [
            "sex\n",
            "f    174\n",
            "m    114\n",
            "Name: count, dtype: int64\n",
            "============================\n",
            "city\n",
            "1        117\n",
            "3         77\n",
            "city2     60\n",
            "2         25\n",
            "city1     13\n",
            "Name: count, dtype: int64\n"
          ]
        }
      ],
      "source": [
        "# description for categorical columns\n",
        "print(data['sex'].value_counts())\n",
        "print(\"============================\")\n",
        "print(data['city'].value_counts())"
      ]
    },
    {
      "cell_type": "markdown",
      "metadata": {
        "id": "5l-pYjWiy0TX"
      },
      "source": [
        "# 3.&nbsp;Data Cleaning (interpretability)"
      ]
    },
    {
      "cell_type": "markdown",
      "metadata": {
        "id": "WOql8VmW9GHS"
      },
      "source": [
        "As much as possible, we should reduce **complexity** and increase **consistency**."
      ]
    },
    {
      "cell_type": "markdown",
      "metadata": {
        "id": "hzjYLzVMwTw3"
      },
      "source": [
        "## Exercise 1\n",
        "\n",
        "---\n",
        "\n",
        "\n",
        "Change the values of \"sport\" time from seconds to minutes.\n",
        "\n",
        "\n",
        "*   Example: 2676 (second) = 44.6 (minute)\n"
      ]
    },
    {
      "cell_type": "code",
      "execution_count": 14,
      "metadata": {
        "id": "Ec3r6L_-zCBY"
      },
      "outputs": [
        {
          "name": "stdout",
          "output_type": "stream",
          "text": [
            "     sex   city   age   bmi  bmi_score  pet   sport  time\n",
            "0      f      3  25.4  34.1       34.1    0  44.600  2023\n",
            "1      f      1  19.9  22.4       22.4    1  50.100  2023\n",
            "2      f  city2  21.3  17.0       17.0    1  38.383  2023\n",
            "3    NaN      1  23.0  17.6       17.6    0  51.217  2023\n",
            "4      f      1  15.0  17.6       17.6    1  64.300  2023\n",
            "..   ...    ...   ...   ...        ...  ...     ...   ...\n",
            "287    f      3  16.1  20.8       20.8    1  54.667  2023\n",
            "288    f      1  30.6  29.8       29.8    0   0.233  2023\n",
            "289  NaN      2  33.1  24.5       24.5    0  19.800  2023\n",
            "290    m  city2  29.0  24.2       24.2    0   8.117  2023\n",
            "291    m      1  35.6  27.6       27.6    1  31.933  2023\n",
            "\n",
            "[292 rows x 8 columns]\n"
          ]
        },
        {
          "name": "stderr",
          "output_type": "stream",
          "text": [
            "C:\\Users\\hiren\\AppData\\Local\\Temp\\ipykernel_24892\\1822442284.py:5: FutureWarning: Setting an item of incompatible dtype is deprecated and will raise an error in a future version of pandas. Value '44.6' has dtype incompatible with int64, please explicitly cast to a compatible dtype first.\n",
            "  data.loc[sp, \"sport\"] = round((data[\"sport\"][sp] / 60), 3)\n"
          ]
        }
      ],
      "source": [
        "# replace the new value in the column\n",
        "# run once\n",
        "\n",
        "for sp in range(len(data[\"sport\"])):\n",
        "    data.loc[sp, \"sport\"] = round((data[\"sport\"][sp] / 60), 3)\n",
        "\n",
        "\n",
        "\n",
        "print(data)"
      ]
    },
    {
      "cell_type": "markdown",
      "metadata": {
        "id": "SqKo0OG9B2vd"
      },
      "source": [
        "## Exercise 2\n",
        "\n",
        "---\n",
        "\n",
        "\n",
        "Change the values in \"city\" from string to integer.\n",
        "\n",
        "\n",
        "*   Example: city2 = 2\n"
      ]
    },
    {
      "cell_type": "code",
      "execution_count": 15,
      "metadata": {
        "id": "qW2oTZEoB26S"
      },
      "outputs": [
        {
          "name": "stdout",
          "output_type": "stream",
          "text": [
            "     sex  city   age   bmi  bmi_score  pet   sport  time\n",
            "0      f     3  25.4  34.1       34.1    0  44.600  2023\n",
            "1      f     1  19.9  22.4       22.4    1  50.100  2023\n",
            "2      f     2  21.3  17.0       17.0    1  38.383  2023\n",
            "3    NaN     1  23.0  17.6       17.6    0  51.217  2023\n",
            "4      f     1  15.0  17.6       17.6    1  64.300  2023\n",
            "..   ...   ...   ...   ...        ...  ...     ...   ...\n",
            "287    f     3  16.1  20.8       20.8    1  54.667  2023\n",
            "288    f     1  30.6  29.8       29.8    0   0.233  2023\n",
            "289  NaN     2  33.1  24.5       24.5    0  19.800  2023\n",
            "290    m     2  29.0  24.2       24.2    0   8.117  2023\n",
            "291    m     1  35.6  27.6       27.6    1  31.933  2023\n",
            "\n",
            "[292 rows x 8 columns]\n"
          ]
        }
      ],
      "source": [
        "# replace the new value in the column\n",
        "data2 = data.copy()\n",
        "\n",
        "# for c in range(len(data2[\"city\"])):\n",
        "#     if((data2[\"city\"][c]).startswith(\"city\")):\n",
        "#         data2.loc[c, \"city\"] = int(data2[\"city\"][c][-1])\n",
        "#         continue\n",
        "#     data2.loc[c, \"city\"] = int(data2[\"city\"][c])\n",
        "\n",
        "\n",
        "data2[\"city\"] = data2[\"city\"].apply(lambda x: int(x[-1]) if x.startswith(\"city\") else int(x))\n",
        "\n",
        "print(data2)"
      ]
    },
    {
      "cell_type": "markdown",
      "metadata": {
        "id": "d4kdA4B1DlgV"
      },
      "source": [
        "## Exercise 3\n",
        "\n",
        "---\n",
        "\n",
        "\n",
        "We don't need too less or too much accuracy. Remove one decimal place in the \"age\" value by rounding  them.\n",
        "\n",
        "\n",
        "*   Example: 19.9 = 20\n"
      ]
    },
    {
      "cell_type": "code",
      "execution_count": 16,
      "metadata": {
        "id": "kDFSc5VlDlt8"
      },
      "outputs": [
        {
          "name": "stdout",
          "output_type": "stream",
          "text": [
            "     sex  city  age   bmi  bmi_score  pet   sport  time\n",
            "0      f     3   25  34.1       34.1    0  44.600  2023\n",
            "1      f     1   20  22.4       22.4    1  50.100  2023\n",
            "2      f     2   21  17.0       17.0    1  38.383  2023\n",
            "3    NaN     1   23  17.6       17.6    0  51.217  2023\n",
            "4      f     1   15  17.6       17.6    1  64.300  2023\n",
            "..   ...   ...  ...   ...        ...  ...     ...   ...\n",
            "287    f     3   16  20.8       20.8    1  54.667  2023\n",
            "288    f     1   31  29.8       29.8    0   0.233  2023\n",
            "289  NaN     2   33  24.5       24.5    0  19.800  2023\n",
            "290    m     2   29  24.2       24.2    0   8.117  2023\n",
            "291    m     1   36  27.6       27.6    1  31.933  2023\n",
            "\n",
            "[292 rows x 8 columns]\n"
          ]
        }
      ],
      "source": [
        "# replace the new value in the column\n",
        "data2[\"age\"] = data2[\"age\"].apply(lambda x: round(x))\n",
        "\n",
        "# data2[\"age\"] = round(data2[\"age\"])\n",
        "\n",
        "print(data2)"
      ]
    },
    {
      "cell_type": "markdown",
      "metadata": {
        "id": "LDCm_efBzFJL"
      },
      "source": [
        "# 4.&nbsp;Data Cleaning (reduction)"
      ]
    },
    {
      "cell_type": "markdown",
      "metadata": {
        "id": "e03SWdRUKCuK"
      },
      "source": [
        "Remove duplicate or unnecessary columns."
      ]
    },
    {
      "cell_type": "markdown",
      "metadata": {
        "id": "DTJ7_FbJG-D3"
      },
      "source": [
        "## Exercise 4\n",
        "\n",
        "---\n",
        "\n",
        "\n",
        "Remove the same value with a different column name (bmi_score) and the unrelated column for our analyzing goal (pet)."
      ]
    },
    {
      "cell_type": "code",
      "execution_count": 17,
      "metadata": {
        "id": "-nMFsIUPIrP-"
      },
      "outputs": [
        {
          "name": "stdout",
          "output_type": "stream",
          "text": [
            "     sex  city  age   bmi   sport  time\n",
            "0      f     3   25  34.1  44.600  2023\n",
            "1      f     1   20  22.4  50.100  2023\n",
            "2      f     2   21  17.0  38.383  2023\n",
            "3    NaN     1   23  17.6  51.217  2023\n",
            "4      f     1   15  17.6  64.300  2023\n",
            "..   ...   ...  ...   ...     ...   ...\n",
            "287    f     3   16  20.8  54.667  2023\n",
            "288    f     1   31  29.8   0.233  2023\n",
            "289  NaN     2   33  24.5  19.800  2023\n",
            "290    m     2   29  24.2   8.117  2023\n",
            "291    m     1   36  27.6  31.933  2023\n",
            "\n",
            "[292 rows x 6 columns]\n"
          ]
        }
      ],
      "source": [
        "# we should have 6 columns after removing\n",
        "data2.drop(data2.columns[[4,5]], axis=1, inplace=True)\n",
        "\n",
        "print(data2)"
      ]
    },
    {
      "cell_type": "code",
      "execution_count": 18,
      "metadata": {},
      "outputs": [
        {
          "name": "stdout",
          "output_type": "stream",
          "text": [
            "['City' 'Country']\n"
          ]
        }
      ],
      "source": [
        "# NOTE: access items in a list by multiple indices\n",
        "\n",
        "arr = np.array(['Name', 'Age', 'Gender', 'Address', 'City', 'Country'])\n",
        "selected = arr[[4, 5]]\n",
        "print(selected)"
      ]
    },
    {
      "cell_type": "markdown",
      "metadata": {
        "id": "Stxl8ESOzYRP"
      },
      "source": [
        "# 5.&nbsp;Data Cleaning (noisy data)"
      ]
    },
    {
      "cell_type": "markdown",
      "metadata": {
        "id": "TURODKjMyphp"
      },
      "source": [
        "Noisy data is all the data we don't want. It does not matter whether it is corrupted or meaningless for our analysis."
      ]
    },
    {
      "cell_type": "markdown",
      "metadata": {
        "id": "VfnPtvj7JzAD"
      },
      "source": [
        "## Exercise 5\n",
        "\n",
        "---\n",
        "\n",
        "\n",
        "we don't need data that is not **timeliness**. Remove the older data."
      ]
    },
    {
      "cell_type": "code",
      "execution_count": 19,
      "metadata": {
        "id": "9vPlZR8CJzJx"
      },
      "outputs": [
        {
          "name": "stdout",
          "output_type": "stream",
          "text": [
            "     sex   city   age   bmi  bmi_score  pet   sport  time\n",
            "0      f      3  25.4  34.1       34.1    0  44.600  2023\n",
            "1      f      1  19.9  22.4       22.4    1  50.100  2023\n",
            "2      f  city2  21.3  17.0       17.0    1  38.383  2023\n",
            "3    NaN      1  23.0  17.6       17.6    0  51.217  2023\n",
            "4      f      1  15.0  17.6       17.6    1  64.300  2023\n",
            "..   ...    ...   ...   ...        ...  ...     ...   ...\n",
            "287    f      3  16.1  20.8       20.8    1  54.667  2023\n",
            "288    f      1  30.6  29.8       29.8    0   0.233  2023\n",
            "289  NaN      2  33.1  24.5       24.5    0  19.800  2023\n",
            "290    m  city2  29.0  24.2       24.2    0   8.117  2023\n",
            "291    m      1  35.6  27.6       27.6    1  31.933  2023\n",
            "\n",
            "[291 rows x 8 columns]\n"
          ]
        }
      ],
      "source": [
        "# Hint: check the \"time\" column\n",
        "data = data[data[\"time\"] != 2018]\n",
        "\n",
        "print(data)"
      ]
    },
    {
      "cell_type": "markdown",
      "metadata": {
        "id": "DjtFMOFJJzSS"
      },
      "source": [
        "## Exercise 6\n",
        "\n",
        "---\n",
        "\n",
        "\n",
        "It is essential that the data be **believable**. Check suspicious values and decide about them."
      ]
    },
    {
      "cell_type": "code",
      "execution_count": 20,
      "metadata": {
        "id": "JFo2q5iuJzZ5"
      },
      "outputs": [
        {
          "data": {
            "text/html": [
              "<div>\n",
              "<style scoped>\n",
              "    .dataframe tbody tr th:only-of-type {\n",
              "        vertical-align: middle;\n",
              "    }\n",
              "\n",
              "    .dataframe tbody tr th {\n",
              "        vertical-align: top;\n",
              "    }\n",
              "\n",
              "    .dataframe thead th {\n",
              "        text-align: right;\n",
              "    }\n",
              "</style>\n",
              "<table border=\"1\" class=\"dataframe\">\n",
              "  <thead>\n",
              "    <tr style=\"text-align: right;\">\n",
              "      <th></th>\n",
              "      <th>sex</th>\n",
              "      <th>city</th>\n",
              "      <th>age</th>\n",
              "      <th>bmi</th>\n",
              "      <th>bmi_score</th>\n",
              "      <th>pet</th>\n",
              "      <th>sport</th>\n",
              "      <th>time</th>\n",
              "    </tr>\n",
              "  </thead>\n",
              "  <tbody>\n",
              "    <tr>\n",
              "      <th>217</th>\n",
              "      <td>m</td>\n",
              "      <td>city2</td>\n",
              "      <td>30.8</td>\n",
              "      <td>32.6</td>\n",
              "      <td>32.6</td>\n",
              "      <td>1</td>\n",
              "      <td>1202.250</td>\n",
              "      <td>2023</td>\n",
              "    </tr>\n",
              "    <tr>\n",
              "      <th>259</th>\n",
              "      <td>m</td>\n",
              "      <td>1</td>\n",
              "      <td>38.7</td>\n",
              "      <td>37.3</td>\n",
              "      <td>37.3</td>\n",
              "      <td>0</td>\n",
              "      <td>1074.817</td>\n",
              "      <td>2023</td>\n",
              "    </tr>\n",
              "    <tr>\n",
              "      <th>134</th>\n",
              "      <td>f</td>\n",
              "      <td>3</td>\n",
              "      <td>31.1</td>\n",
              "      <td>25.1</td>\n",
              "      <td>25.1</td>\n",
              "      <td>1</td>\n",
              "      <td>119.267</td>\n",
              "      <td>2023</td>\n",
              "    </tr>\n",
              "    <tr>\n",
              "      <th>9</th>\n",
              "      <td>m</td>\n",
              "      <td>3</td>\n",
              "      <td>39.5</td>\n",
              "      <td>29.8</td>\n",
              "      <td>29.8</td>\n",
              "      <td>0</td>\n",
              "      <td>119.267</td>\n",
              "      <td>2023</td>\n",
              "    </tr>\n",
              "    <tr>\n",
              "      <th>68</th>\n",
              "      <td>f</td>\n",
              "      <td>1</td>\n",
              "      <td>18.2</td>\n",
              "      <td>22.3</td>\n",
              "      <td>22.3</td>\n",
              "      <td>0</td>\n",
              "      <td>119.017</td>\n",
              "      <td>2023</td>\n",
              "    </tr>\n",
              "    <tr>\n",
              "      <th>...</th>\n",
              "      <td>...</td>\n",
              "      <td>...</td>\n",
              "      <td>...</td>\n",
              "      <td>...</td>\n",
              "      <td>...</td>\n",
              "      <td>...</td>\n",
              "      <td>...</td>\n",
              "      <td>...</td>\n",
              "    </tr>\n",
              "    <tr>\n",
              "      <th>218</th>\n",
              "      <td>f</td>\n",
              "      <td>1</td>\n",
              "      <td>25.7</td>\n",
              "      <td>26.6</td>\n",
              "      <td>26.6</td>\n",
              "      <td>0</td>\n",
              "      <td>0.983</td>\n",
              "      <td>2023</td>\n",
              "    </tr>\n",
              "    <tr>\n",
              "      <th>149</th>\n",
              "      <td>f</td>\n",
              "      <td>3</td>\n",
              "      <td>25.9</td>\n",
              "      <td>22.8</td>\n",
              "      <td>22.8</td>\n",
              "      <td>0</td>\n",
              "      <td>0.933</td>\n",
              "      <td>2023</td>\n",
              "    </tr>\n",
              "    <tr>\n",
              "      <th>166</th>\n",
              "      <td>m</td>\n",
              "      <td>3</td>\n",
              "      <td>29.6</td>\n",
              "      <td>23.8</td>\n",
              "      <td>23.8</td>\n",
              "      <td>0</td>\n",
              "      <td>0.883</td>\n",
              "      <td>2023</td>\n",
              "    </tr>\n",
              "    <tr>\n",
              "      <th>210</th>\n",
              "      <td>f</td>\n",
              "      <td>city2</td>\n",
              "      <td>44.8</td>\n",
              "      <td>41.4</td>\n",
              "      <td>41.4</td>\n",
              "      <td>1</td>\n",
              "      <td>0.450</td>\n",
              "      <td>2023</td>\n",
              "    </tr>\n",
              "    <tr>\n",
              "      <th>288</th>\n",
              "      <td>f</td>\n",
              "      <td>1</td>\n",
              "      <td>30.6</td>\n",
              "      <td>29.8</td>\n",
              "      <td>29.8</td>\n",
              "      <td>0</td>\n",
              "      <td>0.233</td>\n",
              "      <td>2023</td>\n",
              "    </tr>\n",
              "  </tbody>\n",
              "</table>\n",
              "<p>291 rows × 8 columns</p>\n",
              "</div>"
            ],
            "text/plain": [
              "    sex   city   age   bmi  bmi_score  pet     sport  time\n",
              "217   m  city2  30.8  32.6       32.6    1  1202.250  2023\n",
              "259   m      1  38.7  37.3       37.3    0  1074.817  2023\n",
              "134   f      3  31.1  25.1       25.1    1   119.267  2023\n",
              "9     m      3  39.5  29.8       29.8    0   119.267  2023\n",
              "68    f      1  18.2  22.3       22.3    0   119.017  2023\n",
              "..   ..    ...   ...   ...        ...  ...       ...   ...\n",
              "218   f      1  25.7  26.6       26.6    0     0.983  2023\n",
              "149   f      3  25.9  22.8       22.8    0     0.933  2023\n",
              "166   m      3  29.6  23.8       23.8    0     0.883  2023\n",
              "210   f  city2  44.8  41.4       41.4    1     0.450  2023\n",
              "288   f      1  30.6  29.8       29.8    0     0.233  2023\n",
              "\n",
              "[291 rows x 8 columns]"
            ]
          },
          "execution_count": 20,
          "metadata": {},
          "output_type": "execute_result"
        }
      ],
      "source": [
        "# Hint: check the \"sport\" column\n",
        "data.sort_values(\"sport\", axis=0, ascending=False)\n"
      ]
    },
    {
      "cell_type": "markdown",
      "metadata": {
        "id": "vI5TVaNsJzit"
      },
      "source": [
        "## Exercise 7\n",
        "\n",
        "---\n",
        "\n",
        "\n",
        "We don't need people under the age of 18 in this analysis. Be careful, it is possible that noisy data may not be noisy in another analysis."
      ]
    },
    {
      "cell_type": "code",
      "execution_count": 21,
      "metadata": {
        "id": "bpcusjkIJzqi"
      },
      "outputs": [
        {
          "name": "stdout",
          "output_type": "stream",
          "text": [
            "     sex   city   age   bmi  bmi_score  pet   sport  time\n",
            "0      f      3  25.4  34.1       34.1    0  44.600  2023\n",
            "1      f      1  19.9  22.4       22.4    1  50.100  2023\n",
            "2      f  city2  21.3  17.0       17.0    1  38.383  2023\n",
            "3    NaN      1  23.0  17.6       17.6    0  51.217  2023\n",
            "5      f      3  48.7  39.6       39.6    0  41.033  2023\n",
            "..   ...    ...   ...   ...        ...  ...     ...   ...\n",
            "286    f  city2  56.5  39.4       39.4    0  70.400  2023\n",
            "288    f      1  30.6  29.8       29.8    0   0.233  2023\n",
            "289  NaN      2  33.1  24.5       24.5    0  19.800  2023\n",
            "290    m  city2  29.0  24.2       24.2    0   8.117  2023\n",
            "291    m      1  35.6  27.6       27.6    1  31.933  2023\n",
            "\n",
            "[264 rows x 8 columns]\n"
          ]
        }
      ],
      "source": [
        "# remove the unnecessary rows\n",
        "data = data[data[\"age\"] > 18]\n",
        "print(data)\n"
      ]
    },
    {
      "cell_type": "markdown",
      "metadata": {
        "id": "iwrKQarlxh2r"
      },
      "source": [
        "# 6.&nbsp;Data Cleaning (completeness)\n",
        "\n"
      ]
    },
    {
      "cell_type": "markdown",
      "metadata": {
        "id": "M5MWIPWy3pIp"
      },
      "source": [
        "We can **replace** values with nan values or **remove** them if we have enough data. In addition, based on our need for handling noisy data, we can select from several techniques to deal with it."
      ]
    },
    {
      "cell_type": "markdown",
      "metadata": {
        "id": "jXsoOKKZONm2"
      },
      "source": [
        "## Exercise 8\n",
        "\n",
        "---\n",
        "\n",
        "\n",
        "Replace the mean value with nan values in the \"bmi\" column. Be careful, manual replacement could need a lot of time and cause human mistakes."
      ]
    },
    {
      "cell_type": "code",
      "execution_count": 22,
      "metadata": {
        "id": "346ht0HCONuY"
      },
      "outputs": [
        {
          "name": "stdout",
          "output_type": "stream",
          "text": [
            "<class 'pandas.core.frame.DataFrame'>\n",
            "Index: 264 entries, 0 to 291\n",
            "Data columns (total 8 columns):\n",
            " #   Column     Non-Null Count  Dtype  \n",
            "---  ------     --------------  -----  \n",
            " 0   sex        260 non-null    object \n",
            " 1   city       264 non-null    object \n",
            " 2   age        264 non-null    float64\n",
            " 3   bmi        264 non-null    float64\n",
            " 4   bmi_score  261 non-null    float64\n",
            " 5   pet        264 non-null    int64  \n",
            " 6   sport      264 non-null    float64\n",
            " 7   time       264 non-null    int64  \n",
            "dtypes: float64(4), int64(2), object(2)\n",
            "memory usage: 18.6+ KB\n"
          ]
        }
      ],
      "source": [
        "# calculate the bmi mean over all nan values first.\n",
        "data[\"bmi\"] = data[\"bmi\"].fillna(data[\"bmi\"].mean())\n",
        "# data[\"bmi_score\"] = data[\"bmi\"].fillna(data[\"bmi_score\"].mean())\n",
        "\n",
        "data.info()\n"
      ]
    },
    {
      "cell_type": "markdown",
      "metadata": {
        "id": "bYm4Xw0DPD41"
      },
      "source": [
        "## Exercise 9\n",
        "\n",
        "---\n",
        "\n",
        "\n",
        "Remove nan values in the \"sex\" column."
      ]
    },
    {
      "cell_type": "code",
      "execution_count": 23,
      "metadata": {
        "id": "GqQPOaPLxiDj"
      },
      "outputs": [
        {
          "name": "stdout",
          "output_type": "stream",
          "text": [
            "<class 'pandas.core.frame.DataFrame'>\n",
            "Index: 260 entries, 0 to 291\n",
            "Data columns (total 8 columns):\n",
            " #   Column     Non-Null Count  Dtype  \n",
            "---  ------     --------------  -----  \n",
            " 0   sex        260 non-null    object \n",
            " 1   city       260 non-null    object \n",
            " 2   age        260 non-null    float64\n",
            " 3   bmi        260 non-null    float64\n",
            " 4   bmi_score  257 non-null    float64\n",
            " 5   pet        260 non-null    int64  \n",
            " 6   sport      260 non-null    float64\n",
            " 7   time       260 non-null    int64  \n",
            "dtypes: float64(4), int64(2), object(2)\n",
            "memory usage: 18.3+ KB\n"
          ]
        }
      ],
      "source": [
        "# we should have 3 nan values in the sex column\n",
        "data = data[data[\"sex\"].notnull()]\n",
        "\n",
        "data.info()"
      ]
    },
    {
      "cell_type": "markdown",
      "metadata": {
        "id": "fD30B1eeF8QF"
      },
      "source": [
        "# 7.&nbsp;Data Exploring\n",
        "\n"
      ]
    },
    {
      "cell_type": "markdown",
      "metadata": {
        "id": "N04T33HB3tdy"
      },
      "source": [
        "We can define different scenarios as we need."
      ]
    },
    {
      "cell_type": "markdown",
      "metadata": {
        "id": "2aS4qfbjjh7h"
      },
      "source": [
        "## Exercise 10\n",
        "\n",
        "---\n",
        "\n",
        "\n",
        "Select rows where **city = 1**, **bmi > 25**, and **sport <= 60**."
      ]
    },
    {
      "cell_type": "code",
      "execution_count": 24,
      "metadata": {
        "id": "3qsFuxhwmEaV"
      },
      "outputs": [
        {
          "name": "stdout",
          "output_type": "stream",
          "text": [
            "    sex city   age   bmi  bmi_score  pet   sport  time\n",
            "11    f    1  50.1  41.9       41.9    1  20.200  2023\n",
            "15    m    1  34.8  41.5       41.5    1  27.300  2023\n",
            "20    f    1  25.8  31.8       31.8    0  50.833  2023\n",
            "28    f    1  35.5  41.2       41.2    1  28.850  2023\n",
            "32    f    1  35.8  31.4       31.4    0  47.617  2023\n",
            "36    f    1  35.7  25.1       25.1    1  12.883  2023\n",
            "38    f    1  31.4  32.6       32.6    1  59.500  2023\n",
            "48    m    1  27.9  27.2       27.2    0  37.433  2023\n",
            "49    m    1  29.5  29.6       29.6    0   8.433  2023\n",
            "104   m    1  43.5  40.9       40.9    1  55.667  2023\n",
            "108   m    1  41.8  29.9       29.9    0  28.583  2023\n",
            "137   f    1  42.4  40.1       40.1    1  29.283  2023\n",
            "145   f    1  38.6  25.5       25.5    1  39.450  2023\n",
            "148   f    1  28.4  25.5       25.5    0  51.300  2023\n",
            "151   f    1  33.2  33.7       33.7    0  34.783  2023\n",
            "153   f    1  34.6  29.6       29.6    1  38.550  2023\n",
            "163   f    1  42.9  34.7       34.7    0  18.750  2023\n",
            "168   f    1  44.6  40.2       40.2    1  32.100  2023\n",
            "169   m    1  30.3  29.5       29.5    0  55.717  2023\n",
            "172   m    1  31.1  25.7       25.7    1  50.400  2023\n",
            "190   m    1  43.1  40.0       40.0    0   1.050  2023\n",
            "206   f    1  34.1  30.8       30.8    0  52.333  2023\n",
            "218   f    1  25.7  26.6       26.6    0   0.983  2023\n",
            "219   f    1  31.6  25.8       25.8    0  51.500  2023\n",
            "224   m    1  37.2  39.3       39.3    1   6.533  2023\n",
            "225   f    1  29.8  36.0       36.0    1  38.850  2023\n",
            "229   f    1  37.6  38.7       38.7    1  41.333  2023\n",
            "233   m    1  40.4  26.5       26.5    1  59.633  2023\n",
            "236   m    1  37.5  28.7       28.7    0  15.067  2023\n",
            "243   m    1  47.1  38.3       38.3    0  18.633  2023\n",
            "263   f    1  24.7  26.7       26.7    1  31.983  2023\n",
            "280   m    1  43.0  31.6       31.6    1  37.117  2023\n",
            "281   f    1  41.5  41.0       41.0    0  26.850  2023\n",
            "284   m    1  46.9  38.7       38.7    0  40.467  2023\n",
            "288   f    1  30.6  29.8       29.8    0   0.233  2023\n",
            "291   m    1  35.6  27.6       27.6    1  31.933  2023\n"
          ]
        }
      ],
      "source": [
        "# store results in the new data frame with the name \"selected_data\"\n",
        "selected_data = data[(data['city'] == \"1\") & (data['bmi'] > 25) & (data['sport'] <= 60)]\n",
        "print(selected_data)\n"
      ]
    },
    {
      "cell_type": "markdown",
      "metadata": {
        "id": "Y5edsi7NjcTI"
      },
      "source": [
        "## Exercise 11\n",
        "\n",
        "---\n",
        "\n",
        "\n",
        "Sort **females in age 18 to 30** by **sport** in descending order."
      ]
    },
    {
      "cell_type": "code",
      "execution_count": 25,
      "metadata": {
        "id": "zDoEd5VfF8ay"
      },
      "outputs": [
        {
          "data": {
            "text/plain": [
              "(54, 8)"
            ]
          },
          "execution_count": 25,
          "metadata": {},
          "output_type": "execute_result"
        }
      ],
      "source": [
        "# Hint: check the \"sort_values\" function\n",
        "sorted_females = (data[(data[\"sex\"] == 'f') & (data[\"age\"] >= 18) & (data[\"age\"] <= 30)]).sort_values(\"sport\", ascending=False)\n",
        "\n",
        "sorted_females.shape\n"
      ]
    },
    {
      "cell_type": "markdown",
      "metadata": {
        "id": "TTCrPSrBjhoC"
      },
      "source": [
        "## Exercise 12\n",
        "\n",
        "---\n",
        "\n",
        "\n",
        "Which city has the **highest** and which city has the **lowest** average BMI score?"
      ]
    },
    {
      "cell_type": "code",
      "execution_count": 26,
      "metadata": {
        "id": "5rugLXdBjhys"
      },
      "outputs": [
        {
          "name": "stdout",
          "output_type": "stream",
          "text": [
            "Highest avg bmi: city 3\n",
            "Lowest avg bmi: city 1\n"
          ]
        }
      ],
      "source": [
        "# Hint: returns the mean of the values in \"bmi\", grouped by the values in \"city\"\n",
        "\n",
        "city_mean = data2.groupby(\"city\")[\"bmi\"].mean()\n",
        "print(f\"Highest avg bmi: city {city_mean.idxmax()}\")\n",
        "print(f\"Lowest avg bmi: city {city_mean.idxmin()}\")"
      ]
    },
    {
      "cell_type": "markdown",
      "metadata": {
        "id": "L5CGhoqnGJxO"
      },
      "source": [
        "# 8.&nbsp;Data Analysis"
      ]
    },
    {
      "cell_type": "markdown",
      "metadata": {
        "id": "w3WBk1H0nVMg"
      },
      "source": [
        "## Exercise 13\n",
        "\n",
        "---\n",
        "\n",
        "\n",
        "Which attributes are **correlated**?"
      ]
    },
    {
      "cell_type": "code",
      "execution_count": 27,
      "metadata": {
        "id": "RerXQ-fSGJ8M"
      },
      "outputs": [
        {
          "name": "stdout",
          "output_type": "stream",
          "text": [
            "       city   age   bmi  sport  time\n",
            "city   1.00  0.16  0.16  -0.05 -0.01\n",
            "age    0.16  1.00  0.79   0.01  0.05\n",
            "bmi    0.16  0.79  1.00   0.04  0.06\n",
            "sport -0.05  0.01  0.04   1.00  0.01\n",
            "time  -0.01  0.05  0.06   0.01  1.00\n"
          ]
        }
      ],
      "source": [
        "# Hint: check \"corr()\" function\n",
        "numeric_data = data2.select_dtypes(include=['float64', 'int64'])\n",
        "correlated_data = numeric_data.corr().round(2)\n",
        "print(correlated_data)\n",
        "\n"
      ]
    },
    {
      "cell_type": "markdown",
      "metadata": {
        "id": "uB3CJRWhn4S1"
      },
      "source": [
        "## Exercise 14\n",
        "\n",
        "---\n",
        "\n",
        "\n",
        "Is the difference in BMI scores between **men and women** statistically **significant**?\n",
        "\n",
        "Firstly, define a function to calculate the statistic test and then use it to answer the question.\n",
        "\n",
        "Note: you can access the API for suitable statistical tests [HERE](https://docs.scipy.org/doc/scipy/reference/generated/scipy.stats.t.html)."
      ]
    },
    {
      "cell_type": "code",
      "execution_count": 28,
      "metadata": {
        "id": "g4p1Yehcn4cJ"
      },
      "outputs": [
        {
          "name": "stdout",
          "output_type": "stream",
          "text": [
            "t-test (equal variance):\n",
            " t-stat: -0.12505426518232376\n",
            " p-value: 0.9005779742624329\n",
            "statistic=3.9853984945530807, pvalue=0.019626533247105442\n"
          ]
        }
      ],
      "source": [
        "# Hint 1: import \"SciPy\" library and implement student's t-test by \"scipy.stats.t\"\n",
        "# Hint 2: if the variance ratio is less than 4:1, so the variance is equal.\n",
        "from scipy import stats\n",
        "\n",
        "def t_test_bmi(group1_bmi, group2_bmi):\n",
        "    var_men = np.var(group1_bmi, ddof=1)\n",
        "    var_women = np.var(group2_bmi, ddof=1)\n",
        "\n",
        "    var_ratio = var_men / var_women if var_men > var_women else var_women / var_men\n",
        "\n",
        "    if var_ratio < 4:\n",
        "        t_stat, p_val = stats.ttest_ind(group1_bmi, group2_bmi, equal_var=True)\n",
        "        test_type = \"t-test (equal variance)\"\n",
        "    else:\n",
        "        t_stat, p_val = stats.ttest_ind(group1_bmi, group2_bmi, equal_var=False)\n",
        "        test_type = \"t-test (unequal variance)\"\n",
        "\n",
        "    return t_stat, p_val, test_type\n",
        "\n",
        "\n",
        "men_bmi = data[data[\"sex\"] == 'm'][\"bmi\"]\n",
        "women_bmi = data[data[\"sex\"] == 'f'][\"bmi\"]\n",
        "\n",
        "t_stat, p_val, test_type = t_test_bmi(men_bmi, women_bmi)\n",
        "\n",
        "print(f\"{test_type}:\\n t-stat: {t_stat}\\n p-value: {p_val}\")\n",
        "\n",
        "# Anova test - cities\n",
        "city1 = data2[data2[\"city\"] == 1][\"bmi\"].dropna()\n",
        "city2 = data2[data2[\"city\"] == 2][\"bmi\"].dropna()\n",
        "city3 = data2[data2[\"city\"] == 3][\"bmi\"].dropna()\n",
        "\n",
        "get_anova_t = lambda *groups: stats.f_oneway(*groups)\n",
        "\n",
        "anova_res = stats.f_oneway(city1, city2, city3)\n",
        "\n",
        "print(f\"statistic={anova_res.statistic}, pvalue={anova_res.pvalue}\")\n"
      ]
    },
    {
      "cell_type": "markdown",
      "metadata": {
        "id": "QPE_5qQVn4mZ"
      },
      "source": [
        "## Exercise 15\n",
        "\n",
        "---\n",
        "\n",
        "\n",
        "Is the difference in BMI scores of ages between **18 to 25** and age between **45 to 55** statistically **significant**?\n",
        "\n",
        "*   Expected output:\n",
        "\n",
        "        pvalue = 5.900678573659376e-26"
      ]
    },
    {
      "cell_type": "code",
      "execution_count": 29,
      "metadata": {
        "id": "7PlKXP_Yn4wJ"
      },
      "outputs": [
        {
          "name": "stdout",
          "output_type": "stream",
          "text": [
            "t-test (equal variance) t-stat: -16.74965431693452, pvalue: 1.5270752930269887e-26\n"
          ]
        }
      ],
      "source": [
        "# use the previous function\n",
        "young = data[(data[\"age\"] > 18) & (data[\"age\"] < 25)][\"bmi\"].dropna()\n",
        "old = data[(data[\"age\"] > 45) & (data[\"age\"] < 55)][\"bmi\"].dropna()\n",
        "\n",
        "t_stat, p_val, test_type = t_test_bmi(young, old)\n",
        "print(f\"{test_type} t-stat: {t_stat}, pvalue: {p_val}\")"
      ]
    },
    {
      "cell_type": "markdown",
      "metadata": {
        "id": "H8pwNGTRn-Fh"
      },
      "source": [
        "## Exercise 16\n",
        "\n",
        "---\n",
        "\n",
        "Is the difference in BMI scores between cities statistically **significant**?\n",
        "\n",
        "Firstly, define a **new function** to calculate the statistic test and then use it to answer the question.\n",
        "\n",
        "Note: you can access the API for suitable statistical tests [HERE](https://docs.scipy.org/doc/scipy/reference/generated/scipy.stats.f_oneway.html).\n",
        "\n",
        "*   Expected output:\n",
        "\n",
        "        pvalue = 0.1543449952170188"
      ]
    },
    {
      "cell_type": "code",
      "execution_count": 30,
      "metadata": {
        "id": "j8LgiZjAn-bn"
      },
      "outputs": [
        {
          "name": "stdout",
          "output_type": "stream",
          "text": [
            "1.9480348079516598 0.1453906714736365\n"
          ]
        }
      ],
      "source": [
        "# Hint: implement the one-way ANOVA test by \"scipy.stats.f_oneway\"\n",
        "\n",
        "data_group5 = data[data[\"city\"] == \"1\"][\"bmi\"]\n",
        "data_group6 = data[data[\"city\"] == \"2\"][\"bmi\"]\n",
        "data_group7 = data[data[\"city\"] == \"3\"][\"bmi\"]\n",
        "\n",
        "res = stats.f_oneway(data_group5, data_group6, data_group7)\n",
        "print(res.statistic, res.pvalue)\n",
        "\n",
        "\n"
      ]
    },
    {
      "cell_type": "markdown",
      "metadata": {
        "id": "KbsOltGkGhEr"
      },
      "source": [
        "# 9.&nbsp;Data Visualization"
      ]
    },
    {
      "cell_type": "markdown",
      "metadata": {
        "id": "GTdKyH3puC82"
      },
      "source": [
        "## Exercise 17\n",
        "\n",
        "---\n",
        "\n",
        "\n",
        "Plot a **scatter plot** for \"age\" and \"bmi\" using **matplotlib** [API](https://matplotlib.org/stable/api/_as_gen/matplotlib.pyplot.scatter.html). You can see some practical examples [HERE](https://www.geeksforgeeks.org/matplotlib-pyplot-scatter-in-python/)."
      ]
    },
    {
      "cell_type": "code",
      "execution_count": 37,
      "metadata": {
        "id": "3_Urqd-QGhOR"
      },
      "outputs": [
        {
          "data": {
            "image/png": "[encoded data removed]",
            "text/plain": [
              "<Figure size 640x480 with 1 Axes>"
            ]
          },
          "metadata": {},
          "output_type": "display_data"
        }
      ],
      "source": [
        "# first import matplotlib\n",
        "import matplotlib.pyplot as plt\n",
        "\n",
        "x = data[\"age\"]\n",
        "y = data[\"bmi\"]\n",
        "\n",
        "plt.scatter(x, y, c =\"yellow\",\n",
        "            linewidths = 1,\n",
        "            marker =\".\",\n",
        "            edgecolor =\"blue\",\n",
        "            s = 28)\n",
        "\n",
        "plt.xlabel(\"AGE\",fontsize=12)\n",
        "plt.ylabel(\"BMI\",fontsize=12)\n",
        "plt.title(\"DATASET\",fontsize=12)\n",
        "plt.show()"
      ]
    },
    {
      "cell_type": "markdown",
      "metadata": {
        "id": "LaD8XruLu_DL"
      },
      "source": [
        "## Exercise 18\n",
        "\n",
        "---\n",
        "\n",
        "\n",
        "Plot a **bar chart** for average \"sport\" per \"city\" using matplotlib [API](https://matplotlib.org/stable/api/_as_gen/matplotlib.pyplot.bar.html). You can see some practical examples [HERE](https://www.geeksforgeeks.org/bar-plot-in-matplotlib/)."
      ]
    },
    {
      "cell_type": "code",
      "execution_count": 52,
      "metadata": {
        "id": "D2OQ4wyVu_MS"
      },
      "outputs": [
        {
          "data": {
            "image/png": "[encoded data removed]",
            "text/plain": [
              "<Figure size 800x500 with 1 Axes>"
            ]
          },
          "metadata": {},
          "output_type": "display_data"
        }
      ],
      "source": [
        "# try to follow the standards of a scientific figure (title, scale,...)\n",
        "mean_sport_per_city = data2.groupby(\"city\")[\"sport\"].mean()\n",
        "\n",
        "plt.figure(figsize=(8,5))\n",
        "mean_sport_per_city.plot(kind=\"bar\", color=\"skyblue\")\n",
        "\n",
        "# plt.grid(True)\n",
        "plt.title(\"Average sport per city\", fontsize=16)\n",
        "plt.xlabel(\"City\", fontsize=12)\n",
        "plt.ylabel(\"Avg. sport\", fontsize=12)\n",
        "\n",
        "plt.xticks(rotation=0)\n",
        "plt.show()\n"
      ]
    },
    {
      "cell_type": "markdown",
      "metadata": {
        "id": "vz7kcpDtu_61"
      },
      "source": [
        "## Exercise 19\n",
        "\n",
        "---\n",
        "\n",
        "\n",
        "Plot a **box plot** for \"bmi\" per \"city\" to compare results (3 box plots in the one image) using matplotlib [API](https://matplotlib.org/stable/api/_as_gen/matplotlib.pyplot.boxplot.html). You can see some practical examples [HERE](https://www.geeksforgeeks.org/box-plot-in-python-using-matplotlib/)."
      ]
    },
    {
      "cell_type": "code",
      "execution_count": 42,
      "metadata": {
        "id": "eLh3BtJIvAG_"
      },
      "outputs": [
        {
          "data": {
            "image/png": "[encoded data removed]",
            "text/plain": [
              "<Figure size 800x600 with 1 Axes>"
            ]
          },
          "metadata": {},
          "output_type": "display_data"
        }
      ],
      "source": [
        "# try to make the colors and fonts legible\n",
        "\n",
        "plt.figure(figsize=(8,6))\n",
        "plt.boxplot([city1, city2, city3], patch_artist=True, tick_labels=[\"City 1\", \"City 2\", \"City 3\"])\n",
        "\n",
        "plt.title(\"BMI Distribution per city\", fontsize=16)\n",
        "plt.xlabel(\"City\", fontsize=12)\n",
        "plt.ylabel(\"BMI\", fontsize=12)\n",
        "\n",
        "plt.show()"
      ]
    },
    {
      "cell_type": "markdown",
      "metadata": {
        "id": "TnNFwTuHGmRS"
      },
      "source": [
        "# 10.&nbsp;Data Exporting"
      ]
    },
    {
      "cell_type": "markdown",
      "metadata": {
        "id": "4QeI_BzwzE8Z"
      },
      "source": [
        "## Exercise 20\n",
        "\n",
        "---\n",
        "\n",
        "\n",
        "Save **box plot** image in **SVG** format using matplotlib [API](https://matplotlib.org/stable/api/_as_gen/matplotlib.pyplot.savefig.html). You can see practical example [HERE](https://www.geeksforgeeks.org/how-to-save-a-plot-to-a-file-using-matplotlib/). Next, write data after cleaning in **CSV** format  using pandas [API](https://pandas.pydata.org/docs/reference/api/pandas.DataFrame.to_csv.html). You can see some practical examples [HERE](https://www.geeksforgeeks.org/saving-a-pandas-dataframe-as-a-csv/)."
      ]
    },
    {
      "cell_type": "code",
      "execution_count": 61,
      "metadata": {
        "id": "LoFzIMlCGmdW"
      },
      "outputs": [
        {
          "data": {
            "text/plain": [
              "<Figure size 640x480 with 0 Axes>"
            ]
          },
          "metadata": {},
          "output_type": "display_data"
        }
      ],
      "source": [
        "# choose a meaningful name for the file names.\n",
        "\n",
        "\n",
        "plt.savefig(r'bmi_boxplot_per_city.svg', format='svg')\n",
        "data2.to_csv(r'cleaned_bmi_data.csv', index=False)\n",
        "\n",
        "\n"
      ]
    },
    {
      "cell_type": "markdown",
      "metadata": {
        "id": "RDTpEt4e1S87"
      },
      "source": [
        "Congratulations! You finished this course successfully."
      ]
    },
    {
      "cell_type": "markdown",
      "metadata": {
        "id": "NTBpMKTA1n9X"
      },
      "source": [
        "# References and Resources:\n",
        "\n",
        "1. You can continue your learning through more complex projects in [Kaggle](https://www.kaggle.com/).\n",
        "\n",
        "2. You can also have access to neuroscience datasets in [CRCNS](https://crcns.org/data-sets)."
      ]
    }
  ],
  "metadata": {
    "colab": {
      "provenance": [],
      "toc_visible": true
    },
    "kernelspec": {
      "display_name": "Python 3",
      "name": "python3"
    },
    "language_info": {
      "codemirror_mode": {
        "name": "ipython",
        "version": 3
      },
      "file_extension": ".py",
      "mimetype": "text/x-python",
      "name": "python",
      "nbconvert_exporter": "python",
      "pygments_lexer": "ipython3",
      "version": "3.12.3"
    }
  },
  "nbformat": 4,
  "nbformat_minor": 0
}
