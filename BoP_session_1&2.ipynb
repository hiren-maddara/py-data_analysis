{
  "cells": [
    {
      "cell_type": "markdown",
      "metadata": {
        "id": "GaXJaExkbA12"
      },
      "source": [
        "# BASICS OF PYTHON | SESSION 1&2\n",
        "\n",
        "---\n",
        "Sina Shafiezadeh | October 2024\n",
        "---\n"
      ]
    },
    {
      "cell_type": "markdown",
      "metadata": {
        "id": "RMr2OpHBbFQE"
      },
      "source": [
        "# FAQ\n",
        "\n",
        "1.   what is programming?\n",
        "\n",
        "  Programming refers to the process of designing and writing instructions that a computer can understand and execute. It involves creating code using a specific programming language to create software programs, applications, and scripts that can perform various tasks.\n",
        "\n",
        "2.   what is object-oriented programming?\n",
        "\n",
        "  Object-oriented programming (OOP) is a programming paradigm that is based on the concept of objects, which can contain data and methods that act on that data. In OOP, objects are instances of classes, which define the structure and behavior of the objects.\n",
        "\n",
        "3. what is Python?\n",
        "\n",
        "  Python is a high-level, interpreted programming language that is widely used for web development, scientific computing, data analysis, artificial intelligence, and many other applications. It was created by Guido van Rossum and first released in 1991.\n",
        "\n",
        "4. why should I learn Python?\n",
        "\n",
        "*   Versatility: Python can be used for a wide range of applications, including web development, scientific computing, data analysis, artificial intelligence, machine learning, and many more.\n",
        "*   Simplicity: Python has a simple syntax and is easy to read and write, making it a good choice for beginners.\n",
        "*   Large community: Python has a large and active community of developers who create third-party libraries and tools, making it easy to find solutions to common problems.\n",
        "*   Open-source: Python is free and open-source, which means that you can use it for any purpose without having to pay for it.\n",
        "*   Simplicity\n",
        "\n",
        "5. how can I coding Python?\n",
        "\n",
        "*   Go to the official [Python](https://www.python.org/downloads/) website and the [Anaconda](https://www.anaconda.com/) website.\n",
        "*   Or using the [Google Colab](https://colab.research.google.com/).\n",
        "*   Or any other tools that you want.\n",
        "\n",
        "6. what is Google Colab?\n",
        "\n",
        "  Google Colab (short for Collaboratory) is a free online platform provided by Google that allows users to run Python code and execute Jupyter notebooks directly in the cloud. It is a popular tool for data scientists, machine learning engineers, and researchers who want to develop and experiment with machine learning models without the need for specialized hardware.\n",
        "\n",
        "7. Do you have more questions?\n",
        "\n",
        "  Ask from [ChatGPT](https://chat.openai.com/chat) or [Gemini](https://gemini.google.com/app) or any other generative tools you like as I asked to provide previous answers, connect with others in [stackoverflow](https://stackoverflow.com/), search your concerns in Google, and watch a lot of useful videos on Youtube for free!"
      ]
    },
    {
      "cell_type": "markdown",
      "metadata": {
        "id": "XDfuoGY_ge2W"
      },
      "source": [
        "# Content\n",
        "\n",
        "\n",
        "*   Day 1:\n",
        "\n",
        "  *   Create Variables\n",
        "  *   Conditional Statements\n",
        "  *   Loops\n",
        "\n",
        "*   Day 2:\n",
        "\n",
        "  *   Data Structure\n",
        "  *   Algorithm\n",
        "\n",
        "*   Day 3:\n",
        "\n",
        "  *   Data Importing\n",
        "  *   Data Cleaning\n",
        "  *   Data Exploring\n",
        "\n",
        "*   Day 4:\n",
        "\n",
        "  *   Data Analysis\n",
        "  *   Data Visualization\n",
        "  *   Data Exporting\n",
        "\n",
        "*   Day 5:\n",
        "\n",
        "  *   Exam\n",
        "\n"
      ]
    },
    {
      "cell_type": "markdown",
      "metadata": {
        "id": "XrBnNWjR_9YY"
      },
      "source": [
        "LET'S START!"
      ]
    },
    {
      "cell_type": "markdown",
      "metadata": {
        "id": "VZDw0kaqOIYp"
      },
      "source": [
        "# 1.&nbsp;Create Variables"
      ]
    },
    {
      "cell_type": "markdown",
      "metadata": {
        "id": "lUPizUN2BZMT"
      },
      "source": [
        "Create a variable with the name `course` and assign the value `\"Basic of Python\"` after using the `=` sign to the computer to remember information."
      ]
    },
    {
      "cell_type": "code",
      "execution_count": 855,
      "metadata": {
        "id": "Zdahzv17-e7M"
      },
      "outputs": [],
      "source": [
        "course = \"Basic of Python\""
      ]
    },
    {
      "cell_type": "markdown",
      "metadata": {
        "id": "yW3Ni9t9Br3G"
      },
      "source": [
        "we can expand variable names with **Snake Case** format for naming that each word is separated by an underscore character."
      ]
    },
    {
      "cell_type": "code",
      "execution_count": 856,
      "metadata": {
        "id": "qBP4JjAe9atx"
      },
      "outputs": [],
      "source": [
        "my_course = \"Basic of Python\""
      ]
    },
    {
      "cell_type": "markdown",
      "metadata": {
        "id": "KW2i2bdVGQh9"
      },
      "source": [
        "or using **Camel Case** format for naming that each word, except the first, starts with a capital letter."
      ]
    },
    {
      "cell_type": "code",
      "execution_count": 857,
      "metadata": {
        "id": "c0QTDmpJGu_M"
      },
      "outputs": [],
      "source": [
        "myCourse = \"Basic of Python\""
      ]
    },
    {
      "cell_type": "markdown",
      "metadata": {
        "id": "6ze99JwjzV8j"
      },
      "source": [
        "or using **Pascal Case** format that each word starts with a capital letter."
      ]
    },
    {
      "cell_type": "code",
      "execution_count": 858,
      "metadata": {
        "id": "WsYDV87_zWDy"
      },
      "outputs": [],
      "source": [
        "MyCourse = \"Basic of Python\""
      ]
    },
    {
      "cell_type": "markdown",
      "metadata": {
        "id": "hMyxFL3EHR_W"
      },
      "source": [
        "Be careful! Python is a **case-sensitive** programming language, so `MyCourse` and `mycourse` are two different variables."
      ]
    },
    {
      "cell_type": "code",
      "execution_count": 859,
      "metadata": {
        "colab": {
          "base_uri": "https://localhost:8080/",
          "height": 141
        },
        "id": "80ju0mKIHSGS",
        "outputId": "e2299971-e096-41d4-a7ed-b5dc4d2b3007"
      },
      "outputs": [
        {
          "data": {
            "text/plain": [
              "'Basic of Python'"
            ]
          },
          "execution_count": 859,
          "metadata": {},
          "output_type": "execute_result"
        }
      ],
      "source": [
        "my_course"
      ]
    },
    {
      "cell_type": "markdown",
      "metadata": {
        "id": "QPJT5F8kGy0y"
      },
      "source": [
        "Besides, we can't use **space** for the variable's name."
      ]
    },
    {
      "cell_type": "code",
      "execution_count": 860,
      "metadata": {
        "colab": {
          "base_uri": "https://localhost:8080/",
          "height": 106
        },
        "id": "YjDP5MWdGy_K",
        "outputId": "9b1f48c0-4571-4687-dcbf-a858ebd3050b"
      },
      "outputs": [],
      "source": [
        "MyCourse = \"Basic of Python\""
      ]
    },
    {
      "cell_type": "markdown",
      "metadata": {
        "id": "EKJLFxlXGzIc"
      },
      "source": [
        "It's better to choose a variable's name to help us understand what's inside a variable. In our case, it's easier to change the variable's name to `course_name`."
      ]
    },
    {
      "cell_type": "code",
      "execution_count": 861,
      "metadata": {
        "id": "Zn-fOxZaGzQW"
      },
      "outputs": [],
      "source": [
        "course_name = \"Basic of Python\""
      ]
    },
    {
      "cell_type": "markdown",
      "metadata": {
        "id": "ruegGLsgGzX5"
      },
      "source": [
        "Finally, we can also define a variable name using **numbers**. It sometimes could be very useful."
      ]
    },
    {
      "cell_type": "code",
      "execution_count": 862,
      "metadata": {
        "id": "sgr7ndwCGze0"
      },
      "outputs": [],
      "source": [
        "course_1_name = \"Basic of Python\"\n",
        "course_2_name = \"Cognitive Neuroscience\""
      ]
    },
    {
      "cell_type": "markdown",
      "metadata": {
        "id": "sKHkHaWIjQI-"
      },
      "source": [
        "Or mix with variable type, in this case, means string (str)"
      ]
    },
    {
      "cell_type": "code",
      "execution_count": 863,
      "metadata": {
        "id": "HEXNUvk4jQ5T"
      },
      "outputs": [],
      "source": [
        "course_name_str = \"Basic of Python\""
      ]
    },
    {
      "cell_type": "markdown",
      "metadata": {
        "id": "ZbpOW8bNGzmP"
      },
      "source": [
        "Great! Let's look at the value on the right side. We store words in double quotes `\"   \"`, therefore it is a **string**. Strings can contain all sorts of letters and symbols."
      ]
    },
    {
      "cell_type": "code",
      "execution_count": 864,
      "metadata": {
        "id": "95-DVGRmGzsk"
      },
      "outputs": [],
      "source": [
        "course_name = \"Basic of Python\""
      ]
    },
    {
      "cell_type": "markdown",
      "metadata": {
        "id": "Pk9TcoCEZ-Yz"
      },
      "source": [
        "We ask Python to display a value by `print()` in the console, also known as the shell."
      ]
    },
    {
      "cell_type": "code",
      "execution_count": 865,
      "metadata": {
        "colab": {
          "base_uri": "https://localhost:8080/"
        },
        "id": "cfD0XTkIZ-oU",
        "outputId": "98a1d131-0090-4c90-d51e-69bfa6d60bdb"
      },
      "outputs": [
        {
          "name": "stdout",
          "output_type": "stream",
          "text": [
            "Basic of Python\n"
          ]
        }
      ],
      "source": [
        "print(course_name)"
      ]
    },
    {
      "cell_type": "markdown",
      "metadata": {
        "id": "Jj_GXy5pG0A2"
      },
      "source": [
        "We can repeat `print()` as often as we want and display every value on a line."
      ]
    },
    {
      "cell_type": "code",
      "execution_count": 866,
      "metadata": {
        "colab": {
          "base_uri": "https://localhost:8080/"
        },
        "id": "6eoudkifG0H_",
        "outputId": "3682f552-3b2a-4a28-e503-980cbed7a54b"
      },
      "outputs": [
        {
          "name": "stdout",
          "output_type": "stream",
          "text": [
            "=================================\n",
            "The course's name is:\n",
            "Basic of Python\n",
            "=================================\n"
          ]
        }
      ],
      "source": [
        "print(\"=================================\")\n",
        "print(\"The course's name is:\")\n",
        "print(course_name)\n",
        "print(\"=================================\")"
      ]
    },
    {
      "cell_type": "markdown",
      "metadata": {
        "id": "m7FF9zHJGzzO"
      },
      "source": [
        "Before continuing this part, let's look at an important point. Python is an **interpreted language** and It means code is run there line by line. Please correct the following code."
      ]
    },
    {
      "cell_type": "code",
      "execution_count": 867,
      "metadata": {
        "colab": {
          "base_uri": "https://localhost:8080/",
          "height": 159
        },
        "id": "4n7NMGFkGz5Y",
        "outputId": "f120c599-cd73-4f43-81c4-f3361bcf0046"
      },
      "outputs": [
        {
          "name": "stdout",
          "output_type": "stream",
          "text": [
            "University of Padova\n"
          ]
        }
      ],
      "source": [
        "universiy_name = \"University of Padova\"\n",
        "print(universiy_name)"
      ]
    },
    {
      "cell_type": "markdown",
      "metadata": {
        "id": "K8-h5SRaG0Os"
      },
      "source": [
        "We can use this point to update variables. Please guess what will display in the console before running the code.\n"
      ]
    },
    {
      "cell_type": "code",
      "execution_count": 868,
      "metadata": {
        "colab": {
          "base_uri": "https://localhost:8080/"
        },
        "id": "0EiIHKLRG0VX",
        "outputId": "6dbecd0b-7413-4974-a9a6-b474c2b486a4"
      },
      "outputs": [
        {
          "name": "stdout",
          "output_type": "stream",
          "text": [
            "Cognitive Neuroscience\n",
            "Basic of Python\n"
          ]
        }
      ],
      "source": [
        "course_name = \"Cognitive Neuroscience\"\n",
        "print(course_name)\n",
        "course_name = \"Basic of Python\"\n",
        "print(course_name)"
      ]
    },
    {
      "cell_type": "markdown",
      "metadata": {
        "id": "5cxHHeh-d6Qa"
      },
      "source": [
        "We can add string values together with the `+` sign."
      ]
    },
    {
      "cell_type": "code",
      "execution_count": 869,
      "metadata": {
        "colab": {
          "base_uri": "https://localhost:8080/"
        },
        "id": "8iahNpRjd6XP",
        "outputId": "31858e68-f1a6-4102-f51e-b8744f084383"
      },
      "outputs": [
        {
          "name": "stdout",
          "output_type": "stream",
          "text": [
            "Course name: Basic of Python\n",
            "Course name: Basic of Python\n"
          ]
        }
      ],
      "source": [
        "print(\"Course name: \" + \"Basic of Python\")\n",
        "print(\"Course name: \" + course_name)"
      ]
    },
    {
      "cell_type": "markdown",
      "metadata": {
        "id": "c3BvfGYrfVRi"
      },
      "source": [
        "Let's cross strings. We can store a **number** in a variable without using `\"   \"`."
      ]
    },
    {
      "cell_type": "code",
      "execution_count": 870,
      "metadata": {
        "id": "PkOhFw34fVd7"
      },
      "outputs": [],
      "source": [
        "course_score = 80"
      ]
    },
    {
      "cell_type": "markdown",
      "metadata": {
        "id": "fCJk_GovgHVc"
      },
      "source": [
        "Add numbers together by `+`."
      ]
    },
    {
      "cell_type": "code",
      "execution_count": 871,
      "metadata": {
        "colab": {
          "base_uri": "https://localhost:8080/"
        },
        "id": "X3Jz_kO6gHdS",
        "outputId": "d7058c8a-767d-477a-8b05-e6a20d1087b0"
      },
      "outputs": [
        {
          "name": "stdout",
          "output_type": "stream",
          "text": [
            "90\n"
          ]
        }
      ],
      "source": [
        "course_score = 80 + 10\n",
        "print(course_score)"
      ]
    },
    {
      "cell_type": "markdown",
      "metadata": {
        "id": "_q9vI3Zkg2Ac"
      },
      "source": [
        "Subtract the numbers by `-`."
      ]
    },
    {
      "cell_type": "code",
      "execution_count": 872,
      "metadata": {
        "colab": {
          "base_uri": "https://localhost:8080/"
        },
        "id": "hCA3irdAg2IE",
        "outputId": "ebbc7ec8-1716-46e9-ef80-7a774f4c500b"
      },
      "outputs": [
        {
          "name": "stdout",
          "output_type": "stream",
          "text": [
            "70\n"
          ]
        }
      ],
      "source": [
        "course_score = 80 - 10\n",
        "print(course_score)"
      ]
    },
    {
      "cell_type": "markdown",
      "metadata": {
        "id": "ubNJLM4RhYnf"
      },
      "source": [
        "Multiply numbers by `*`."
      ]
    },
    {
      "cell_type": "code",
      "execution_count": 873,
      "metadata": {
        "colab": {
          "base_uri": "https://localhost:8080/"
        },
        "id": "AjCD9lp1hYwe",
        "outputId": "3a78ae3c-ed1f-489f-906c-f6dfd83e8653"
      },
      "outputs": [
        {
          "name": "stdout",
          "output_type": "stream",
          "text": [
            "120.0\n"
          ]
        }
      ],
      "source": [
        "course_score = 80 * 1.5\n",
        "print(course_score)"
      ]
    },
    {
      "cell_type": "markdown",
      "metadata": {
        "id": "qVmTsvRFhrU6"
      },
      "source": [
        "Or divided by `/`."
      ]
    },
    {
      "cell_type": "code",
      "execution_count": 874,
      "metadata": {
        "colab": {
          "base_uri": "https://localhost:8080/"
        },
        "id": "RVpdSzm4hrm5",
        "outputId": "bccf37af-d4aa-4367-b560-e5518ef3a746"
      },
      "outputs": [
        {
          "name": "stdout",
          "output_type": "stream",
          "text": [
            "10.0\n"
          ]
        }
      ],
      "source": [
        "course_score = 80 / 8\n",
        "print(course_score)"
      ]
    },
    {
      "cell_type": "markdown",
      "metadata": {
        "id": "gzRNDwkC1hTy"
      },
      "source": [
        "Modulus by `%`."
      ]
    },
    {
      "cell_type": "code",
      "execution_count": 875,
      "metadata": {
        "colab": {
          "base_uri": "https://localhost:8080/"
        },
        "id": "q8tzuQ9w1ha6",
        "outputId": "80564b6f-1b98-4046-8ea1-c65371a23981"
      },
      "outputs": [
        {
          "name": "stdout",
          "output_type": "stream",
          "text": [
            "3\n"
          ]
        }
      ],
      "source": [
        "course_score = 8 % 5\n",
        "print(course_score)"
      ]
    },
    {
      "cell_type": "markdown",
      "metadata": {
        "id": "J_3H9Z_hlnxr"
      },
      "source": [
        "Exponentiation by `**`."
      ]
    },
    {
      "cell_type": "code",
      "execution_count": 876,
      "metadata": {
        "colab": {
          "base_uri": "https://localhost:8080/"
        },
        "id": "5v1AAJIvln6Z",
        "outputId": "f91e8162-3185-46c4-f0ff-7a39ae3e9745"
      },
      "outputs": [
        {
          "name": "stdout",
          "output_type": "stream",
          "text": [
            "64\n"
          ]
        }
      ],
      "source": [
        "course_score = 8 ** 2\n",
        "print(course_score)"
      ]
    },
    {
      "cell_type": "markdown",
      "metadata": {
        "id": "-DOghdMhloCf"
      },
      "source": [
        "And floor division is calculated by `//`."
      ]
    },
    {
      "cell_type": "code",
      "execution_count": 877,
      "metadata": {
        "colab": {
          "base_uri": "https://localhost:8080/"
        },
        "id": "6vXPaZdHloKt",
        "outputId": "1bb507bf-3ef9-400f-9907-2f5671985e83"
      },
      "outputs": [
        {
          "name": "stdout",
          "output_type": "stream",
          "text": [
            "1\n"
          ]
        }
      ],
      "source": [
        "course_score = 8 // 5\n",
        "print(course_score)"
      ]
    },
    {
      "cell_type": "markdown",
      "metadata": {
        "id": "BmGJw6_uiLFx"
      },
      "source": [
        "Keep the variable's value and change only the console by manipulating the `print()`."
      ]
    },
    {
      "cell_type": "code",
      "execution_count": 878,
      "metadata": {
        "colab": {
          "base_uri": "https://localhost:8080/"
        },
        "id": "VvfIjYXHiLPK",
        "outputId": "64f40e40-9121-4059-a881-508e00a6ab1c"
      },
      "outputs": [
        {
          "name": "stdout",
          "output_type": "stream",
          "text": [
            "10.0\n",
            "80\n"
          ]
        }
      ],
      "source": [
        "course_score = 80\n",
        "print(course_score / 8)\n",
        "print(course_score)"
      ]
    },
    {
      "cell_type": "markdown",
      "metadata": {
        "id": "RrVsOjz0jBU8"
      },
      "source": [
        "Calculate results and store them in variables. Notice when we want to print a string and a number together in the `print()`, we must use `,` instead of `+` or using f-strings like `f\" {} \"` to add a variable in a string."
      ]
    },
    {
      "cell_type": "code",
      "execution_count": 879,
      "metadata": {
        "colab": {
          "base_uri": "https://localhost:8080/"
        },
        "id": "W9wNCTd5jBcw",
        "outputId": "29150b52-cdbb-4a17-9caa-d0979c0213f5"
      },
      "outputs": [
        {
          "name": "stdout",
          "output_type": "stream",
          "text": [
            "course score:  85\n",
            "course score:  85\n"
          ]
        }
      ],
      "source": [
        "homework_1_score = 40\n",
        "homework_2_score = 45\n",
        "course_score = homework_1_score + homework_2_score\n",
        "print(\"course score: \" , course_score)\n",
        "print(f\"course score:  {course_score}\")"
      ]
    },
    {
      "cell_type": "markdown",
      "metadata": {
        "id": "-TLMIhR-W1CI"
      },
      "source": [
        "Here is a question. How can we understand the type of our variable? the answer is using `type()`."
      ]
    },
    {
      "cell_type": "code",
      "execution_count": 880,
      "metadata": {
        "colab": {
          "base_uri": "https://localhost:8080/"
        },
        "id": "OMHZfi7-W1K_",
        "outputId": "b4e8c883-2df4-4636-9a6e-883bb96006d9"
      },
      "outputs": [
        {
          "name": "stdout",
          "output_type": "stream",
          "text": [
            "<class 'int'>\n"
          ]
        }
      ],
      "source": [
        "course_score = 80\n",
        "print(type(course_score))"
      ]
    },
    {
      "cell_type": "code",
      "execution_count": 881,
      "metadata": {
        "colab": {
          "base_uri": "https://localhost:8080/"
        },
        "id": "Il7pLU1xXeCq",
        "outputId": "02476948-05d0-479d-95a2-f97e6dba5c48"
      },
      "outputs": [
        {
          "name": "stdout",
          "output_type": "stream",
          "text": [
            "<class 'float'>\n"
          ]
        }
      ],
      "source": [
        "course_score = 80.0\n",
        "print(type(course_score))"
      ]
    },
    {
      "cell_type": "code",
      "execution_count": 882,
      "metadata": {
        "colab": {
          "base_uri": "https://localhost:8080/"
        },
        "id": "NVs8hvdkXeFI",
        "outputId": "797a7f76-107b-48dc-c8b4-55af66b73d0a"
      },
      "outputs": [
        {
          "name": "stdout",
          "output_type": "stream",
          "text": [
            "<class 'str'>\n"
          ]
        }
      ],
      "source": [
        "course_score = \"80\"\n",
        "print(type(course_score))"
      ]
    },
    {
      "cell_type": "markdown",
      "metadata": {
        "id": "MBZ8wzMNXpYX"
      },
      "source": [
        "Another question: How can we specify a variable type? The answer is casting by `int()`, `float()`, and `str()`."
      ]
    },
    {
      "cell_type": "code",
      "execution_count": 883,
      "metadata": {
        "colab": {
          "base_uri": "https://localhost:8080/"
        },
        "id": "4PJ7js7AYJQD",
        "outputId": "2cc9f18a-fb08-4638-98a1-f53ec7fed9cd"
      },
      "outputs": [
        {
          "name": "stdout",
          "output_type": "stream",
          "text": [
            "course_1_score: 80 \t <class 'int'>\n",
            "course_2_score: 80 \t <class 'int'>\n",
            "course_3_score: 80 \t <class 'int'>\n",
            "course_4_score: 80.0 \t <class 'float'>\n",
            "course_5_score: 80.7 \t <class 'float'>\n",
            "course_6_score: 80.0 \t <class 'float'>\n",
            "course_7_score: 80.2 \t <class 'float'>\n",
            "course_8_score: 80 \t <class 'str'>\n",
            "course_9_score: 80.7 \t <class 'str'>\n"
          ]
        }
      ],
      "source": [
        "course_1_score = int(80)   # will be 80\n",
        "course_2_score = int(80.7) # will be 80 (not 81)\n",
        "course_3_score = int(\"80\") # will be 80\n",
        "\n",
        "course_4_score = float(80)   # will be 80.0\n",
        "course_5_score = float(80.7) # will be 80.7\n",
        "course_6_score = float(\"80\") # will be 80.0\n",
        "course_7_score = float(\"80.2\") # will be 80.2\n",
        "\n",
        "course_8_score = str(80)   # will be '80'\n",
        "course_9_score = str(80.7) # will be '80.7'\n",
        "\n",
        "print(\"course_1_score:\", course_1_score, \"\\t\", type(course_1_score)) # \"\\t\" add space between outputs\n",
        "print(\"course_2_score:\", course_2_score, \"\\t\", type(course_2_score))\n",
        "print(\"course_3_score:\", course_3_score, \"\\t\", type(course_3_score))\n",
        "print(\"course_4_score:\", course_4_score, \"\\t\", type(course_4_score))\n",
        "print(\"course_5_score:\", course_5_score, \"\\t\", type(course_5_score))\n",
        "print(\"course_6_score:\", course_6_score, \"\\t\", type(course_6_score))\n",
        "print(\"course_7_score:\", course_7_score, \"\\t\", type(course_7_score))\n",
        "print(\"course_8_score:\", course_8_score, \"\\t\", type(course_8_score))\n",
        "print(\"course_9_score:\", course_9_score, \"\\t\", type(course_9_score))"
      ]
    },
    {
      "cell_type": "markdown",
      "metadata": {
        "id": "4WJHE2RZs5E0"
      },
      "source": [
        "Before finishing this part, let's review two important general points. First, Python uses **indentation** to indicate a block of code. Indentation refers to the spaces at the beginning of a code line. Please correct the following code."
      ]
    },
    {
      "cell_type": "code",
      "execution_count": 884,
      "metadata": {
        "colab": {
          "base_uri": "https://localhost:8080/",
          "height": 106
        },
        "id": "VkQ9TGAptMD6",
        "outputId": "86ccca1c-e4b9-42b1-e4e9-0879e837199b"
      },
      "outputs": [
        {
          "name": "stdout",
          "output_type": "stream",
          "text": [
            "80\n"
          ]
        }
      ],
      "source": [
        "course_score = 80\n",
        "print(course_score)"
      ]
    },
    {
      "cell_type": "markdown",
      "metadata": {
        "id": "prZyn72XtlRl"
      },
      "source": [
        "Secondly, we can use `#` to add **comments** to our code. This helps with the readability and documentation of our code."
      ]
    },
    {
      "cell_type": "code",
      "execution_count": 885,
      "metadata": {
        "colab": {
          "base_uri": "https://localhost:8080/"
        },
        "id": "GGhZPQ7vtlaE",
        "outputId": "1275ed0c-4059-402f-f411-ab05a005e062"
      },
      "outputs": [
        {
          "name": "stdout",
          "output_type": "stream",
          "text": [
            "80\n"
          ]
        }
      ],
      "source": [
        "# the range of course scores is between 0 and 100\n",
        "course_score = 80\n",
        "print(course_score)"
      ]
    },
    {
      "cell_type": "markdown",
      "metadata": {
        "id": "433F9oOemKtk"
      },
      "source": [
        "That's it! Let's try all the previous points to develop your first exercise."
      ]
    },
    {
      "cell_type": "markdown",
      "metadata": {
        "id": "CkkLy6Kdm1wm"
      },
      "source": [
        "## Exercise 1 part 1\n",
        "\n",
        "---\n",
        "\n",
        "\n",
        "Calculate your BMI score and show your name and score in the console.\n",
        "\n",
        "*   Expected output 1: My name is Sara and my BMI score is 28.\n",
        "*   Expected output 2: My name is John and my BMI score is 22.\n",
        "\n",
        "\n",
        "\n"
      ]
    },
    {
      "cell_type": "code",
      "execution_count": 886,
      "metadata": {
        "id": "MpYcVRKxmLGa"
      },
      "outputs": [
        {
          "name": "stdout",
          "output_type": "stream",
          "text": [
            "My name is Hiren and my BMI score is 19.4\n"
          ]
        }
      ],
      "source": [
        "# BMI formula: weight (kg) / height**2 (m)\n",
        "\n",
        "weight = 65\n",
        "height = 1.83\n",
        "name = \"Hiren\"\n",
        "bmi = weight / height**2\n",
        "print(f\"My name is {name} and my BMI score is {bmi:.1f}\")\n"
      ]
    },
    {
      "cell_type": "markdown",
      "metadata": {
        "id": "1vNlnV3Q0SZJ",
        "notebookRunGroups": {
          "groupValue": "2"
        }
      },
      "source": [
        "Good job!\n",
        "\n",
        "Sometimes we need to show if a feature is switched on or off by using `True` and `False` values."
      ]
    },
    {
      "cell_type": "code",
      "execution_count": 887,
      "metadata": {
        "colab": {
          "base_uri": "https://localhost:8080/"
        },
        "id": "FOgesK8VM92w",
        "outputId": "773da7e4-03a1-4679-dc04-88b61d8db51f"
      },
      "outputs": [
        {
          "name": "stdout",
          "output_type": "stream",
          "text": [
            "True\n"
          ]
        }
      ],
      "source": [
        "calculated_bmi = True\n",
        "print(calculated_bmi)"
      ]
    },
    {
      "cell_type": "code",
      "execution_count": 888,
      "metadata": {
        "colab": {
          "base_uri": "https://localhost:8080/"
        },
        "id": "WmRf95szNpv6",
        "outputId": "8e57d6f3-ef82-452f-f427-27c741206e9b"
      },
      "outputs": [
        {
          "name": "stdout",
          "output_type": "stream",
          "text": [
            "False\n"
          ]
        }
      ],
      "source": [
        "calculated_bmi = False\n",
        "print(calculated_bmi)"
      ]
    },
    {
      "cell_type": "markdown",
      "metadata": {
        "id": "2-MX1aD8NxbY"
      },
      "source": [
        "Besides, we need to compare two values."
      ]
    },
    {
      "cell_type": "code",
      "execution_count": 889,
      "metadata": {
        "colab": {
          "base_uri": "https://localhost:8080/"
        },
        "id": "QzCXfZOkN6Xn",
        "outputId": "868e4787-013e-4846-d5c7-6a5b79d09d3e"
      },
      "outputs": [
        {
          "name": "stdout",
          "output_type": "stream",
          "text": [
            "True\n",
            "False\n",
            "False\n",
            "False\n",
            "True\n",
            "True\n"
          ]
        }
      ],
      "source": [
        "bmi_score = 28\n",
        "print(bmi_score == 28) # equal\n",
        "print(bmi_score != 28) # not equal\n",
        "print(bmi_score > 28)  # greater than\n",
        "print(bmi_score < 28)  # less than\n",
        "print(bmi_score >= 28) # greater than or equal to\n",
        "print(bmi_score <= 28) # less than or equal to"
      ]
    },
    {
      "cell_type": "markdown",
      "metadata": {
        "id": "7wi_0TEKQcr8"
      },
      "source": [
        "Maybe logical operators to combine conditional statements."
      ]
    },
    {
      "cell_type": "code",
      "execution_count": 890,
      "metadata": {
        "colab": {
          "base_uri": "https://localhost:8080/"
        },
        "id": "fFGu9gTSQm2W",
        "outputId": "9ef1f3c8-efb4-4052-ad92-ab7e6f35f876"
      },
      "outputs": [
        {
          "name": "stdout",
          "output_type": "stream",
          "text": [
            "False\n",
            "True\n",
            "True\n"
          ]
        }
      ],
      "source": [
        "bmi_score = 28\n",
        "print(bmi_score > 20 and bmi_score > 30) # returns True if both statements are true\n",
        "print(bmi_score > 20 or bmi_score > 30) # returns True if one of the statements is true\n",
        "print(not(bmi_score > 20 and bmi_score > 30)) # reverse the result, returns False if the result is true"
      ]
    },
    {
      "cell_type": "markdown",
      "metadata": {
        "id": "lchEI32RSqQz"
      },
      "source": [
        "## Exercise 1 part 2\n",
        "\n",
        "---\n",
        "\n",
        "\n",
        "Check whether your BMI score is normal or not.\n",
        "\n",
        "*   Expected output 1: True\n",
        "*   Expected output 2: False\n",
        "\n",
        "\n",
        "\n"
      ]
    },
    {
      "cell_type": "code",
      "execution_count": 891,
      "metadata": {
        "id": "ZMKdo7QlTVw8"
      },
      "outputs": [
        {
          "name": "stdout",
          "output_type": "stream",
          "text": [
            "True\n"
          ]
        }
      ],
      "source": [
        "# normal range is from 18.5 to 24.9\n",
        "print(bmi >= 18.5 and bmi <= 24.9)"
      ]
    },
    {
      "cell_type": "markdown",
      "metadata": {
        "id": "ykryJn0SbSHJ"
      },
      "source": [
        "# 2.&nbsp;Conditional Statements"
      ]
    },
    {
      "cell_type": "markdown",
      "metadata": {
        "id": "tJb-tGH9bYQF"
      },
      "source": [
        "We use the **if statement** to adapt to different situations. Notice to use `:` after the statement and indentation before `print()`."
      ]
    },
    {
      "cell_type": "code",
      "execution_count": 892,
      "metadata": {
        "colab": {
          "base_uri": "https://localhost:8080/"
        },
        "id": "Blh1gDnGbYY9",
        "outputId": "9911fb8b-e9f6-4f66-ad8c-bfa807e00f02"
      },
      "outputs": [
        {
          "name": "stdout",
          "output_type": "stream",
          "text": [
            "19.409358296754156\n",
            "BMI score is not under weight.\n"
          ]
        }
      ],
      "source": [
        "bmi_score = 28\n",
        "print(bmi)\n",
        "\n",
        "if bmi < 18.8:\n",
        "  print(\"BMI score is under weight.\")\n",
        "else:\n",
        "  print(\"BMI score is not under weight.\")"
      ]
    },
    {
      "cell_type": "markdown",
      "metadata": {
        "id": "nT8Y5Fq4qyaU"
      },
      "source": [
        "Maybe we have more than one condition."
      ]
    },
    {
      "cell_type": "code",
      "execution_count": 893,
      "metadata": {
        "colab": {
          "base_uri": "https://localhost:8080/"
        },
        "id": "ynswhLlNqyhR",
        "outputId": "930be556-dfe0-4efa-9edc-db4b088f5ec2"
      },
      "outputs": [
        {
          "name": "stdout",
          "output_type": "stream",
          "text": [
            "BMI score is normal.\n"
          ]
        }
      ],
      "source": [
        "bmi_score = 28\n",
        "\n",
        "if bmi > 18.5 and bmi < 24.9:\n",
        "  print(\"BMI score is normal.\")\n",
        "else:\n",
        "  print(\"BMI score is not normal.\")"
      ]
    },
    {
      "cell_type": "code",
      "execution_count": 894,
      "metadata": {
        "colab": {
          "base_uri": "https://localhost:8080/"
        },
        "id": "zF1a76g8rnPG",
        "outputId": "102ed390-c8c6-409f-979b-0e8bbc67d7c9"
      },
      "outputs": [
        {
          "name": "stdout",
          "output_type": "stream",
          "text": [
            "BMI score is normal.\n"
          ]
        }
      ],
      "source": [
        "bmi_score = 28\n",
        "\n",
        "if bmi < 18.5 or bmi > 24.9:\n",
        "  print(\"BMI score is not normal.\")\n",
        "else:\n",
        "  print(\"BMI score is normal.\")"
      ]
    },
    {
      "cell_type": "markdown",
      "metadata": {
        "id": "zwRcrQeoqcgJ"
      },
      "source": [
        "Or we have more than two situations."
      ]
    },
    {
      "cell_type": "code",
      "execution_count": 895,
      "metadata": {
        "colab": {
          "base_uri": "https://localhost:8080/"
        },
        "id": "MBa3tqYkqcr9",
        "outputId": "dab94105-62f6-4962-c3fc-b2b893c03e7d"
      },
      "outputs": [
        {
          "name": "stdout",
          "output_type": "stream",
          "text": [
            "BMI score is over weight.\n"
          ]
        }
      ],
      "source": [
        "bmi_score = 28\n",
        "\n",
        "if bmi_score < 18.8:\n",
        "  print(\"BMI score is under weight.\")\n",
        "elif bmi_score > 18.5 and bmi_score < 24.9:\n",
        "  print(\"BMI score is under normal.\")\n",
        "elif bmi_score > 25 and bmi_score < 29.9:\n",
        "  print(\"BMI score is over weight.\")\n",
        "elif bmi_score > 30 and bmi_score < 39.9:\n",
        "  print(\"BMI score is obesity.\")\n",
        "else:\n",
        "  print(\"BMI score is extreme obesity.\")"
      ]
    },
    {
      "cell_type": "markdown",
      "metadata": {
        "id": "FlklUlgdtRQ0"
      },
      "source": [
        "## Exercise 2\n",
        "\n",
        "---\n",
        "\n",
        "\n",
        "We want to predict the BMI score after doing sport routing over one year. Assume the one-month sport reduces the 0.38 value from the BMI score. What will happen to BMI score if someone does sports for 3, 6, 9, and 12 months?\n",
        "\n",
        "*   Expected output 1: BMI score will be 27.76 after 3 months of sports.\n",
        "*   Expected output 2: BMI score will be 24.91 after 12 months of sports\n",
        "\n",
        "\n",
        "\n"
      ]
    },
    {
      "cell_type": "code",
      "execution_count": 896,
      "metadata": {
        "id": "Zd46OwTHtRak"
      },
      "outputs": [
        {
          "name": "stdout",
          "output_type": "stream",
          "text": [
            "BMI score will be 24.98 after 3 months of sports\n"
          ]
        }
      ],
      "source": [
        "# try with different values\n",
        "bmi_score = 28.4\n",
        "sport_duration = 9\n",
        "\n",
        "if sport_duration == 3:\n",
        "    bmi_score -= 3*0.38\n",
        "    print(f\"BMI score will be {bmi_score:.2f} after 3 months of sports\")\n",
        "elif sport_duration == 6:\n",
        "    bmi_score -= 6*0.38\n",
        "    print(f\"BMI score will be {bmi_score:.2f} after 3 months of sports\")\n",
        "elif sport_duration == 9:\n",
        "    bmi_score -= 9*0.38\n",
        "    print(f\"BMI score will be {bmi_score:.2f} after 3 months of sports\")\n",
        "elif sport_duration == 12:\n",
        "    bmi_score -= 12*0.38\n",
        "    print(f\"BMI score will be {bmi_score:.2f} after 3 months of sports\")\n"
      ]
    },
    {
      "cell_type": "markdown",
      "metadata": {
        "id": "pOvsmgaoyoRx"
      },
      "source": [
        "# 3.&nbsp;Loops (while)"
      ]
    },
    {
      "cell_type": "markdown",
      "metadata": {
        "id": "n_ljAPYpyvuV"
      },
      "source": [
        "Using the `while` loop, we can execute a set of statements if a condition is true."
      ]
    },
    {
      "cell_type": "code",
      "execution_count": 897,
      "metadata": {
        "colab": {
          "base_uri": "https://localhost:8080/"
        },
        "id": "LibeRwvZ12pT",
        "outputId": "7962d40c-9a5a-4700-edef-f7cb8558de25"
      },
      "outputs": [
        {
          "name": "stdout",
          "output_type": "stream",
          "text": [
            "your BMI score is 21.4 (normal range).\n",
            "your BMI score is 22.4 (normal range).\n",
            "your BMI score is 23.4 (normal range).\n",
            "your BMI score is 24.4 (normal range).\n"
          ]
        }
      ],
      "source": [
        "bmi_score = 21.4\n",
        "\n",
        "while bmi_score < 25:\n",
        "  print(f\"your BMI score is {bmi_score} (normal range).\")\n",
        "  bmi_score += 1 # bmi_score = bmi_score + 1"
      ]
    },
    {
      "cell_type": "markdown",
      "metadata": {
        "id": "4VTvdpoJ3dTh"
      },
      "source": [
        "If the while condition is true, the `break` statement will prevent the loop from continuing indefinitely."
      ]
    },
    {
      "cell_type": "code",
      "execution_count": 898,
      "metadata": {
        "colab": {
          "base_uri": "https://localhost:8080/"
        },
        "id": "FX75x64c3dmT",
        "outputId": "7c133d47-2fb6-4276-8231-7162cb01aa24"
      },
      "outputs": [
        {
          "name": "stdout",
          "output_type": "stream",
          "text": [
            "your BMI score is 21.4 (normal range).\n",
            "your BMI score is 20.4 (normal range).\n",
            "your BMI score is 19.4 (normal range).\n",
            "your BMI score is 18.4 (normal range).\n"
          ]
        }
      ],
      "source": [
        "bmi_score = 21.4\n",
        "\n",
        "while bmi_score < 25:\n",
        "  print(f\"your BMI score is {bmi_score} (normal range).\")\n",
        "  if bmi_score < 18.8:\n",
        "    break\n",
        "  bmi_score -= 1 # bmi_score = bmi_score - 1"
      ]
    },
    {
      "cell_type": "markdown",
      "metadata": {
        "id": "MFjMH9gi_K8a"
      },
      "source": [
        "Or if the condition is no longer true, an `else` statement will run a block of code once."
      ]
    },
    {
      "cell_type": "code",
      "execution_count": 899,
      "metadata": {
        "colab": {
          "base_uri": "https://localhost:8080/"
        },
        "id": "n6T8dba3_LFa",
        "outputId": "1af2c32b-605d-485c-d252-921fe241684a"
      },
      "outputs": [
        {
          "name": "stdout",
          "output_type": "stream",
          "text": [
            "your BMI score is 21.4 (normal range).\n",
            "your BMI score is 20.4 (normal range).\n",
            "your BMI score is 19.4 (normal range).\n",
            "your BMI score is 18.4 (under weight).\n"
          ]
        }
      ],
      "source": [
        "bmi_score = 21.4\n",
        "\n",
        "while bmi_score > 18.8:\n",
        "  print(f\"your BMI score is {bmi_score} (normal range).\")\n",
        "  bmi_score -= 1\n",
        "else:\n",
        "  print(f\"your BMI score is {bmi_score} (under weight).\")"
      ]
    },
    {
      "cell_type": "markdown",
      "metadata": {
        "id": "gS814Hb56dpR"
      },
      "source": [
        "The `continue` statement lets us stop the current iteration and move on to the next."
      ]
    },
    {
      "cell_type": "code",
      "execution_count": 900,
      "metadata": {
        "colab": {
          "base_uri": "https://localhost:8080/"
        },
        "id": "9NRktLo76dxt",
        "outputId": "f91c8dda-ae39-426b-de18-1abb72e740de"
      },
      "outputs": [
        {
          "name": "stdout",
          "output_type": "stream",
          "text": [
            "your BMI score is 20 (normal range).\n",
            "your BMI score is 21 (normal range).\n",
            "your BMI score is 23 (normal range).\n",
            "your BMI score is 24 (normal range).\n"
          ]
        }
      ],
      "source": [
        "bmi_score = 19\n",
        "\n",
        "while bmi_score < 25:\n",
        "  bmi_score += 1\n",
        "  if bmi_score == 22:\n",
        "    continue\n",
        "  if bmi_score >= 25:\n",
        "    break\n",
        "  print(f\"your BMI score is {bmi_score} (normal range).\")\n"
      ]
    },
    {
      "cell_type": "markdown",
      "metadata": {
        "id": "croIpQSIF-yi"
      },
      "source": [
        "## Exercise 3\n",
        "\n",
        "---\n",
        "\n",
        "We assumed the one-month sport reduce by 0.38 value from the BMI score. Now, write a `while` loop to calculate the maximum number of months to reach the normal range for BMI score.\n",
        "\n",
        "*   Expected output 1: you need 3 months of sport\n",
        "*   Expected output 2: you need 7 months of sport\n",
        "\n",
        "\n",
        "\n"
      ]
    },
    {
      "cell_type": "code",
      "execution_count": 901,
      "metadata": {
        "id": "HZcwnZmxF-9q"
      },
      "outputs": [
        {
          "name": "stdout",
          "output_type": "stream",
          "text": [
            "You need 13 months of sport.\n"
          ]
        }
      ],
      "source": [
        "# try different BMI score\n",
        "bmi_score = 29.8\n",
        "sport_duration = 0\n",
        "\n",
        "normal_bmi_min = 18.5\n",
        "normal_bmi_max = 24.9\n",
        "\n",
        "bmi_reduction_per_month = 0.38\n",
        "months = 0\n",
        "\n",
        "# Loop until BMI falls within the normal range\n",
        "while bmi_score > normal_bmi_max:\n",
        "    bmi_score -= bmi_reduction_per_month\n",
        "    months += 1\n",
        "\n",
        "\n",
        "print(f\"You need {months} months of sport.\")\n",
        "\n"
      ]
    },
    {
      "cell_type": "markdown",
      "metadata": {
        "id": "e-o4R0S5EUHV"
      },
      "source": [
        "# 4.&nbsp;Loops (for)"
      ]
    },
    {
      "cell_type": "markdown",
      "metadata": {
        "id": "M1kZCWAB-lto"
      },
      "source": [
        "Excellent! Let's look at the `for` loop.\n",
        "\n",
        "Using the `for` loop means we know how many times we need to execute a statement, so we can use it when we know how many iterations there will be. In addition, `range()` returns a sequence of numbers starting from 0 and incrementing by 1 by default, and ending at a specified number. Although, we can change default values if we want."
      ]
    },
    {
      "cell_type": "code",
      "execution_count": 902,
      "metadata": {
        "colab": {
          "base_uri": "https://localhost:8080/"
        },
        "id": "YBf_cwNe-l1w",
        "outputId": "c6956efd-f343-4dc2-8c99-8d806bf3193e"
      },
      "outputs": [
        {
          "name": "stdout",
          "output_type": "stream",
          "text": [
            "your BMI score is 19 (normal range).\n",
            "your BMI score is 20 (normal range).\n",
            "your BMI score is 21 (normal range).\n"
          ]
        }
      ],
      "source": [
        "bmi_score = 19\n",
        "\n",
        "for i in range(3):\n",
        "\n",
        "  print(f\"your BMI score is {bmi_score} (normal range).\")\n",
        "  bmi_score += 1"
      ]
    },
    {
      "cell_type": "markdown",
      "metadata": {
        "id": "nHQMAvIbDIK_"
      },
      "source": [
        "Besides, while loop's statements including the `break`, `continue`, and `else` could be used here as well."
      ]
    },
    {
      "cell_type": "code",
      "execution_count": 903,
      "metadata": {
        "colab": {
          "base_uri": "https://localhost:8080/"
        },
        "id": "XjnVmlJvDIuw",
        "outputId": "deb16a87-f02e-462b-b434-a8e9cb1e9166"
      },
      "outputs": [
        {
          "name": "stdout",
          "output_type": "stream",
          "text": [
            "your BMI score is 20 (normal range).\n",
            "your BMI score is 21 (normal range).\n",
            "your BMI score is 23 (normal range).\n",
            "your BMI score is 24 (normal range).\n"
          ]
        }
      ],
      "source": [
        "bmi_score = 19\n",
        "\n",
        "for i in range(5):\n",
        "  bmi_score += 1\n",
        "  if bmi_score == 22:\n",
        "    continue\n",
        "  print(f\"your BMI score is {bmi_score} (normal range).\")"
      ]
    },
    {
      "cell_type": "code",
      "execution_count": 904,
      "metadata": {
        "colab": {
          "base_uri": "https://localhost:8080/"
        },
        "id": "eWuP3soPFClW",
        "outputId": "6fb32b5d-9548-49fa-d81a-71a1cc0b3fac"
      },
      "outputs": [
        {
          "name": "stdout",
          "output_type": "stream",
          "text": [
            "your BMI score is 19 (normal range).\n",
            "your BMI score is 20 (normal range).\n",
            "your BMI score is 21 (normal range).\n",
            "your BMI score is 22 (normal range).\n",
            "your BMI score is 23 (normal range).\n",
            "your BMI score is 24 (normal range).\n"
          ]
        }
      ],
      "source": [
        "bmi_score = 19\n",
        "\n",
        "for i in range(6):\n",
        "  print(f\"your BMI score is {bmi_score} (normal range).\")\n",
        "  bmi_score += 1\n",
        "  if bmi_score == 25:\n",
        "    break"
      ]
    },
    {
      "cell_type": "code",
      "execution_count": 905,
      "metadata": {
        "colab": {
          "base_uri": "https://localhost:8080/"
        },
        "id": "R5zMAR2SFAzL",
        "outputId": "d423852f-9c1a-4e66-ab36-6bdac7c05eaa"
      },
      "outputs": [
        {
          "name": "stdout",
          "output_type": "stream",
          "text": [
            "your BMI score is 19 (normal range).\n",
            "your BMI score is 20 (normal range).\n",
            "your BMI score is 21 (normal range).\n",
            "your BMI score is 22 (normal range).\n",
            "your BMI score is 23 (normal range).\n",
            "your BMI score is 24 (normal range).\n",
            "your BMI score is 25 (under weight).\n"
          ]
        }
      ],
      "source": [
        "bmi_score = 19\n",
        "\n",
        "for i in range(6):\n",
        "  print(f\"your BMI score is {bmi_score} (normal range).\")\n",
        "  bmi_score += 1\n",
        "else:\n",
        "  print(f\"your BMI score is {bmi_score} (under weight).\")"
      ]
    },
    {
      "cell_type": "markdown",
      "metadata": {
        "id": "nyDQEZECH59O"
      },
      "source": [
        "## Exercise 4\n",
        "\n",
        "---\n",
        "\n",
        "\n",
        "Similar to the previous exercise we assumed the one-month sport reduce 0.38 value from the BMI score. Now, write a `for` loop to calculate finalized BMI score after 7 months of sports.\n",
        "\n",
        "*   Expected output 1: your BMI score will be 21.93 after 7 months of sport\n",
        "*   Expected output 2: your BMI score will be 26.77 after 7 months of sport\n",
        "\n"
      ]
    },
    {
      "cell_type": "code",
      "execution_count": 906,
      "metadata": {
        "id": "-MvbS6nkH6Gz"
      },
      "outputs": [
        {
          "name": "stdout",
          "output_type": "stream",
          "text": [
            "Your BMI score will be 25.94 after 7 months\n"
          ]
        }
      ],
      "source": [
        "# try different BMI score\n",
        "bmi_score = 28.6\n",
        "sport_duration = 7\n",
        "\n",
        "# print(28.6 - (7*0.38))\n",
        "\n",
        "for _ in range(sport_duration):\n",
        "    bmi_score -= 0.38\n",
        "\n",
        "print(f\"Your BMI score will be {bmi_score:.2f} after {sport_duration} months\")"
      ]
    },
    {
      "cell_type": "markdown",
      "metadata": {},
      "source": [
        "range() function \n",
        "\n",
        "range(start, stop, step)\n",
        "- start: The starting value of the sequence (inclusive). Defaults to 0 if omitted.\n",
        "- stop: The ending value (exclusive, i.e., not included in the sequence).\n",
        "- step: The difference between each number in the sequence. Defaults to 1 if omitted.\n",
        "\n",
        "```python\n",
        "for i in range(5):\n",
        "    print(i)\n",
        "# Output: 0, 1, 2, 3, 4\n",
        "\n",
        "##\n",
        "for i in range(2, 6):\n",
        "    print(i)\n",
        "# Output: 2, 3, 4, 5\n",
        "\n",
        "##\n",
        "for i in range(1, 10, 2):\n",
        "    print(i)\n",
        "# Output: 1, 3, 5, 7, 9\n",
        "\n",
        "```\n",
        "\n",
        "- The sequence excludes the stop value.\n",
        "- The step can be negative to generate a decreasing sequence.\n",
        "\n"
      ]
    },
    {
      "cell_type": "markdown",
      "metadata": {
        "id": "H06wWuHBlVpn"
      },
      "source": [
        "# 5.&nbsp;Data Structure (string and list)"
      ]
    },
    {
      "cell_type": "markdown",
      "metadata": {
        "id": "rS702QK2lZW-"
      },
      "source": [
        "For organization, management, and storage data we need to know different data types and how to work with them. We familiarize ourselves with **integers**, **floats**, and **booleans** before."
      ]
    },
    {
      "cell_type": "code",
      "execution_count": 907,
      "metadata": {
        "id": "30TqYSpllVwx"
      },
      "outputs": [],
      "source": [
        "x = 18 # int\n",
        "y = 24.9 # float\n",
        "z = True # boolean"
      ]
    },
    {
      "cell_type": "markdown",
      "metadata": {
        "id": "IiSqiHvxzXAq"
      },
      "source": [
        "We are also familiarized with **string** but let's deep in a little bit on that."
      ]
    },
    {
      "cell_type": "code",
      "execution_count": 908,
      "metadata": {
        "colab": {
          "base_uri": "https://localhost:8080/"
        },
        "id": "fW9eArxWzrfk",
        "outputId": "e4ed73df-695b-4df2-8934-892fa4ad7efe"
      },
      "outputs": [
        {
          "name": "stdout",
          "output_type": "stream",
          "text": [
            "<class 'str'>\n"
          ]
        }
      ],
      "source": [
        "w = \"this is a string\"\n",
        "print(type(w)) # get data type"
      ]
    },
    {
      "cell_type": "code",
      "execution_count": 909,
      "metadata": {
        "colab": {
          "base_uri": "https://localhost:8080/"
        },
        "id": "JLj5R5EX1Hfg",
        "outputId": "0aa15c91-3972-4380-9e89-293b82788afe"
      },
      "outputs": [
        {
          "name": "stdout",
          "output_type": "stream",
          "text": [
            "16\n"
          ]
        }
      ],
      "source": [
        "print(len(w)) # get length"
      ]
    },
    {
      "cell_type": "code",
      "execution_count": 910,
      "metadata": {
        "colab": {
          "base_uri": "https://localhost:8080/"
        },
        "id": "JESI_iaB0GG1",
        "outputId": "bfd0d318-cfbc-49a1-bbce-de2b094818a8"
      },
      "outputs": [
        {
          "name": "stdout",
          "output_type": "stream",
          "text": [
            "position 0 :  t\n",
            "position 1 :  h\n",
            "position -2:  n\n",
            "\n",
            "\n",
            "range of position 1:  hi\n",
            "range of position 2:  thi\n",
            "range of position 3:  s is a string\n",
            "range of position 4:  this is a string\n",
            "range of position 5:  in\n",
            "range of position 6:  this is a strin\n",
            "range of position 7:  ing\n"
          ]
        }
      ],
      "source": [
        "# access item by position\n",
        "# note: position in Python starts at 0.\n",
        "print(\"position 0 : \", w[0])\n",
        "print(\"position 1 : \", w[1])\n",
        "print(\"position -2: \", w[-2])\n",
        "print(\"\\n\") # create a new line\n",
        "print(\"range of position 1: \", w[1:3])\n",
        "print(\"range of position 2: \", w[:3])\n",
        "print(\"range of position 3: \", w[3:])\n",
        "print(\"range of position 4: \", w[:])\n",
        "print(\"range of position 5: \", w[-3:-1])\n",
        "print(\"range of position 6: \", w[:-1])\n",
        "print(\"range of position 7: \", w[-3:])"
      ]
    },
    {
      "cell_type": "code",
      "execution_count": 911,
      "metadata": {
        "colab": {
          "base_uri": "https://localhost:8080/"
        },
        "id": "wfx5urSJ1ccJ",
        "outputId": "f7e8ff6b-35e1-48ea-eec6-46df789a3c5a"
      },
      "outputs": [
        {
          "name": "stdout",
          "output_type": "stream",
          "text": [
            "Yes, this is in w string.\n"
          ]
        }
      ],
      "source": [
        "# check if item exists\n",
        "if \"this\" in w:\n",
        "  print(\"Yes, this is in w string.\")"
      ]
    },
    {
      "cell_type": "code",
      "execution_count": 912,
      "metadata": {
        "colab": {
          "base_uri": "https://localhost:8080/"
        },
        "id": "t0KtDN-q1c3Y",
        "outputId": "18568d15-d3b5-47b4-d3e3-da0614a71b69"
      },
      "outputs": [
        {
          "name": "stdout",
          "output_type": "stream",
          "text": [
            "THIS IS A STRING\n"
          ]
        }
      ],
      "source": [
        "print(w.upper()) # upper case"
      ]
    },
    {
      "cell_type": "code",
      "execution_count": 913,
      "metadata": {
        "colab": {
          "base_uri": "https://localhost:8080/"
        },
        "id": "YNNhJQ8R1c6W",
        "outputId": "d4f48011-b743-4f2b-dba7-53cd2d7f3832"
      },
      "outputs": [
        {
          "name": "stdout",
          "output_type": "stream",
          "text": [
            "this is a string\n"
          ]
        }
      ],
      "source": [
        "print(w.lower()) # lower case"
      ]
    },
    {
      "cell_type": "code",
      "execution_count": 914,
      "metadata": {
        "colab": {
          "base_uri": "https://localhost:8080/"
        },
        "id": "J_gQBpao3yJJ",
        "outputId": "c6305750-f9bc-423b-8cbb-031be1bb98a9"
      },
      "outputs": [
        {
          "name": "stdout",
          "output_type": "stream",
          "text": [
            "that is a string\n"
          ]
        }
      ],
      "source": [
        "print(w.replace(\"this\", \"that\")) # replace"
      ]
    },
    {
      "cell_type": "code",
      "execution_count": 915,
      "metadata": {
        "colab": {
          "base_uri": "https://localhost:8080/"
        },
        "id": "3q9YDMH20-9_",
        "outputId": "c1b47382-031e-49bf-abf0-828d8e4d8313"
      },
      "outputs": [
        {
          "name": "stdout",
          "output_type": "stream",
          "text": [
            "['this', 'is', 'a', 'string']\n"
          ]
        }
      ],
      "source": [
        "print(w.split(\" \")) # split by space"
      ]
    },
    {
      "cell_type": "markdown",
      "metadata": {
        "id": "t59GgZtenUs4"
      },
      "source": [
        "Perfect!\n",
        "\n",
        "Let's continue with another data type. Using **lists**, we can store multiple items with any type of data in one variable by using `[]` and `,` between items."
      ]
    },
    {
      "cell_type": "code",
      "execution_count": 916,
      "metadata": {
        "colab": {
          "base_uri": "https://localhost:8080/"
        },
        "id": "xawXEDScnU0J",
        "outputId": "ace6a2e9-65af-44f9-8a7e-6baed33352b7"
      },
      "outputs": [
        {
          "name": "stdout",
          "output_type": "stream",
          "text": [
            "['name', 'Weight', 'Height', 21.7, True]\n"
          ]
        }
      ],
      "source": [
        "student = [\"name\", \"Weight\", \"Height\", 21.7, True]\n",
        "print(student)"
      ]
    },
    {
      "cell_type": "code",
      "execution_count": 917,
      "metadata": {
        "colab": {
          "base_uri": "https://localhost:8080/"
        },
        "id": "L3X-kiOmp7yv",
        "outputId": "ed9409f3-6172-403b-9193-f7e62b2446eb"
      },
      "outputs": [
        {
          "name": "stdout",
          "output_type": "stream",
          "text": [
            "<class 'list'>\n"
          ]
        }
      ],
      "source": [
        "print(type(student)) # get data type"
      ]
    },
    {
      "cell_type": "code",
      "execution_count": 918,
      "metadata": {
        "colab": {
          "base_uri": "https://localhost:8080/"
        },
        "id": "73j6QdD2qRnd",
        "outputId": "c2037ac3-d394-47b6-958b-4431ff8776b7"
      },
      "outputs": [
        {
          "name": "stdout",
          "output_type": "stream",
          "text": [
            "5\n"
          ]
        }
      ],
      "source": [
        "print(len(student)) # get length"
      ]
    },
    {
      "cell_type": "code",
      "execution_count": 919,
      "metadata": {
        "colab": {
          "base_uri": "https://localhost:8080/"
        },
        "id": "92mOvaBuqoQv",
        "outputId": "a276e9e4-a226-46ef-8cdb-b01d927bbe9c"
      },
      "outputs": [
        {
          "name": "stdout",
          "output_type": "stream",
          "text": [
            "index 0 :  name\n",
            "index 1 :  Weight\n",
            "index -2:  21.7\n",
            "\n",
            "range of index 1:  ['Weight', 'Height']\n",
            "range of index 2:  ['name', 'Weight', 'Height']\n",
            "range of index 3:  ['Weight', 'Height', 21.7, True]\n",
            "range of index 4:  ['name', 'Weight', 'Height', 21.7, True]\n",
            "range of index 5:  ['Height', 21.7]\n",
            "range of index 6:  ['name', 'Weight', 'Height', 21.7]\n",
            "range of index 7:  ['Height', 21.7, True]\n"
          ]
        }
      ],
      "source": [
        "# access item by index\n",
        "# note: indexing in Python starts at 0.\n",
        "print(\"index 0 : \", student[0])\n",
        "print(\"index 1 : \", student[1])\n",
        "print(\"index -2: \", student[-2])\n",
        "print(\"\\nrange of index 1: \", student[1:3]) # notice to \\n\n",
        "print(\"range of index 2: \", student[:3])\n",
        "print(\"range of index 3: \", student[1:])\n",
        "print(\"range of index 4: \", student[:])\n",
        "print(\"range of index 5: \", student[-3:-1])\n",
        "print(\"range of index 6: \", student[:-1])\n",
        "print(\"range of index 7: \", student[-3:])"
      ]
    },
    {
      "cell_type": "code",
      "execution_count": 920,
      "metadata": {
        "colab": {
          "base_uri": "https://localhost:8080/"
        },
        "id": "8HbKofvLrBVT",
        "outputId": "95c2036b-94ed-4abd-c79d-eb8768b3f61f"
      },
      "outputs": [
        {
          "name": "stdout",
          "output_type": "stream",
          "text": [
            "Yes, Height is in the student list.\n"
          ]
        }
      ],
      "source": [
        "# check if item exists\n",
        "if \"Height\" in student:\n",
        "  print(\"Yes, Height is in the student list.\")"
      ]
    },
    {
      "cell_type": "code",
      "execution_count": 921,
      "metadata": {
        "colab": {
          "base_uri": "https://localhost:8080/"
        },
        "id": "wQiwl2gWtRb-",
        "outputId": "ebaaff3a-1a4d-40fb-b1c3-16862600f34a"
      },
      "outputs": [
        {
          "name": "stdout",
          "output_type": "stream",
          "text": [
            "['name', 'Weight', 'Height', 21.7, True]\n",
            "['name', 'weight', 'height', 21.4, True]\n"
          ]
        }
      ],
      "source": [
        "# change item value by index\n",
        "print(student)\n",
        "student[3] = 21.4\n",
        "student[1:3] = [\"weight\", \"height\"]\n",
        "print(student)"
      ]
    },
    {
      "cell_type": "code",
      "execution_count": 922,
      "metadata": {
        "colab": {
          "base_uri": "https://localhost:8080/"
        },
        "id": "i7PuBfH4uZYo",
        "outputId": "eed80afd-ce81-4d5f-cfe4-27e88c06d552"
      },
      "outputs": [
        {
          "name": "stdout",
          "output_type": "stream",
          "text": [
            "['name', 'surname', 'weight', 'height', 21.4, True]\n"
          ]
        }
      ],
      "source": [
        "# insert item value by index\n",
        "student.insert(1, \"surname\")\n",
        "print(student)"
      ]
    },
    {
      "cell_type": "code",
      "execution_count": 923,
      "metadata": {
        "colab": {
          "base_uri": "https://localhost:8080/"
        },
        "id": "BdapStn4uwRM",
        "outputId": "d21e4bef-d755-4134-9fcf-f6a3b2b78628"
      },
      "outputs": [
        {
          "name": "stdout",
          "output_type": "stream",
          "text": [
            "['name', 'surname', 'weight', 'height', 21.4, True, 'age']\n"
          ]
        }
      ],
      "source": [
        "# append item value to the end of the list\n",
        "student.append(\"age\")\n",
        "print(student)"
      ]
    },
    {
      "cell_type": "code",
      "execution_count": 924,
      "metadata": {
        "colab": {
          "base_uri": "https://localhost:8080/"
        },
        "id": "3V7PnUVrvGwR",
        "outputId": "4c054e95-68b5-4876-c7f6-44705328041d"
      },
      "outputs": [
        {
          "name": "stdout",
          "output_type": "stream",
          "text": [
            "['name', 'surname', 'weight', 'height', 21.4, True, 'age', 'course', 'score']\n"
          ]
        }
      ],
      "source": [
        "# append items from another list to current list\n",
        "education = [\"course\", \"score\"]\n",
        "student.extend(education)\n",
        "print(student)"
      ]
    },
    {
      "cell_type": "code",
      "execution_count": 925,
      "metadata": {
        "colab": {
          "base_uri": "https://localhost:8080/"
        },
        "id": "PpfhWCX0vuYf",
        "outputId": "4445413f-3f2e-4bbe-e02a-3ec602e191ec"
      },
      "outputs": [
        {
          "name": "stdout",
          "output_type": "stream",
          "text": [
            "appended list:  [1, 3, 5, 7, [9, 11]]\n",
            "extended list:  [1, 3, 5, 7, 9, 11]\n"
          ]
        }
      ],
      "source": [
        "# append and extend difference\n",
        "list_one = [1, 3, 5, 7]\n",
        "list_two = [9, 11]\n",
        "list_one.append(list_two)\n",
        "print(\"appended list: \", list_one)\n",
        "\n",
        "list_one = [1, 3, 5, 7]\n",
        "list_two = [9, 11]\n",
        "list_one.extend(list_two)\n",
        "print(\"extended list: \", list_one)"
      ]
    },
    {
      "cell_type": "code",
      "execution_count": 926,
      "metadata": {
        "colab": {
          "base_uri": "https://localhost:8080/"
        },
        "id": "RF0cTWryw1mK",
        "outputId": "dd468548-b188-4a5c-e6aa-0a2ce980620b"
      },
      "outputs": [
        {
          "name": "stdout",
          "output_type": "stream",
          "text": [
            "['name', 'surname', 'weight', 'height', 21.4, True, 'age', 'score']\n"
          ]
        }
      ],
      "source": [
        "# remove by item value\n",
        "student.remove(\"course\")\n",
        "print(student)"
      ]
    },
    {
      "cell_type": "code",
      "execution_count": 927,
      "metadata": {
        "colab": {
          "base_uri": "https://localhost:8080/"
        },
        "id": "66nQZqnnxMJk",
        "outputId": "25b33a05-3652-4857-9ad4-7a58bcc1283c"
      },
      "outputs": [
        {
          "name": "stdout",
          "output_type": "stream",
          "text": [
            "['name', 'surname', 'weight', 'height', 21.4, True, 'score']\n"
          ]
        }
      ],
      "source": [
        "# remove by index\n",
        "student.pop(-2)\n",
        "print(student)"
      ]
    },
    {
      "cell_type": "code",
      "execution_count": 928,
      "metadata": {
        "colab": {
          "base_uri": "https://localhost:8080/"
        },
        "id": "pxm7pBKvxjbu",
        "outputId": "c2eb9e2e-aebf-4275-c39c-1302db199846"
      },
      "outputs": [
        {
          "name": "stdout",
          "output_type": "stream",
          "text": [
            "['name', 'surname', 'weight', 'height', 21.4, True]\n"
          ]
        }
      ],
      "source": [
        "# the pop() method removes the last item if you don't specify the index\n",
        "student.pop()\n",
        "print(student)"
      ]
    },
    {
      "cell_type": "code",
      "execution_count": 929,
      "metadata": {
        "colab": {
          "base_uri": "https://localhost:8080/"
        },
        "id": "r7Eipydrxe3I",
        "outputId": "28229348-e161-4b4a-ff1c-1157e6857a36"
      },
      "outputs": [
        {
          "name": "stdout",
          "output_type": "stream",
          "text": [
            "['name', 'weight', 'height', 21.4, True]\n"
          ]
        }
      ],
      "source": [
        "# another way to remove by index\n",
        "del student[1]\n",
        "print(student)"
      ]
    },
    {
      "cell_type": "code",
      "execution_count": 930,
      "metadata": {
        "colab": {
          "base_uri": "https://localhost:8080/"
        },
        "id": "YkLp0Vq_59wQ",
        "outputId": "d3775118-889a-42a1-8bf9-042cc298eaf7"
      },
      "outputs": [
        {
          "name": "stdout",
          "output_type": "stream",
          "text": [
            "name\n",
            "weight\n",
            "height\n",
            "21.4\n",
            "True\n"
          ]
        }
      ],
      "source": [
        "# loop through a list\n",
        "for i in student:\n",
        "  print(i)"
      ]
    },
    {
      "cell_type": "code",
      "execution_count": 931,
      "metadata": {
        "colab": {
          "base_uri": "https://localhost:8080/"
        },
        "id": "3HmJ_D8r594z",
        "outputId": "a8933bed-da94-4872-f6f3-33e579216969"
      },
      "outputs": [
        {
          "name": "stdout",
          "output_type": "stream",
          "text": [
            "name\n",
            "weight\n",
            "height\n",
            "21.4\n",
            "True\n"
          ]
        }
      ],
      "source": [
        "# loop through the index numbers\n",
        "for i in range(len(student)):\n",
        "  print(student[i])"
      ]
    },
    {
      "cell_type": "code",
      "execution_count": 932,
      "metadata": {
        "colab": {
          "base_uri": "https://localhost:8080/"
        },
        "id": "fTwi11Qp8mG1",
        "outputId": "aba569d2-adb0-4efc-c806-bc9bbf570355"
      },
      "outputs": [
        {
          "name": "stdout",
          "output_type": "stream",
          "text": [
            "[]\n"
          ]
        }
      ],
      "source": [
        "# removes all the items from the list\n",
        "student.clear()\n",
        "print(student)"
      ]
    },
    {
      "cell_type": "code",
      "execution_count": 933,
      "metadata": {
        "colab": {
          "base_uri": "https://localhost:8080/"
        },
        "id": "jN1k8BYX6ipn",
        "outputId": "317302eb-899f-4592-9b5a-acee2fee2f92"
      },
      "outputs": [
        {
          "name": "stdout",
          "output_type": "stream",
          "text": [
            "[22.31, 27.9, 25.1, 30.4]\n"
          ]
        }
      ],
      "source": [
        "# looping using list comprehension (shortest syntax)\n",
        "bmi = [21.31, 26.9, 24.1, 29.4]\n",
        "student_bmi = [i+1 for i in bmi]\n",
        "print(student_bmi)"
      ]
    },
    {
      "cell_type": "code",
      "execution_count": 934,
      "metadata": {
        "colab": {
          "base_uri": "https://localhost:8080/"
        },
        "id": "yxTlvfkd9bKR",
        "outputId": "981166f7-af1d-4330-f7e4-5361f670a827"
      },
      "outputs": [
        {
          "name": "stdout",
          "output_type": "stream",
          "text": [
            "[22.31, 25.1, 27.9, 30.4]\n",
            "[30.4, 27.9, 25.1, 22.31]\n"
          ]
        }
      ],
      "source": [
        "# sort items\n",
        "student_bmi.sort() # ascending\n",
        "print(student_bmi)\n",
        "student_bmi.sort(reverse = True) # descending\n",
        "print(student_bmi)"
      ]
    },
    {
      "cell_type": "markdown",
      "metadata": {
        "id": "QtLDOzvR4iPW"
      },
      "source": [
        "## Exercise 5\n",
        "---\n",
        "1. Calculate the BMI score for all patients and store it in a list. (Hint: for loop)\n",
        "2. Remove items in the normal range.  (Hint: if statement)\n",
        "3. Sort items by descending.\n",
        "\n",
        "*   Expected output:\n",
        "        [28.20, 27.52, 25.34]\n",
        "\n"
      ]
    },
    {
      "cell_type": "code",
      "execution_count": 935,
      "metadata": {
        "id": "nzLyoi5C4iWE"
      },
      "outputs": [
        {
          "name": "stdout",
          "output_type": "stream",
          "text": [
            "[25.34, 27.52, 28.2]\n"
          ]
        }
      ],
      "source": [
        "patient_name = [\"Georgia\", \"Oscar\", \"Juliet\", \"Lily\", \"William\"]\n",
        "patient_weight = [54.7, 79.6, 81.2, 51.9, 102.5] # kg\n",
        "patient_height = [152, 168, 179, 161, 193] # cm\n",
        "patient_bmi = []\n",
        "\n",
        "# start from here...\n",
        "l = []\n",
        "\n",
        "for i in range(len(patient_weight)):\n",
        "    bmi = patient_weight[i] / (patient_height[i]/100)**2\n",
        "    if(bmi >= 18.5 and bmi <= 24.5): \n",
        "        continue\n",
        "    l.append(round(bmi, 2))\n",
        "\n",
        "l.sort()\n",
        "\n",
        "# print(\"1\", sorted(l))\n",
        "print(l)\n",
        "\n",
        "## chat gpt\n",
        "bmi_values = [round((weight / ((height / 100) ** 2)), 2) for weight, height in zip(patient_weight, patient_height)]\n",
        "# print(bmi_values)\n"
      ]
    },
    {
      "cell_type": "markdown",
      "metadata": {},
      "source": [
        "# !! ChatGPT Strings and Lists Summary\n",
        "\n",
        "### Python String Concepts\n",
        "\n",
        "Strings in Python are sequences of characters enclosed in quotes. They are **immutable**, meaning they cannot be changed after creation.\n",
        "\n",
        "#### 1. **String Creation**\n",
        "Strings can be created using single (`'`), double (`\"`), or triple quotes (`'''` or `\"\"\"`).\n",
        "\n",
        "```python\n",
        "single_quote = 'Hello'\n",
        "double_quote = \"Hello\"\n",
        "multi_line = '''This is \n",
        "a multi-line string.'''\n",
        "```\n",
        "\n",
        "#### 2. **String Immutability**\n",
        "Once a string is created, its characters cannot be modified. You can reassign a new string but cannot alter individual characters.\n",
        "\n",
        "```python\n",
        "text = \"Hello\"\n",
        "# text[0] = 'h'  # This will raise an error since strings are immutable\n",
        "text = \"hello\"  # Reassigning a new string is allowed\n",
        "```\n",
        "\n",
        "---\n",
        "\n",
        "#### 3. **String Concatenation**\n",
        "Strings can be concatenated (combined) using the `+` operator or repeated using the `*` operator.\n",
        "\n",
        "```python\n",
        "greeting = \"Hello\" + \" World\"  # Output: 'Hello World'\n",
        "repeat_text = \"Hi\" * 3         # Output: 'HiHiHi'\n",
        "```\n",
        "\n",
        "---\n",
        "\n",
        "#### 4. **String Indexing and Slicing**\n",
        "- **Indexing** allows accessing individual characters in a string. Indexing starts at `0`, and negative indexing starts from the end (`-1` being the last character).\n",
        "- **Slicing** extracts a substring using `[start:end]`, where `start` is inclusive and `end` is exclusive.\n",
        "\n",
        "```python\n",
        "text = \"Python\"\n",
        "first_char = text[0]        # Output: 'P'\n",
        "last_char = text[-1]        # Output: 'n'\n",
        "substring = text[1:4]       # Output: 'yth' (from index 1 to 3)\n",
        "```\n",
        "\n",
        "---\n",
        "\n",
        "#### 5. **String Methods**\n",
        "\n",
        "Python provides a wide range of **string methods** for manipulation and formatting.\n",
        "\n",
        "- **Case Conversion**:\n",
        "  - `upper()` converts to uppercase.\n",
        "  - `lower()` converts to lowercase.\n",
        "  - `title()` capitalizes the first letter of each word.\n",
        "\n",
        "  ```python\n",
        "  text = \"hello world\"\n",
        "  print(text.upper())  # Output: 'HELLO WORLD'\n",
        "  ```\n",
        "\n",
        "- **Stripping Whitespace**:\n",
        "  - `strip()`: Removes leading and trailing whitespace.\n",
        "  - `lstrip()` and `rstrip()` remove leading and trailing spaces, respectively.\n",
        "\n",
        "  ```python\n",
        "  text = \"  hello  \"\n",
        "  print(text.strip())  # Output: 'hello'\n",
        "  ```\n",
        "\n",
        "- **Splitting and Joining**:\n",
        "  - `split()`: Breaks a string into a list of substrings.\n",
        "  - `join()`: Concatenates a list of strings into a single string.\n",
        "\n",
        "  ```python\n",
        "  text = \"a,b,c\"\n",
        "  print(text.split(','))  # Output: ['a', 'b', 'c']\n",
        "\n",
        "  items = ['a', 'b', 'c']\n",
        "  print(','.join(items))  # Output: 'a,b,c'\n",
        "  ```\n",
        "\n",
        "- **Find and Replace**:\n",
        "  - `find(substring)`: Returns the index of the first occurrence of a substring or `-1` if not found.\n",
        "  - `replace(old, new)`: Replaces occurrences of `old` with `new`.\n",
        "\n",
        "  ```python\n",
        "  text = \"hello world\"\n",
        "  print(text.find('world'))   # Output: 6\n",
        "  print(text.replace('world', 'Python'))  # Output: 'hello Python'\n",
        "  ```\n",
        "\n",
        "---\n",
        "\n",
        "#### 6. **String Formatting**\n",
        "There are several ways to format strings in Python:\n",
        "\n",
        "- **Using `f-strings` (Python 3.6+)**:\n",
        "  ```python\n",
        "  name = \"Alice\"\n",
        "  age = 30\n",
        "  greeting = f\"Hello, {name}. You are {age} years old.\"\n",
        "  # Output: 'Hello, Alice. You are 30 years old.'\n",
        "  ```\n",
        "\n",
        "- **Using `format()`**:\n",
        "  ```python\n",
        "  greeting = \"Hello, {}. You are {} years old.\".format(\"Alice\", 30)\n",
        "  # Output: 'Hello, Alice. You are 30 years old.'\n",
        "  ```\n",
        "\n",
        "- **Old-style `%` formatting**:\n",
        "  ```python\n",
        "  greeting = \"Hello, %s. You are %d years old.\" % (\"Alice\", 30)\n",
        "  # Output: 'Hello, Alice. You are 30 years old.'\n",
        "  ```\n",
        "\n",
        "---\n",
        "\n",
        "#### 7. **Escape Sequences**\n",
        "Escape sequences allow special characters to be included in strings.\n",
        "\n",
        "- `\\n`: Newline\n",
        "- `\\t`: Tab\n",
        "- `\\\\`: Backslash\n",
        "- `\\'`: Single quote\n",
        "- `\\\"`: Double quote\n",
        "\n",
        "```python\n",
        "text = \"Hello\\nWorld\"   # Output: 'Hello' followed by a new line with 'World'\n",
        "```\n",
        "\n",
        "---\n",
        "\n",
        "#### 8. **String Length**\n",
        "The `len()` function returns the length of a string.\n",
        "\n",
        "```python\n",
        "text = \"Python\"\n",
        "print(len(text))  # Output: 6\n",
        "```\n",
        "\n",
        "----\n",
        "\n",
        "### Python List Methods\n",
        "\n",
        "Here’s a summary of common list methods used in Python:\n",
        "\n",
        "- **`append(item)`**: Adds an item to the end of the list.\n",
        "  ```python\n",
        "  my_list.append(5)  # Adds 5 to the list\n",
        "  ```\n",
        "\n",
        "- **`extend(iterable)`**: Adds all elements of an iterable to the end of the list.\n",
        "  ```python\n",
        "  my_list.extend([6, 7])  # Adds 6 and 7 to the list\n",
        "  ```\n",
        "\n",
        "- **`insert(index, item)`**: Inserts an item at a specific index.\n",
        "  ```python\n",
        "  my_list.insert(2, 10)  # Inserts 10 at index 2\n",
        "  ```\n",
        "\n",
        "- **`pop(index)`**: Removes and returns the item at the given index (default is the last item).\n",
        "  ```python\n",
        "  my_list.pop()  # Removes and returns the last element\n",
        "  ```\n",
        "\n",
        "- **`remove(item)`**: Removes the first occurrence of the specified item.\n",
        "  ```python\n",
        "  my_list.remove(5)  # Removes the first occurrence of 5\n",
        "  ```\n",
        "\n",
        "- **`sort()`**: Sorts the list in ascending order.\n",
        "  ```python\n",
        "  my_list.sort()  # Sorts the list in-place\n",
        "  ```\n",
        "\n",
        "- **`reverse()`**: Reverses the order of elements in the list.\n",
        "  ```python\n",
        "  my_list.reverse()  # Reverses the list in-place\n",
        "  ```\n",
        "\n",
        "- **`index(item)`**: Returns the index of the first occurrence of the item.\n",
        "  ```python\n",
        "  my_list.index(10)  # Output: 2\n",
        "  ```\n",
        "\n",
        "- **`count(item)`**: Returns the number of occurrences of the item.\n",
        "  ```python\n",
        "  my_list.count(10)  # Output: 1\n",
        "  ```\n",
        "\n",
        "---\n",
        "\n",
        "Splicing, or slicing, refers to accessing parts of sequences like lists, tuples, and strings. The slicing syntax allows you to extract a portion of a sequence without modifying the original data. \n",
        "\n",
        "### Basic Slicing Syntax\n",
        "\n",
        "The general syntax for slicing is:\n",
        "\n",
        "```python\n",
        "sequence[start:stop:step]\n",
        "```\n",
        "\n",
        "- **`start`**: The index to start the slice (inclusive). If omitted, defaults to `0`.\n",
        "- **`stop`**: The index to end the slice (exclusive). If omitted, defaults to the length of the sequence.\n",
        "- **`step`**: The increment (or stride) between each index in the slice. If omitted, defaults to `1`.\n",
        "\n",
        "### Examples\n",
        "\n",
        "1. **Basic Slicing**\n",
        "   ```python\n",
        "   my_list = [0, 1, 2, 3, 4, 5, 6]\n",
        "   print(my_list[2:5])  # Output: [2, 3, 4]\n",
        "   ```\n",
        "\n",
        "2. **Omitting Start or Stop**\n",
        "   ```python\n",
        "   print(my_list[:3])   # Output: [0, 1, 2] (from start to index 3)\n",
        "   print(my_list[4:])   # Output: [4, 5, 6] (from index 4 to end)\n",
        "   ```\n",
        "\n",
        "3. **Using Step**\n",
        "   ```python\n",
        "   print(my_list[::2])  # Output: [0, 2, 4, 6] (every second element)\n",
        "   ```\n",
        "\n",
        "4. **Negative Indices**\n",
        "   You can use negative indices to count from the end of the sequence.\n",
        "   ```python\n",
        "   print(my_list[-3:])  # Output: [4, 5, 6] (last three elements)\n",
        "   print(my_list[:-4])  # Output: [0, 1, 2] (all but the last four elements)\n",
        "   ```\n",
        "\n",
        "5. **Slicing Strings**\n",
        "   ```python\n",
        "   my_string = \"Hello, World!\"\n",
        "   print(my_string[7:12])  # Output: \"World\"\n",
        "   print(my_string[::-1])   # Output: \"!dlroW ,olleH\" (reversed string)\n",
        "   ```\n",
        "\n",
        "6. **Slicing Tuples**\n",
        "   ```python\n",
        "   my_tuple = (1, 2, 3, 4, 5)\n",
        "   print(my_tuple[1:4])  # Output: (2, 3, 4)\n",
        "   ```\n",
        "\n",
        "### Important Points\n",
        "\n",
        "- **Immutable Sequences**: Strings and tuples are immutable, meaning slicing them creates a new object.\n",
        "- **Lists are Mutable**: You can slice lists and then modify the original list if needed.\n",
        "- **Out-of-Bounds Indices**: If `start` or `stop` indices are out of bounds, Python handles it gracefully and returns what is available without raising an error.\n",
        "\n"
      ]
    },
    {
      "cell_type": "markdown",
      "metadata": {
        "id": "eRw2dE42Emvl"
      },
      "source": [
        "# 6.&nbsp;Data Structure (tuple, set and dictionary)"
      ]
    },
    {
      "cell_type": "markdown",
      "metadata": {
        "id": "7gds1knpE5wY"
      },
      "source": [
        "We can group together closely-related data unchangeable using **tuples**. We create them similarly to lists but using parentheses `()` instead of brackets."
      ]
    },
    {
      "cell_type": "code",
      "execution_count": 936,
      "metadata": {
        "colab": {
          "base_uri": "https://localhost:8080/"
        },
        "id": "v2RZzhBBE55A",
        "outputId": "17e1afb4-865d-4d49-b2bc-6f75fb71b356"
      },
      "outputs": [
        {
          "name": "stdout",
          "output_type": "stream",
          "text": [
            "<class 'tuple'>\n"
          ]
        }
      ],
      "source": [
        "thistuple = (\"Georgia\", 54.7, 152, False)\n",
        "print(type(thistuple))"
      ]
    },
    {
      "cell_type": "code",
      "execution_count": 937,
      "metadata": {
        "colab": {
          "base_uri": "https://localhost:8080/"
        },
        "id": "2qvDBpO2dTA0",
        "outputId": "9820cf54-5611-469d-a2fa-cbc40d14c2bf"
      },
      "outputs": [
        {
          "name": "stdout",
          "output_type": "stream",
          "text": [
            "4\n"
          ]
        }
      ],
      "source": [
        "print(len(thistuple))"
      ]
    },
    {
      "cell_type": "code",
      "execution_count": 938,
      "metadata": {
        "colab": {
          "base_uri": "https://localhost:8080/"
        },
        "id": "UGUOBolOdTDb",
        "outputId": "62f1aac9-b33a-4cfa-ade5-d1749a325208"
      },
      "outputs": [
        {
          "name": "stdout",
          "output_type": "stream",
          "text": [
            "<class 'tuple'>\n",
            "<class 'str'>\n"
          ]
        }
      ],
      "source": [
        "tuple_one_item = (\"Georgia\",)\n",
        "print(type(tuple_one_item))\n",
        "\n",
        "# it is NOT a tuple\n",
        "tuple_one_item = (\"Georgia\")\n",
        "print(type(tuple_one_item))"
      ]
    },
    {
      "cell_type": "markdown",
      "metadata": {},
      "source": [
        "Tuple splicing"
      ]
    },
    {
      "cell_type": "code",
      "execution_count": 939,
      "metadata": {
        "colab": {
          "base_uri": "https://localhost:8080/"
        },
        "id": "qeTA8yFldTF7",
        "outputId": "affad4ff-5f81-4d9f-bc56-29caf14542e0"
      },
      "outputs": [
        {
          "name": "stdout",
          "output_type": "stream",
          "text": [
            "index 0 :  Georgia\n",
            "index 1 :  54.7\n",
            "index -2:  152\n",
            "=================================\n",
            "range of index 1:  (54.7, 152)\n",
            "range of index 2:  ('Georgia', 54.7, 152)\n",
            "range of index 3:  (54.7, 152, False)\n",
            "range of index 4:  ('Georgia', 54.7, 152, False)\n",
            "range of index 5:  (54.7, 152)\n",
            "range of index 6:  ('Georgia', 54.7, 152)\n",
            "range of index 7:  (54.7, 152, False)\n"
          ]
        }
      ],
      "source": [
        "# access item by index\n",
        "print(\"index 0 : \", thistuple[0])\n",
        "print(\"index 1 : \", thistuple[1])\n",
        "print(\"index -2: \", thistuple[-2])\n",
        "print(\"=================================\")\n",
        "print(\"range of index 1: \", thistuple[1:3])\n",
        "print(\"range of index 2: \", thistuple[:3])\n",
        "print(\"range of index 3: \", thistuple[1:])\n",
        "print(\"range of index 4: \", thistuple[:])\n",
        "print(\"range of index 5: \", thistuple[-3:-1])\n",
        "print(\"range of index 6: \", thistuple[:-1])\n",
        "print(\"range of index 7: \", thistuple[-3:])"
      ]
    },
    {
      "cell_type": "code",
      "execution_count": 940,
      "metadata": {
        "colab": {
          "base_uri": "https://localhost:8080/"
        },
        "id": "nHWHgnpidTIt",
        "outputId": "520556e6-fc9c-4dc6-f295-2c02fd3c94bb"
      },
      "outputs": [
        {
          "name": "stdout",
          "output_type": "stream",
          "text": [
            "Yes, Georgia is in thistuple.\n"
          ]
        }
      ],
      "source": [
        "# check if item exists\n",
        "if \"Georgia\" in thistuple:\n",
        "  print(\"Yes, Georgia is in thistuple.\")"
      ]
    },
    {
      "cell_type": "markdown",
      "metadata": {
        "id": "T9v6ZuMcfITx"
      },
      "source": [
        "Tuples are **unchangeable**, therefore we should convert them to a list to change, add, or remove an item."
      ]
    },
    {
      "cell_type": "code",
      "execution_count": 941,
      "metadata": {
        "colab": {
          "base_uri": "https://localhost:8080/"
        },
        "id": "uWaTgAtcdTLM",
        "outputId": "e4f0e97d-f030-4cc7-98ef-242b1afcba9d"
      },
      "outputs": [
        {
          "name": "stdout",
          "output_type": "stream",
          "text": [
            "('Oscar', 54.7, False, 'Brown')\n"
          ]
        }
      ],
      "source": [
        "thislist = list(thistuple) # convert to a list\n",
        "thislist[0] = \"Oscar\" # change an item\n",
        "thislist.append(\"Brown\") # add an item\n",
        "thislist.remove(152) # remove an item\n",
        "thistuple = tuple(thislist) # convert to a tuple\n",
        "print(thistuple)"
      ]
    },
    {
      "cell_type": "markdown",
      "metadata": {
        "id": "YNEB9F21hs5u"
      },
      "source": [
        "The next data type is **set**. We use a set like a list but use `{}` to make sure values can't have any **duplicates**."
      ]
    },
    {
      "cell_type": "code",
      "execution_count": 942,
      "metadata": {
        "colab": {
          "base_uri": "https://localhost:8080/"
        },
        "id": "9-s7KZrxdTNg",
        "outputId": "61616880-8ab5-42da-989c-f745b93cb12e"
      },
      "outputs": [
        {
          "name": "stdout",
          "output_type": "stream",
          "text": [
            "<class 'set'>\n"
          ]
        }
      ],
      "source": [
        "thisset = {\"Georgia\", 54.7, 152, False, False}\n",
        "print(type(thisset))"
      ]
    },
    {
      "cell_type": "code",
      "execution_count": 943,
      "metadata": {
        "colab": {
          "base_uri": "https://localhost:8080/"
        },
        "id": "P3OpJxp6dTQb",
        "outputId": "7a76c84f-4e0a-4b9a-8b2f-bc125cbf6e74"
      },
      "outputs": [
        {
          "name": "stdout",
          "output_type": "stream",
          "text": [
            "4\n"
          ]
        }
      ],
      "source": [
        "print(len(thisset)) # remove duplicated False"
      ]
    },
    {
      "cell_type": "markdown",
      "metadata": {
        "id": "cjNe4ttljkKY"
      },
      "source": [
        "We can not refer to set items by index or key, because sets are **unordered** and they can appear in a different order each time you use them."
      ]
    },
    {
      "cell_type": "code",
      "execution_count": 944,
      "metadata": {
        "colab": {
          "base_uri": "https://localhost:8080/"
        },
        "id": "udvCST7udTS-",
        "outputId": "d50bf6ad-3a18-4904-bb46-ee94acc75f83"
      },
      "outputs": [
        {
          "name": "stdout",
          "output_type": "stream",
          "text": [
            "{False, 152, 54.7, 'Georgia'}\n"
          ]
        }
      ],
      "source": [
        "print(thisset)"
      ]
    },
    {
      "cell_type": "markdown",
      "metadata": {
        "id": "m883K1s0k3gs"
      },
      "source": [
        "Although we can't change values, we are able to **add** or **remove** new values."
      ]
    },
    {
      "cell_type": "code",
      "execution_count": 945,
      "metadata": {
        "colab": {
          "base_uri": "https://localhost:8080/"
        },
        "id": "jmsml1z6dTVZ",
        "outputId": "9d7c2ea7-7882-4ede-fe0f-104eaecec427"
      },
      "outputs": [
        {
          "name": "stdout",
          "output_type": "stream",
          "text": [
            "{False, 'Brown', 'Georgia', 152}\n"
          ]
        }
      ],
      "source": [
        "thisset.add(\"Brown\")\n",
        "thisset.remove(54.7)\n",
        "print(thisset)"
      ]
    },
    {
      "cell_type": "markdown",
      "metadata": {
        "id": "YcvPrTOyqpYB"
      },
      "source": [
        "Let's familiarize ourselves with another data type called **dictionary**. A dictionary consists of **keys** and **values** and is written in curly brackets `{}`."
      ]
    },
    {
      "cell_type": "code",
      "execution_count": 946,
      "metadata": {
        "colab": {
          "base_uri": "https://localhost:8080/"
        },
        "id": "jnFRuCAKqphf",
        "outputId": "33b29780-556e-47b4-a3c8-85be58dfaf93"
      },
      "outputs": [
        {
          "name": "stdout",
          "output_type": "stream",
          "text": [
            "<class 'dict'>\n"
          ]
        }
      ],
      "source": [
        "thisdict = {\"name\": [\"Georgia\"],\n",
        "            \"bmi\": 21.5,\n",
        "            \"normal\": True}\n",
        "print(type(thisdict))"
      ]
    },
    {
      "cell_type": "code",
      "execution_count": 947,
      "metadata": {
        "colab": {
          "base_uri": "https://localhost:8080/"
        },
        "id": "_GJ3hu1psoJG",
        "outputId": "612aa630-0a0e-4b86-ec52-aca52d227ea6"
      },
      "outputs": [
        {
          "name": "stdout",
          "output_type": "stream",
          "text": [
            "3\n"
          ]
        }
      ],
      "source": [
        "print(len(thisdict))"
      ]
    },
    {
      "cell_type": "code",
      "execution_count": 948,
      "metadata": {
        "colab": {
          "base_uri": "https://localhost:8080/"
        },
        "id": "JTN5Wz8ntOHP",
        "outputId": "ed039606-652a-457e-abf0-a28ad2dbe0a0"
      },
      "outputs": [
        {
          "name": "stdout",
          "output_type": "stream",
          "text": [
            "dict_keys(['name', 'bmi', 'normal'])\n"
          ]
        }
      ],
      "source": [
        "# get all the keys\n",
        "print(thisdict.keys())"
      ]
    },
    {
      "cell_type": "code",
      "execution_count": 949,
      "metadata": {
        "colab": {
          "base_uri": "https://localhost:8080/"
        },
        "id": "U23d6mqYtb2o",
        "outputId": "14a0bc22-17a4-4573-bda1-dc31d18f4b5b"
      },
      "outputs": [
        {
          "name": "stdout",
          "output_type": "stream",
          "text": [
            "dict_values([['Georgia'], 21.5, True])\n"
          ]
        }
      ],
      "source": [
        "# get all the values\n",
        "print(thisdict.values())"
      ]
    },
    {
      "cell_type": "code",
      "execution_count": 950,
      "metadata": {
        "colab": {
          "base_uri": "https://localhost:8080/"
        },
        "id": "2uujPvCktn8C",
        "outputId": "c0a44ce8-44e2-4c9e-81c4-32676de74e72"
      },
      "outputs": [
        {
          "name": "stdout",
          "output_type": "stream",
          "text": [
            "dict_items([('name', ['Georgia']), ('bmi', 21.5), ('normal', True)])\n"
          ]
        }
      ],
      "source": [
        "# get all the items in tuples\n",
        "print(thisdict.items())"
      ]
    },
    {
      "cell_type": "code",
      "execution_count": 951,
      "metadata": {
        "colab": {
          "base_uri": "https://localhost:8080/"
        },
        "id": "bwJDMVx1s4e8",
        "outputId": "149aadc8-3ae8-4dda-dcbe-7b94fbbfc549"
      },
      "outputs": [
        {
          "name": "stdout",
          "output_type": "stream",
          "text": [
            "21.5\n"
          ]
        }
      ],
      "source": [
        "# access item by key name\n",
        "print(thisdict[\"bmi\"])"
      ]
    },
    {
      "cell_type": "code",
      "execution_count": 952,
      "metadata": {
        "colab": {
          "base_uri": "https://localhost:8080/"
        },
        "id": "OaSO3o0vs4h1",
        "outputId": "2c732494-da67-4631-ec11-27305a80cd8f"
      },
      "outputs": [
        {
          "name": "stdout",
          "output_type": "stream",
          "text": [
            "Yes, name is one of the keys in the thisdict\n"
          ]
        }
      ],
      "source": [
        "# check if key exists\n",
        "if \"name\" in thisdict:\n",
        "  print(\"Yes, name is one of the keys in the thisdict\")"
      ]
    },
    {
      "cell_type": "code",
      "execution_count": 953,
      "metadata": {
        "colab": {
          "base_uri": "https://localhost:8080/"
        },
        "id": "RkaPCVzYs4nW",
        "outputId": "fb591ae4-cd1c-49b3-8c03-7a3eb7c9ee91"
      },
      "outputs": [
        {
          "name": "stdout",
          "output_type": "stream",
          "text": [
            "{'name': 'Oscar', 'normal': True, 'surname': 'Brown'}\n"
          ]
        }
      ],
      "source": [
        "thisdict[\"name\"] = \"Oscar\" # change an item\n",
        "thisdict[\"surname\"] = \"Brown\" # add an item\n",
        "thisdict.pop(\"bmi\") # remove an item\n",
        "print(thisdict)"
      ]
    },
    {
      "cell_type": "markdown",
      "metadata": {
        "id": "ltw_RalJGqZU"
      },
      "source": [
        "## Exercise 6\n",
        "\n",
        "---\n",
        "\n",
        "\n",
        "1. Calculate the BMI score for all patients and store their **name** and **BMI score** in patients_info dictionary.\n",
        "2. Remove items in the normal range.\n",
        "\n",
        "*   Expected output:\n",
        "        patients_info = {\"name\": [\"Oscar\", \"Juliet\", \"William\"], \"bmi\": [28, 25, 27]}\n"
      ]
    },
    {
      "cell_type": "code",
      "execution_count": 954,
      "metadata": {
        "id": "n7BRNodMGqgj"
      },
      "outputs": [
        {
          "name": "stdout",
          "output_type": "stream",
          "text": [
            "{'name': ['Georgia', 'Oscar', 'Juliet', 'Lily', 'William'], 'bmi': [28, 25, 27]}\n"
          ]
        }
      ],
      "source": [
        "patient_name = [\"Georgia\", \"Oscar\", \"Juliet\", \"Lily\", \"William\"]\n",
        "patient_weight = [54.7, 79.6, 81.2, 51.9, 102.5] # kg\n",
        "patient_height = [152, 168, 179, 161, 193] # cm\n",
        "patients_info = {\"name\":[]\n",
        "                 ,\"bmi\":[]}\n",
        "\n",
        "# start from here...\n",
        "\n",
        "# l = {\n",
        "#     key:value for key, value in zip(patient_name, [round((w / (h/100)**2), 2) \n",
        "#                         for w,h in zip(patient_weight, patient_height)])\n",
        "#                         }\n",
        "# print(l, \"\\n\")\n",
        "\n",
        "\n",
        "# solution\n",
        "patients_info[\"bmi\"] = [bmi for bmi in [round((w // (h/100)**2)) for w,h in zip(patient_weight, patient_height)] if bmi >= 24.9 or bmi <= 18.5]\n",
        "patients_info[\"name\"] = patient_name\n",
        "print(patients_info)\n",
        "\n",
        "\n",
        "\n",
        "\n"
      ]
    },
    {
      "cell_type": "markdown",
      "metadata": {
        "id": "UWihsStYE3WV"
      },
      "source": [
        "# 7.&nbsp;Data Structure (module and array)"
      ]
    },
    {
      "cell_type": "markdown",
      "metadata": {
        "id": "UhTzDarVFGz9"
      },
      "source": [
        "The last data type we want to know is an **array**. However, we need to know about the **module** first to work with arrays in Python easier.\n",
        "\n",
        "Modules group related classes and methods to be accessible from one place.\n",
        "\n",
        "In the following, we import the [numpy](https://numpy.org//) package and modify its name into np to use easier later. Numpy is the fundamental package for scientific computing with Python."
      ]
    },
    {
      "cell_type": "code",
      "execution_count": 955,
      "metadata": {
        "id": "bXVRxYUjFG8M"
      },
      "outputs": [],
      "source": [
        "import numpy as np"
      ]
    },
    {
      "cell_type": "markdown",
      "metadata": {
        "id": "kNI-hJ1c4F5t"
      },
      "source": [
        "We can access an array's values by referring to its index number, and arrays can hold many values."
      ]
    },
    {
      "cell_type": "code",
      "execution_count": 956,
      "metadata": {
        "colab": {
          "base_uri": "https://localhost:8080/"
        },
        "id": "aDNfhUDh4GD5",
        "outputId": "abf9ffc9-99e3-42d3-8441-a4b1c70729f3"
      },
      "outputs": [
        {
          "name": "stdout",
          "output_type": "stream",
          "text": [
            "<class 'numpy.ndarray'>\n"
          ]
        }
      ],
      "source": [
        "# set the seed for reproducibility\n",
        "np.random.seed(42)\n",
        "\n",
        "# generate 20 random float values between 18 and 32\n",
        "bmi_array = np.random.uniform(18, 32, size=20)\n",
        "bmi_array = np.round(bmi_array, 2)\n",
        "\n",
        "print(type(bmi_array))"
      ]
    },
    {
      "cell_type": "code",
      "execution_count": 957,
      "metadata": {
        "colab": {
          "base_uri": "https://localhost:8080/"
        },
        "id": "TzIsf6ti5HMR",
        "outputId": "0f053b5b-fd31-492a-d414-96622fd859be"
      },
      "outputs": [
        {
          "name": "stdout",
          "output_type": "stream",
          "text": [
            "[23.24 31.31 28.25 26.38 20.18 20.18 18.81 30.13 26.42 27.91 18.29 31.58\n",
            " 29.65 20.97 20.55 20.57 22.26 25.35 24.05 22.08]\n"
          ]
        }
      ],
      "source": [
        "print(bmi_array)"
      ]
    },
    {
      "cell_type": "code",
      "execution_count": 958,
      "metadata": {
        "colab": {
          "base_uri": "https://localhost:8080/"
        },
        "id": "Kk0yKPSU5RX7",
        "outputId": "f68d735b-2c55-4ddf-d11e-332c291e66c7"
      },
      "outputs": [
        {
          "name": "stdout",
          "output_type": "stream",
          "text": [
            "20\n"
          ]
        }
      ],
      "source": [
        "print(len(bmi_array))"
      ]
    },
    {
      "cell_type": "code",
      "execution_count": 959,
      "metadata": {
        "colab": {
          "base_uri": "https://localhost:8080/"
        },
        "id": "4eEgBJrN6bzP",
        "outputId": "40b7dea6-8131-408f-edb4-f18c867e30c2"
      },
      "outputs": [
        {
          "name": "stdout",
          "output_type": "stream",
          "text": [
            "index 0 :  23.24\n",
            "index 1 :  31.31\n",
            "index -2:  24.05\n",
            "\n",
            "\n",
            "=================================\n",
            "\n",
            "\n",
            "range of index 1:  [31.31 28.25]\n",
            "\n",
            "range of index 2:  [23.24 31.31 28.25]\n",
            "\n",
            "range of index 3:  [31.31 28.25 26.38 20.18 20.18 18.81 30.13 26.42 27.91 18.29 31.58 29.65\n",
            " 20.97 20.55 20.57 22.26 25.35 24.05 22.08]\n",
            "\n",
            "range of index 4:  [23.24 31.31 28.25 26.38 20.18 20.18 18.81 30.13 26.42 27.91 18.29 31.58\n",
            " 29.65 20.97 20.55 20.57 22.26 25.35 24.05 22.08]\n",
            "\n",
            "range of index 5:  [25.35 24.05]\n",
            "\n",
            "range of index 6:  [23.24 31.31 28.25 26.38 20.18 20.18 18.81 30.13 26.42 27.91 18.29 31.58\n",
            " 29.65 20.97 20.55 20.57 22.26 25.35 24.05]\n",
            "\n",
            "range of index 7:  [25.35 24.05 22.08]\n"
          ]
        }
      ],
      "source": [
        "# access item by index\n",
        "print(\"index 0 : \", bmi_array[0])\n",
        "print(\"index 1 : \", bmi_array[1])\n",
        "print(\"index -2: \", bmi_array[-2])\n",
        "print(\"\\n\")\n",
        "print(\"=================================\")\n",
        "print(\"\\n\")\n",
        "print(\"range of index 1: \", bmi_array[1:3])\n",
        "print(\"\\nrange of index 2: \", bmi_array[:3])\n",
        "print(\"\\nrange of index 3: \", bmi_array[1:])\n",
        "print(\"\\nrange of index 4: \", bmi_array[:])\n",
        "print(\"\\nrange of index 5: \", bmi_array[-3:-1])\n",
        "print(\"\\nrange of index 6: \", bmi_array[:-1])\n",
        "print(\"\\nrange of index 7: \", bmi_array[-3:])"
      ]
    },
    {
      "cell_type": "code",
      "execution_count": 960,
      "metadata": {
        "colab": {
          "base_uri": "https://localhost:8080/"
        },
        "id": "nMu0mDTH8_q7",
        "outputId": "39b6dd20-9ba8-4e51-b276-fda2233af7de"
      },
      "outputs": [
        {
          "name": "stdout",
          "output_type": "stream",
          "text": [
            "(3,)\n",
            "[28 27 29]\n",
            "\n",
            "\n",
            "==================\n",
            "\n",
            "\n",
            "(3, 2)\n",
            "[[29 20]\n",
            " [29 24]\n",
            " [21 26]]\n",
            "\n",
            "\n",
            "==================\n",
            "\n",
            "\n",
            "(2, 3, 5)\n",
            "[[[20 22 20 24 22]\n",
            "  [26 24 19 21 26]\n",
            "  [29 19 27 26 27]]\n",
            "\n",
            " [[22 19 21 29 29]\n",
            "  [24 29 25 20 18]\n",
            "  [21 19 25 21 19]]]\n"
          ]
        }
      ],
      "source": [
        "# 1D array with 5 elements between 18 to 30\n",
        "arr_1d = np.random.randint(18,30,size=(3))\n",
        "print(arr_1d.shape)\n",
        "print(arr_1d)\n",
        "\n",
        "# 2D array with 3 rows and 4 columns\n",
        "arr_2d = np.random.randint(18,30,size=(3, 2))\n",
        "print(\"\\n\")\n",
        "print(\"==================\")\n",
        "print(\"\\n\")\n",
        "print(arr_2d.shape)\n",
        "print(arr_2d)\n",
        "\n",
        "\n",
        "# 3D array with 2 planes, 3 rows, and 2 columns\n",
        "arr_3d = np.random.randint(18,30,size=(2, 3, 5))\n",
        "print(\"\\n\")\n",
        "print(\"==================\")\n",
        "print(\"\\n\")\n",
        "print(arr_3d.shape)\n",
        "print(arr_3d)\n"
      ]
    },
    {
      "cell_type": "markdown",
      "metadata": {
        "id": "-iZqX06FFyH4"
      },
      "source": [
        "## Exercise 7\n",
        "\n",
        "---\n",
        "\n",
        "\n",
        "1. Create two arrays for weight and height with 5 float random values.\n",
        "2. Calculate the BMI score and store it in a list called **calculated_bmi**, at the same time, indicate whether a BMI value is normal or not and store it in a list called **evaluated_bmi**.\n",
        "\n",
        "\n",
        "*   Expected output:\n",
        "        calculated_bmi: [31.35, 21.72, 47.07, 34.03, 29.43]\n",
        "        evaluated_bmi: [False, True, False, False, False]"
      ]
    },
    {
      "cell_type": "code",
      "execution_count": 961,
      "metadata": {
        "id": "k3RYNwSJFyRD"
      },
      "outputs": [
        {
          "name": "stdout",
          "output_type": "stream",
          "text": [
            "calculated bmi: [30.08, 78.32, 476.87, 52.19, 98.1] \n",
            "evaluted bmi:   [False, False, False, False, False]\n"
          ]
        }
      ],
      "source": [
        "# select a reasonable weight and height range as you want\n",
        "np.random.seed(42)\n",
        "\n",
        "# start from here...\n",
        "height_l = np.random.randint(45, 180, size=(5))\n",
        "weight_l = np.random.randint(45, 190, size=(5))\n",
        "\n",
        "calculated_bmi_l = [round(float(w/(h/100)**2), 2) for w,h in zip(weight_l, height_l)]\n",
        "evaluated_bmi = []\n",
        "\n",
        "for b in calculated_bmi_l:\n",
        "    if b >= 18.5 and b<=24.9:\n",
        "        evaluated_bmi.append(True)\n",
        "    else:\n",
        "        evaluated_bmi.append(False)\n",
        "\n",
        "\n",
        "print(f\"calculated bmi: {calculated_bmi_l} \\nevaluted bmi:   {evaluated_bmi}\")"
      ]
    },
    {
      "cell_type": "markdown",
      "metadata": {},
      "source": [
        "# !! NumPy overview  \n",
        "#### 1. **NumPy Basics**\n",
        "#### Importing NumPy:\n",
        "```python\n",
        "import numpy as np\n",
        "```\n",
        "### 2. **Creating Arrays**\n",
        "\n",
        "- **1D Array**:\n",
        "    ```python\n",
        "    a = np.array([1, 2, 3])\n",
        "    ```\n",
        "\n",
        "- **2D Array**:\n",
        "    ```python\n",
        "    b = np.array([[1, 2, 3], [4, 5, 6]])\n",
        "    ```\n",
        "\n",
        "- **Zeroes, Ones, Identity Matrix**:\n",
        "    ```python\n",
        "    np.zeros((2, 3))          # 2x3 matrix filled with zeros\n",
        "    np.ones((2, 3))           # 2x3 matrix filled with ones\n",
        "    np.eye(3)                 # 3x3 identity matrix\n",
        "    ```\n",
        "\n",
        "- **Range, Arange, and Linspace**:\n",
        "    ```python\n",
        "    np.arange(0, 10, 2)       # array([0, 2, 4, 6, 8])\n",
        "    np.linspace(0, 1, 5)      # 5 equally spaced numbers between 0 and 1\n",
        "    ```\n",
        "\n",
        "### 3. **Array Properties**\n",
        "- **Shape**:\n",
        "    ```python\n",
        "    a.shape   # Returns shape of array, e.g., (3,) for 1D array\n",
        "    ```\n",
        "\n",
        "- **Data Type**:\n",
        "    ```python\n",
        "    a.dtype   # Returns type of elements in array, e.g., dtype('int64')\n",
        "    ```\n",
        "\n",
        "- **Number of Dimensions**:\n",
        "    ```python\n",
        "    a.ndim    # Returns number of dimensions (axes), e.g., 1 for 1D array\n",
        "    ```\n",
        "\n",
        "- **Size** (total number of elements):\n",
        "    ```python\n",
        "    a.size    # Returns total number of elements in the array\n",
        "    ```\n",
        "\n",
        "### 4. **Indexing & Slicing**\n",
        "\n",
        "- **Indexing**:\n",
        "    ```python\n",
        "    b[1, 2]    # Access element at row 1, column 2 (returns 6)\n",
        "    ```\n",
        "\n",
        "- **Slicing**:\n",
        "    ```python\n",
        "    b[:, 1]    # Access all rows, column 1\n",
        "    b[0, :]    # Access row 0, all columns\n",
        "    ```\n",
        "\n",
        "- **Boolean Masking**:\n",
        "    ```python\n",
        "    a[a > 1]   # Filters elements > 1 (returns array([2, 3]))\n",
        "    ```\n",
        "\n",
        "### 5. **Reshaping Arrays**\n",
        "```python\n",
        "b.reshape(3, 2)      # Reshape 2x3 array into 3x2\n",
        "b.ravel()            # Flatten the array into 1D\n",
        "```\n",
        "\n",
        "### 6. **Mathematical Operations**\n",
        "\n",
        "- **Element-wise Operations**:\n",
        "    ```python\n",
        "    c = np.array([10, 20, 30])\n",
        "    a + c       # array([11, 22, 33])\n",
        "    a * 2       # array([2, 4, 6])\n",
        "    np.sqrt(a)  # array([1. , 1.41, 1.73])\n",
        "    ```\n",
        "\n",
        "- **Matrix Multiplication**:\n",
        "    ```python\n",
        "    np.dot(a, c)     # Dot product of vectors (returns 140)\n",
        "    np.matmul(b, b.T) # Matrix multiplication\n",
        "    ```\n",
        "\n",
        "### 7. **Aggregate Functions**\n",
        "- **Sum, Mean, Max, Min**:\n",
        "    ```python\n",
        "    np.sum(a)        # Returns sum of array elements (6)\n",
        "    np.mean(a)       # Returns mean (2.0)\n",
        "    np.max(a)        # Returns max (3)\n",
        "    np.min(a)        # Returns min (1)\n",
        "    ```\n",
        "\n",
        "- **Axis-wise Operations**:\n",
        "    ```python\n",
        "    np.sum(b, axis=0)  # Sum along columns\n",
        "    np.mean(b, axis=1) # Mean along rows\n",
        "    ```\n",
        "\n",
        "### 8. **Broadcasting**\n",
        "\n",
        "NumPy allows performing operations between arrays of different shapes by stretching the smaller array.\n",
        "```python\n",
        "a = np.array([1, 2, 3])\n",
        "b = np.array([[1], [2], [3]])\n",
        "\n",
        "a + b  # array([[2, 3, 4], [3, 4, 5], [4, 5, 6]])\n",
        "```\n",
        "\n",
        "### 9. **Random Numbers**\n",
        "\n",
        "- **Generate Random Numbers**:\n",
        "    ```python\n",
        "    np.random.rand(3, 2)       # Uniform distribution in [0, 1)\n",
        "    np.random.randn(3, 2)      # Standard normal distribution\n",
        "    np.random.randint(0, 10, (3, 2)) # Integers between 0 and 9\n",
        "    ```\n",
        "\n",
        "- **Shuffling & Sampling**:\n",
        "    ```python\n",
        "    np.random.shuffle(a)       # Shuffle the array in-place\n",
        "    np.random.choice(a, 2)     # Randomly sample 2 elements from array\n",
        "    ```\n",
        "\n",
        "### 10. **Advanced Operations**\n",
        "\n",
        "- **Transposing Arrays**:\n",
        "    ```python\n",
        "    b.T  # Transpose a matrix\n",
        "    ```\n",
        "\n",
        "- **Stacking Arrays**:\n",
        "    ```python\n",
        "    np.vstack([a, a])   # Stack arrays vertically\n",
        "    np.hstack([a, a])   # Stack arrays horizontally\n",
        "    ```\n",
        "\n",
        "- **Concatenation**:\n",
        "    ```python\n",
        "    np.concatenate([a, a], axis=0)  # Concatenate arrays along axis\n",
        "    ```\n",
        "\n",
        "### 11. **Copying Arrays**\n",
        "\n",
        "- **Shallow vs Deep Copy**:\n",
        "    ```python\n",
        "    c = a.copy()    # Deep copy: changes to `c` won't affect `a`\n",
        "    ```\n",
        "\n",
        "### 12. **Linear Algebra Operations**\n",
        "- **Inverse, Determinant, Eigenvalues**:\n",
        "    ```python\n",
        "    np.linalg.inv(b)             # Inverse of a matrix\n",
        "    np.linalg.det(b)             # Determinant of a matrix\n",
        "    np.linalg.eig(b)             # Eigenvalues and eigenvectors\n",
        "    ```\n",
        "\n",
        "### 13. **Handling Missing Values**\n",
        "\n",
        "- **Replace with NaN**:\n",
        "    ```python\n",
        "    a[a < 0] = np.nan   # Replace negative values with NaN\n",
        "    ```\n",
        "\n",
        "- **Check for NaN**:\n",
        "    ```python\n",
        "    np.isnan(a)         # Returns a boolean array where NaN is True\n",
        "    ```\n",
        "\n",
        "- **Replace NaN with a number**:\n",
        "    ```python\n",
        "    np.nan_to_num(a)    # Replace NaN with 0 or other value\n",
        "    ```\n",
        "---"
      ]
    },
    {
      "cell_type": "markdown",
      "metadata": {
        "id": "KN5e7iF2FZrZ"
      },
      "source": [
        "# 8.&nbsp;Algorithm (function)"
      ]
    },
    {
      "cell_type": "markdown",
      "metadata": {
        "id": "0FokSWj-Fd2O"
      },
      "source": [
        "**Algorithms** define a set of actions that must be performed in a specific step by step to produce the desired result.\n",
        "\n",
        "**Functions** help us to implement algorithms. Functions are blocks of code that only run when they are called in situations where we want to reuse existing code without rewriting it."
      ]
    },
    {
      "cell_type": "code",
      "execution_count": 962,
      "metadata": {
        "colab": {
          "base_uri": "https://localhost:8080/"
        },
        "id": "LcTtDhE2Fd-0",
        "outputId": "d2a24a59-0afc-41c9-8d85-534f07a5ff29"
      },
      "outputs": [
        {
          "name": "stdout",
          "output_type": "stream",
          "text": [
            "this is my first function.\n"
          ]
        }
      ],
      "source": [
        "# define a function\n",
        "def first_function():\n",
        "  print(\"this is my first function.\")\n",
        "\n",
        "# call a function\n",
        "first_function()"
      ]
    },
    {
      "cell_type": "markdown",
      "metadata": {
        "id": "i7XYQz5YvCS2"
      },
      "source": [
        "We can write our algorithm inside a function and pass value to it."
      ]
    },
    {
      "cell_type": "code",
      "execution_count": 963,
      "metadata": {
        "colab": {
          "base_uri": "https://localhost:8080/"
        },
        "id": "LD8ARDdhvCZ4",
        "outputId": "2c3633cc-1c74-443a-8de3-660cc6fa619f"
      },
      "outputs": [
        {
          "data": {
            "text/plain": [
              "7"
            ]
          },
          "execution_count": 963,
          "metadata": {},
          "output_type": "execute_result"
        }
      ],
      "source": [
        "def first_function(x):\n",
        "  x = x + 3\n",
        "  return x\n",
        "\n",
        "first_function(x=4)"
      ]
    },
    {
      "cell_type": "markdown",
      "metadata": {
        "id": "nrBwEqmYwwcT"
      },
      "source": [
        "More than one argument we can use in functions."
      ]
    },
    {
      "cell_type": "code",
      "execution_count": 964,
      "metadata": {
        "colab": {
          "base_uri": "https://localhost:8080/"
        },
        "id": "zWVIK6MWwwme",
        "outputId": "7311121f-c5fc-4851-ac45-430bc0c7a7ba"
      },
      "outputs": [
        {
          "data": {
            "text/plain": [
              "6"
            ]
          },
          "execution_count": 964,
          "metadata": {},
          "output_type": "execute_result"
        }
      ],
      "source": [
        "def first_function(x,y):\n",
        "  z = x + y\n",
        "  return z\n",
        "\n",
        "first_function(x=4,y=2)"
      ]
    },
    {
      "cell_type": "markdown",
      "metadata": {
        "id": "-tmKYD9txYCH"
      },
      "source": [
        "It's better to start a function name with a **verb** that explains what will happen in a function."
      ]
    },
    {
      "cell_type": "code",
      "execution_count": 965,
      "metadata": {
        "colab": {
          "base_uri": "https://localhost:8080/"
        },
        "id": "28V0zLoYxYPa",
        "outputId": "f198e3e5-a56d-4598-d410-18247ca9c77d"
      },
      "outputs": [
        {
          "data": {
            "text/plain": [
              "6"
            ]
          },
          "execution_count": 965,
          "metadata": {},
          "output_type": "execute_result"
        }
      ],
      "source": [
        "def get_sum(x,y):\n",
        "  z = x + y\n",
        "  return z\n",
        "\n",
        "get_sum(x=4,y=2)"
      ]
    },
    {
      "cell_type": "markdown",
      "metadata": {
        "id": "RCjLt2CWx0Sa"
      },
      "source": [
        "We can set a default value for arguments."
      ]
    },
    {
      "cell_type": "code",
      "execution_count": 966,
      "metadata": {
        "colab": {
          "base_uri": "https://localhost:8080/"
        },
        "id": "OBIaOs1xx0dl",
        "outputId": "dfeb968b-91dc-4f02-bc53-53855ed00112"
      },
      "outputs": [
        {
          "data": {
            "text/plain": [
              "7"
            ]
          },
          "execution_count": 966,
          "metadata": {},
          "output_type": "execute_result"
        }
      ],
      "source": [
        "def get_sum(x,y=3):\n",
        "  z = x + y\n",
        "  return z\n",
        "\n",
        "get_sum(x=4)"
      ]
    },
    {
      "cell_type": "code",
      "execution_count": 967,
      "metadata": {
        "colab": {
          "base_uri": "https://localhost:8080/"
        },
        "id": "7pliaa8myP3i",
        "outputId": "765ddfc8-4f30-4d53-8962-bbbab8c6fbdd"
      },
      "outputs": [
        {
          "data": {
            "text/plain": [
              "6"
            ]
          },
          "execution_count": 967,
          "metadata": {},
          "output_type": "execute_result"
        }
      ],
      "source": [
        "def get_sum(x,y=3):\n",
        "  z = x + y\n",
        "  return z\n",
        "\n",
        "get_sum(x=4,y=2)"
      ]
    },
    {
      "cell_type": "markdown",
      "metadata": {
        "id": "6FZESGBFyXf1"
      },
      "source": [
        "We can also pass a list to the arguments."
      ]
    },
    {
      "cell_type": "code",
      "execution_count": 968,
      "metadata": {
        "colab": {
          "base_uri": "https://localhost:8080/"
        },
        "id": "ggakhiWeyXr_",
        "outputId": "670985a2-20ab-405a-ca92-a5d780d6548b"
      },
      "outputs": [
        {
          "data": {
            "text/plain": [
              "[3, 2, 7, 1, 4]"
            ]
          },
          "execution_count": 968,
          "metadata": {},
          "output_type": "execute_result"
        }
      ],
      "source": [
        "def get_sum(x,y):\n",
        "  z = x + y\n",
        "  return z\n",
        "\n",
        "x = [3,2,7]\n",
        "y = [1,4]\n",
        "get_sum(x,y)"
      ]
    },
    {
      "cell_type": "markdown",
      "metadata": {
        "id": "JsmqUPt6yuGr"
      },
      "source": [
        "Or using loops and conditional statements inside functions."
      ]
    },
    {
      "cell_type": "code",
      "execution_count": 969,
      "metadata": {
        "colab": {
          "base_uri": "https://localhost:8080/"
        },
        "id": "Vi8rULGIyuO7",
        "outputId": "ef8fb281-2bf6-44b0-b187-eb6cba26cb9e"
      },
      "outputs": [
        {
          "name": "stdout",
          "output_type": "stream",
          "text": [
            "i = 3 and j = 9\n",
            "i = 2 and j = 4\n",
            "i = 7 and j = 49\n",
            "i = 1 and j = 1\n",
            "i = -4 and j = 16\n"
          ]
        }
      ],
      "source": [
        "def get_square(x,y):\n",
        "  '''\n",
        "  -> function documentation\n",
        "  returns the square of any two provided numbers\n",
        "  '''\n",
        "  z = x + y\n",
        "  if len(z) == 0:\n",
        "    print(\"your list is empty!\")\n",
        "  else:\n",
        "    for i in z:\n",
        "      j = i**2\n",
        "      print(f\"i = {i} and j = {j}\")\n",
        "\n",
        "x = [3,2,7]\n",
        "y = [1,-4]\n",
        "get_square(x,y)"
      ]
    },
    {
      "cell_type": "markdown",
      "metadata": {
        "id": "GeLjDt-uF19D"
      },
      "source": [
        "## Exercise 8\n",
        "\n",
        "---\n",
        "\n",
        "\n",
        "1. Define a function to calculate BMI score.\n",
        "2. Store BMI scores into the bmi_score list.\n",
        "3. Sort items  by descending.\n",
        "\n",
        "*   Expected output:\n",
        "        bmi_score = [23.68, 28.20, 25.34, 20.02]"
      ]
    },
    {
      "cell_type": "code",
      "execution_count": 970,
      "metadata": {
        "id": "W_z2sgs11Cio"
      },
      "outputs": [
        {
          "name": "stdout",
          "output_type": "stream",
          "text": [
            "bmi_score: [23.68, 28.2, 25.34, 20.02]\n"
          ]
        }
      ],
      "source": [
        "# patient = [weight(kg), height(cm)]\n",
        "patient1 = [54.7, 152]\n",
        "patient2 = [79.6, 168]\n",
        "patient3 = [81.2, 179]\n",
        "patient4 = [51.9, 161]\n",
        "bmi_score = []\n",
        "\n",
        "# start from here...\n",
        "def calc_p_bmi(*args):\n",
        "    output = []\n",
        "    for p in args:\n",
        "        output.append(round((p[0] / (p[1]/100)**2), 2))\n",
        "    return output\n",
        "\n",
        "bmi_score = calc_p_bmi(patient1, patient2, patient3, patient4)\n",
        "\n",
        "print(\"bmi_score:\", bmi_score)\n"
      ]
    },
    {
      "cell_type": "markdown",
      "metadata": {},
      "source": [
        "# !! Python Lambda functions and decorators  \n",
        "\n",
        "### Lambda Functions\n",
        "\n",
        "Lambda functions are small, anonymous functions defined using the `lambda` keyword.\n",
        "**Syntax**: `lambda arguments: expression`\n",
        "**Characteristics**:\n",
        "  - Can take multiple arguments but can only contain a single expression.\n",
        "  - Return the value of the expression.\n",
        "  - Often used for short, throwaway functions.\n",
        "**Common Uses**:\n",
        "  - **With `map`**: Apply a function to all items in an iterable.\n",
        "    ```python\n",
        "    result = list(map(lambda x: x ** 2, [1, 2, 3]))  # [1, 4, 9]\n",
        "    ```\n",
        "  - **With `filter`**: Filter items in an iterable based on a condition.\n",
        "    ```python\n",
        "    result = list(filter(lambda x: x % 2 == 0, [1, 2, 3, 4]))  # [2, 4]\n",
        "    ```\n",
        "  - **Sorting**: Use as a key for sorting lists.\n",
        "    ```python\n",
        "    sorted_list = sorted(list_of_dicts, key=lambda x: x['key'])\n",
        "    ```\n",
        "  - **Conditional Expressions**: Return values based on a condition.\n",
        "    ```python\n",
        "    max_value = lambda x, y: x if x > y else y\n",
        "    ```\n",
        "\n",
        "---\n",
        "\n",
        "### Decorators\n",
        "\n",
        "Decorators are functions that modify or enhance the behavior of other functions or methods.\n",
        "**Syntax**:\n",
        "  - A decorator is defined as a function that takes another function as an argument and returns a new function.\n",
        "  - Applied using the `@decorator_name` syntax above the function to be decorated.\n",
        "**Common Structure**:\n",
        "  ```python\n",
        "  def decorator(func):\n",
        "      def wrapper(*args, **kwargs):\n",
        "          # Add functionality here\n",
        "          return func(*args, **kwargs)\n",
        "      return wrapper\n",
        "  ```\n",
        "**Common Uses**:\n",
        "  - **Logging**: Track function calls and arguments.\n",
        "  - **Authorization**: Check permissions before executing a function.\n",
        "  - **Caching**: Store results of expensive function calls.\n",
        "  - **Validation**: Validate inputs before processing them.\n",
        "- **Using `functools.wraps`**: To preserve the metadata (name, docstring) of the original function.\n",
        "  ```python\n",
        "  import functools\n",
        "\n",
        "  def my_decorator(func):\n",
        "      @functools.wraps(func)\n",
        "      def wrapper(*args, **kwargs):\n",
        "          # Add functionality here\n",
        "          return func(*args, **kwargs)\n",
        "      return wrapper\n",
        "  ```\n",
        "\n",
        "---  \n",
        "\n",
        "\n"
      ]
    },
    {
      "cell_type": "markdown",
      "metadata": {
        "id": "LgMZeu2yFeGu"
      },
      "source": [
        "# 9.&nbsp;Algorithm (class)"
      ]
    },
    {
      "cell_type": "markdown",
      "metadata": {
        "id": "FAPRYKP-FgAM"
      },
      "source": [
        "There are many properties and methods in an **object** in Python, and almost everything is an object. **Classes** are like object constructors; we use them to group data and functionality. Functions belonging to objects are called **methods**."
      ]
    },
    {
      "cell_type": "code",
      "execution_count": 971,
      "metadata": {
        "colab": {
          "base_uri": "https://localhost:8080/"
        },
        "id": "KReIXPhzFgIq",
        "outputId": "c99d2a95-598f-4ee1-a3c8-e5e28ca29046"
      },
      "outputs": [
        {
          "name": "stdout",
          "output_type": "stream",
          "text": [
            "i = 3 and j = 9\n",
            "i = 2 and j = 4\n",
            "i = 7 and j = 49\n",
            "i = 1 and j = 1\n",
            "i = -4 and j = 16\n"
          ]
        }
      ],
      "source": [
        "def get_square(x,y):\n",
        "  z = x + y\n",
        "  if len(z) == 0:\n",
        "    print(\"your list is empty!\")\n",
        "  else:\n",
        "    for i in z:\n",
        "      j = i**2\n",
        "      print(f\"i = {i} and j = {j}\")\n",
        "\n",
        "x = [3,2,7]\n",
        "y = [1,-4]\n",
        "get_square(x,y)"
      ]
    },
    {
      "cell_type": "code",
      "execution_count": 972,
      "metadata": {
        "colab": {
          "base_uri": "https://localhost:8080/"
        },
        "id": "6cJvyCBk57Xv",
        "outputId": "b8d51ed9-33c7-4f8e-dfc3-916727f9ca9b"
      },
      "outputs": [
        {
          "name": "stdout",
          "output_type": "stream",
          "text": [
            "94.3\n",
            "73.6\n"
          ]
        }
      ],
      "source": [
        "class Price:\n",
        "  def __init__(self, value, discount):\n",
        "    self.value = value\n",
        "    self.discount = discount\n",
        "\n",
        "  def summer(self):\n",
        "    summer_price = round(self.value - (self.value * (self.discount/100)), 2)\n",
        "    print(summer_price)\n",
        "\n",
        "  def winter(self):\n",
        "    winter_price = round(self.value - (self.value * (self.discount * 2/100)), 2) #double discount\n",
        "    print(winter_price)\n",
        "\n",
        "#create variables from the class (Price is a \"definition\" and shoes_price is an \"instance\")\n",
        "shoes_price = Price(115, 18) # price 115 euro and 18% discount\n",
        "shoes_price.summer()\n",
        "shoes_price.winter()"
      ]
    },
    {
      "cell_type": "markdown",
      "metadata": {},
      "source": [
        "# !! OOP in python overview  \n",
        "\n",
        "- OOP is a programming paradigm that uses \"objects\" to design software.\n",
        "- Objects are instances of classes, which encapsulate data and functionality.\n",
        "\n",
        "#### **Key Concepts**\n",
        "- **Class**: A blueprint for creating objects (instances). Defines properties (attributes) and methods (functions).\n",
        "- **Object**: An instance of a class. Contains real values instead of variables.\n",
        "- **Attributes**: Variables that belong to a class (characteristics of an object).\n",
        "- **Methods**: Functions defined within a class that describe the behaviors of an object.\n",
        "\n",
        "#### **Core Principles**\n",
        "- **Encapsulation**: Bundling of data and methods that operate on the data within a single unit (class). It restricts direct access to some of the object's components.\n",
        "  - Access modifiers: \n",
        "    - Public: Accessible from outside the class.\n",
        "    - Protected: Accessible within the class and its subclasses.\n",
        "    - Private: Accessible only within the class.\n",
        "\n",
        "- **Inheritance**: Mechanism to create a new class based on an existing class (parent class). The new class (child class) inherits attributes and methods from the parent class.\n",
        "  - Allows code reusability and the creation of hierarchical class structures.\n",
        "\n",
        "- **Polymorphism**: Ability to present the same interface for different underlying data types. Enables methods to do different things based on the object calling them.\n",
        "  - Method Overriding: A child class can provide a specific implementation of a method that is already defined in its parent class.\n",
        "\n",
        "- **Abstraction**: Hiding complex implementation details and exposing only the necessary features of an object. This can be achieved using abstract classes and interfaces.\n",
        "\n",
        "#### **Creating a Class**\n",
        "```python\n",
        "class ClassName:\n",
        "    def __init__(self, attributes):\n",
        "        self.attribute = attributes  # Constructor method\n",
        "\n",
        "    def method_name(self):\n",
        "        # Method implementation\n",
        "        pass\n",
        "```\n",
        "\n",
        "#### **Creating an Object**\n",
        "```python\n",
        "object_name = ClassName(arguments)  # Instantiate a class\n",
        "```\n",
        "\n",
        "#### **Example of a Class in Python**\n",
        "```python\n",
        "class Dog:\n",
        "    def __init__(self, name, age):\n",
        "        self.name = name  # Public attribute\n",
        "        self._age = age   # Protected attribute\n",
        "\n",
        "    def bark(self):\n",
        "        print(f\"{self.name} says Woof!\")\n",
        "\n",
        "    def get_age(self):\n",
        "        return self._age  # Public method to access protected attribute\n",
        "```\n",
        "\n",
        "#### **Inheritance Example**\n",
        "```python\n",
        "class Animal:\n",
        "    def speak(self):\n",
        "        print(\"Animal speaks\")\n",
        "\n",
        "class Dog(Animal):  # Dog inherits from Animal\n",
        "    def speak(self):  # Method overriding\n",
        "        print(\"Dog barks\")\n",
        "\n",
        "dog = Dog()\n",
        "dog.speak()  # Output: Dog barks\n",
        "```\n",
        "\n",
        "#### **Polymorphism Example**\n",
        "```python\n",
        "class Cat(Animal):\n",
        "    def speak(self):\n",
        "        print(\"Cat meows\")\n",
        "\n",
        "def animal_sound(animal):\n",
        "    animal.speak()\n",
        "\n",
        "animal_sound(Dog())  # Output: Dog barks\n",
        "animal_sound(Cat())  # Output: Cat meows\n",
        "```\n",
        "\n",
        "#### **Abstraction Example**\n",
        "```python\n",
        "from abc import ABC, abstractmethod\n",
        "\n",
        "class Shape(ABC):\n",
        "    @abstractmethod\n",
        "    def area(self):\n",
        "        pass\n",
        "\n",
        "class Rectangle(Shape):\n",
        "    def __init__(self, width, height):\n",
        "        self.width = width\n",
        "        self.height = height\n",
        "\n",
        "    def area(self):\n",
        "        return self.width * self.height  # Concrete implementation\n",
        "\n",
        "rect = Rectangle(5, 10)\n",
        "print(rect.area())  # Output: 50\n",
        "```\n",
        "\n",
        "#### **Conclusion**\n",
        "- OOP promotes code organization and modularity.\n",
        "- It enhances reusability and maintainability of code.\n",
        "- Key concepts include encapsulation, inheritance, polymorphism, and abstraction.\n",
        "\n",
        "---  \n",
        "\n",
        "\n"
      ]
    },
    {
      "cell_type": "markdown",
      "metadata": {
        "id": "0jKazIRgF6kJ"
      },
      "source": [
        "## Exercise 9\n",
        "\n",
        "---\n",
        "\n",
        "\n",
        "1. Define a class called BMI and three methods including converting pound to kg, inch to cm, and calculating BMI score.\n",
        "2. Calculate BMI score for 3 given patients and store them in the bmi_score list.\n",
        "\n",
        "*   Expected output:\n",
        "        bmi_score = [23.49, 27.98, 25.14, 19.86]"
      ]
    },
    {
      "cell_type": "code",
      "execution_count": 973,
      "metadata": {
        "id": "sPdwfkMYF6rJ"
      },
      "outputs": [
        {
          "name": "stdout",
          "output_type": "stream",
          "text": [
            "[23.49, 27.98, 25.14, 19.86]\n"
          ]
        }
      ],
      "source": [
        "# 1 pound ≈ 0.45 kg\n",
        "# 1 inch ≈ 2.54 cm\n",
        "# patient = [weight(pound), height(inch)]\n",
        "patient1 = [120.59, 59.84]\n",
        "patient2 = [175.49, 66.14]\n",
        "patient3 = [179.02, 70.47]\n",
        "patient4 = [114.42, 63.39]\n",
        "bmi_score = []\n",
        "\n",
        "# start from here...\n",
        "class BMI:\n",
        "    def __init__(self, weight, height):\n",
        "        self.weight = weight\n",
        "        self.height = height\n",
        "\n",
        "    def conv_lb_kg(self):\n",
        "        self.weight = self.weight * 0.45\n",
        "    \n",
        "    def conv_inch_cm(self):\n",
        "        self.height = self.height * 2.54\n",
        "    \n",
        "    def calc_bmi(self):\n",
        "        return round((self.weight / (self.height/100)**2), 2)\n",
        "\n",
        "def calc_p_bmi(p):\n",
        "    patient = BMI(weight=p[0], height=p[1])\n",
        "    patient.conv_inch_cm()\n",
        "    patient.conv_lb_kg()\n",
        "    return patient.calc_bmi()\n",
        "\n",
        "patients = [patient1, patient2, patient3, patient4]\n",
        "\n",
        "bmi_score = [calc_p_bmi(p) for p in patients]\n",
        "\n",
        "print(bmi_score)"
      ]
    },
    {
      "cell_type": "markdown",
      "metadata": {
        "id": "Wi38m2kCFgQA"
      },
      "source": [
        "# 10.&nbsp;Algorithm (error and exception)"
      ]
    },
    {
      "cell_type": "markdown",
      "metadata": {
        "id": "EZIFQwRcFtrN"
      },
      "source": [
        "If Python can't understand your code, we will get an **error**! However, we can find our error location by finding `^` in an error message."
      ]
    },
    {
      "cell_type": "code",
      "execution_count": 974,
      "metadata": {
        "colab": {
          "base_uri": "https://localhost:8080/",
          "height": 106
        },
        "id": "Tys_1jHNFtzQ",
        "outputId": "84d09bb6-6da6-4fd4-c64f-3ec27562e676"
      },
      "outputs": [
        {
          "name": "stdout",
          "output_type": "stream",
          "text": [
            "Hello\n"
          ]
        }
      ],
      "source": [
        "# syntax error (missed variable)\n",
        "x = 5\n",
        "if x > 3:\n",
        "  print(\"Hello\")"
      ]
    },
    {
      "cell_type": "code",
      "execution_count": 975,
      "metadata": {
        "colab": {
          "base_uri": "https://localhost:8080/",
          "height": 106
        },
        "id": "DnePzxlFG3BW",
        "outputId": "2eab783f-657e-4ea9-d51f-ce0550aad79d"
      },
      "outputs": [
        {
          "name": "stdout",
          "output_type": "stream",
          "text": [
            "Hello\n"
          ]
        }
      ],
      "source": [
        "# syntax error (misspelling)\n",
        "x = 5\n",
        "if x > 3:\n",
        "  print(\"Hello\")"
      ]
    },
    {
      "cell_type": "code",
      "execution_count": 976,
      "metadata": {
        "id": "5G13UAIKG-75"
      },
      "outputs": [
        {
          "name": "stdout",
          "output_type": "stream",
          "text": [
            "Hello\n"
          ]
        }
      ],
      "source": [
        "# missing indentation error (missed indentation)\n",
        "x = 5\n",
        "if x > 3:\n",
        "    print(\"Hello\")"
      ]
    },
    {
      "cell_type": "markdown",
      "metadata": {
        "id": "Izkq8WHzIIkq"
      },
      "source": [
        "On the other hand, sometimes Python understands our code, but can't execute it. Therefore, it raises an **exception**. The text in the console is called **traceback** and it helps us to **debug** our code."
      ]
    },
    {
      "cell_type": "code",
      "execution_count": 977,
      "metadata": {
        "colab": {
          "base_uri": "https://localhost:8080/",
          "height": 159
        },
        "id": "mTa5piKVHUcS",
        "outputId": "17c1c648-f82e-4d48-ea97-5d69b8b93f79"
      },
      "outputs": [],
      "source": [
        "# name error\n",
        "# height = cm / 100"
      ]
    },
    {
      "cell_type": "code",
      "execution_count": 978,
      "metadata": {
        "colab": {
          "base_uri": "https://localhost:8080/",
          "height": 159
        },
        "id": "TkW5qZlNI19Z",
        "outputId": "e5b0b0b0-8a26-426c-9c28-756e31c8d651"
      },
      "outputs": [],
      "source": [
        "# type error\n",
        "# height = 100 + \"56\""
      ]
    },
    {
      "cell_type": "code",
      "execution_count": 979,
      "metadata": {
        "colab": {
          "base_uri": "https://localhost:8080/",
          "height": 159
        },
        "id": "riE9MlmxKZIU",
        "outputId": "04df1f9d-0aa1-40ce-8497-8787b7cf4c94"
      },
      "outputs": [
        {
          "ename": "ZeroDivisionError",
          "evalue": "division by zero",
          "output_type": "error",
          "traceback": [
            "\u001b[1;31m---------------------------------------------------------------------------\u001b[0m",
            "\u001b[1;31mZeroDivisionError\u001b[0m                         Traceback (most recent call last)",
            "Cell \u001b[1;32mIn[979], line 2\u001b[0m\n\u001b[0;32m      1\u001b[0m \u001b[38;5;66;03m# zero division error\u001b[39;00m\n\u001b[1;32m----> 2\u001b[0m height \u001b[38;5;241m=\u001b[39m \u001b[38;5;241;43m156\u001b[39;49m\u001b[43m \u001b[49m\u001b[38;5;241;43m/\u001b[39;49m\u001b[43m \u001b[49m\u001b[38;5;241;43m0\u001b[39;49m\n",
            "\u001b[1;31mZeroDivisionError\u001b[0m: division by zero"
          ]
        }
      ],
      "source": [
        "# zero division error\n",
        "height = 156 / 0"
      ]
    },
    {
      "cell_type": "code",
      "execution_count": null,
      "metadata": {
        "colab": {
          "base_uri": "https://localhost:8080/",
          "height": 331
        },
        "id": "5zPZhS-hKpm-",
        "outputId": "7f57792a-c55f-41c2-a05f-af7141bd28c0"
      },
      "outputs": [],
      "source": [
        "# module not found error\n",
        "# import numpyy"
      ]
    },
    {
      "cell_type": "markdown",
      "metadata": {
        "id": "Q6f3aTWxKz3c"
      },
      "source": [
        "Be careful! Sometimes a module exists but we need to install it."
      ]
    },
    {
      "cell_type": "code",
      "execution_count": null,
      "metadata": {
        "colab": {
          "base_uri": "https://localhost:8080/"
        },
        "id": "ztrZXgs-K50Z",
        "outputId": "97afa89a-aba6-4daa-c91d-648029f88907"
      },
      "outputs": [],
      "source": [
        "# !pip install mne\n",
        "# import mne # package for human neurophysiological data analysis"
      ]
    },
    {
      "cell_type": "code",
      "execution_count": 852,
      "metadata": {
        "colab": {
          "base_uri": "https://localhost:8080/",
          "height": 176
        },
        "id": "JSi8oBVXLnv1",
        "outputId": "63789029-ef12-42fa-ef1a-f6001950bf22"
      },
      "outputs": [],
      "source": [
        "# index error\n",
        "height = [149, 187, 168]\n",
        "# height[3]"
      ]
    },
    {
      "cell_type": "markdown",
      "metadata": {
        "id": "DeTk0eX9MSmg"
      },
      "source": [
        "We can use errors and exceptions to debug our code. Besides, we can use them to avoid **unwanted issues**."
      ]
    },
    {
      "cell_type": "code",
      "execution_count": 853,
      "metadata": {
        "colab": {
          "base_uri": "https://localhost:8080/"
        },
        "id": "tMUsJRXRM1fA",
        "outputId": "ff20dc59-c4a2-42a1-9761-eb5a769e25ec"
      },
      "outputs": [
        {
          "name": "stdout",
          "output_type": "stream",
          "text": [
            "[23.7, 28.2, 25.3, 20.0, 27.5]\n"
          ]
        }
      ],
      "source": [
        "# test 1: run the code and see the results\n",
        "# test 2: add \"184\" to \"student_height\" and run the code\n",
        "# test 3: remove \"184\" from \"student_height\" and change \"179\" into \"0\" and run the code\n",
        "\n",
        "student_name = [\"Georgia\", \"Oscar\", \"Juliet\", \"Lily\", \"William\"]\n",
        "student_weight = [54.7, 79.6, 81.2, 51.9, 102.5]\n",
        "student_height = [152, 168, 179, 161, 193]\n",
        "student_bmi = []\n",
        "\n",
        "# make sure about data size\n",
        "if len(student_weight) != len(student_height):\n",
        "  raise Exception(\"There must be equal size for weights and heights\")\n",
        "\n",
        "for i in range(len(student_name)):\n",
        "  # make sure height is not zero\n",
        "  if student_height[i] == 0:\n",
        "    raise ValueError(\"height can not be zero\")\n",
        "\n",
        "  student_bmi.append(round(student_weight[i] / ((student_height[i]/100)**2), 1))\n",
        "\n",
        "print(student_bmi)"
      ]
    },
    {
      "cell_type": "markdown",
      "metadata": {
        "id": "KTgfBnu8Pnot"
      },
      "source": [
        "Sometimes we don't want to raise an exception and we want to handle it. For example, we want a `for` loop to continue at the end of the code by ignoring negative values for weight, therefore we can use `try` and `except`."
      ]
    },
    {
      "cell_type": "code",
      "execution_count": 854,
      "metadata": {
        "colab": {
          "base_uri": "https://localhost:8080/"
        },
        "id": "oVktrCMePn97",
        "outputId": "f0728b0e-7920-435d-e76b-cc3e6d1b0c0c"
      },
      "outputs": [
        {
          "name": "stdout",
          "output_type": "stream",
          "text": [
            "[23.7, 28.2, 20.0, 27.5]\n"
          ]
        }
      ],
      "source": [
        "student_name = [\"Georgia\", \"Oscar\", \"Juliet\", \"Lily\", \"William\"]\n",
        "student_weight = [54.7, 79.6, 81.2, 51.9, 102.5]\n",
        "student_height = [-152, 168, 0, 161, 193]\n",
        "student_bmi = []\n",
        "\n",
        "\n",
        "for i in range(len(student_name)):\n",
        "\n",
        "  try:\n",
        "    student_bmi.append(round(student_weight[i] / ((student_height[i]/100)**2), 1))\n",
        "\n",
        "  except:\n",
        "    continue\n",
        "\n",
        "print(student_bmi)"
      ]
    },
    {
      "cell_type": "markdown",
      "metadata": {
        "id": "83n86RAyF8z4"
      },
      "source": [
        "## Exercise 10\n",
        "\n",
        "---\n",
        "\n",
        "\n",
        "1. Copy your exercise 9 code.\n",
        "2. Set a **type error** to check the heights have float values.\n",
        "3. Set a value error to make sure the BMI score is not negative.\n"
      ]
    },
    {
      "cell_type": "code",
      "execution_count": null,
      "metadata": {
        "id": "F9w8wfvoF89w"
      },
      "outputs": [],
      "source": [
        "# 1 pound ≈ 0.45 kg\n",
        "# 1 inch ≈ 2.54 cm\n",
        "# patient = [weight(pond), height(inch)]\n",
        "patient1 = [120.59, 59.84]\n",
        "patient2 = [175.49, 66.14]\n",
        "patient3 = [179.02, 70.47]\n",
        "patient4 = [114.42, 63.39]\n",
        "bmi_score = []\n",
        "\n",
        "# past your code here...\n",
        "\n",
        "\n",
        "\n",
        "\n",
        "\n",
        "\n",
        "\n"
      ]
    },
    {
      "cell_type": "markdown",
      "metadata": {
        "id": "m16jOg89XwSu"
      },
      "source": [
        "Congratulations! You did it.\n"
      ]
    },
    {
      "cell_type": "markdown",
      "metadata": {
        "id": "egFGW_Rf9UGt"
      },
      "source": [
        "# References and Resources:\n",
        "\n",
        "1. You can continue your learning by more complex data structure and algorithm tasks in [Leetcode](https://leetcode.com/).\n",
        "\n",
        "2. you can always have access to Python syntax and practical examples in [w3schools](https://www.w3schools.com/python/default.asp) and [geeksforgeeks](https://www.geeksforgeeks.org/python-programming-language/).\n",
        "\n",
        "3. You can find everything about Numpy to work with arrays [HERE](https://numpy.org/doc/stable/index.html#) and you can also utilize all APIs and documents about Pandas to work with data frames [HERE](https://pandas.pydata.org/docs/index.html#)."
      ]
    },
    {
      "cell_type": "markdown",
      "metadata": {},
      "source": [
        "# !! Typing in python \n",
        "Typing in Python has evolved significantly, especially with the introduction of type hints in PEP 484. \n",
        "\n",
        "### 1. Type Checking\n",
        "\n",
        "Type checking in Python can be broadly categorized into two types:\n",
        "\n",
        "#### a. **Static Type Checking**\n",
        "- **Type Hints**: Introduced in Python 3.5, type hints allow developers to specify the expected types of variables, function parameters, and return values. This does not enforce type checking at runtime but allows for better code readability and tooling support.\n",
        "- **Type Annotations**: You can annotate variables and functions using syntax such as:\n",
        "    ```python\n",
        "    def add(x: int, y: int) -> int:\n",
        "        return x + y\n",
        "    ```\n",
        "- **Static Type Checkers**: Tools like `mypy` can analyze the code and detect type-related issues before runtime. You can run `mypy` on your Python files to check for type consistency.\n",
        "\n",
        "#### b. **Dynamic Type Checking**\n",
        "- Python is a dynamically typed language, meaning that type checking occurs at runtime. You can change the type of a variable at any time, which allows for flexibility but can lead to runtime errors if not managed carefully.\n",
        "    ```python\n",
        "    x = 5       # x is an int\n",
        "    x = \"hello\" # now x is a str\n",
        "    ```\n",
        "\n",
        "### 2. Type Casting\n",
        "\n",
        "Type casting refers to converting a variable from one type to another. Python provides several built-in functions for type casting:\n",
        "\n",
        "- **int()**: Converts to an integer.\n",
        "- **float()**: Converts to a float.\n",
        "- **str()**: Converts to a string.\n",
        "- **list()**: Converts to a list.\n",
        "- **tuple()**: Converts to a tuple.\n",
        "- **set()**: Converts to a set.\n",
        "\n",
        "**Examples:**\n",
        "```python\n",
        "# Casting examples\n",
        "a = \"10\"\n",
        "b = int(a)  # a is converted from str to int\n",
        "print(b)    # Output: 10\n",
        "\n",
        "c = 3.14\n",
        "d = int(c)  # c is converted from float to int\n",
        "print(d)    # Output: 3\n",
        "```\n",
        "\n",
        "### 3. Usage of Type Checking and Casting\n",
        "\n",
        "Using type checking and casting effectively can enhance the robustness and clarity of your code:\n",
        "\n",
        "#### a. **Function Definitions**\n",
        "- Type hints help communicate the intended use of functions, making it easier for users and tools to understand what types of arguments are expected.\n",
        "\n",
        "```python\n",
        "from typing import List, Dict\n",
        "\n",
        "def process_data(data: List[int]) -> Dict[str, int]:\n",
        "    return {'min': min(data), 'max': max(data), 'sum': sum(data)}\n",
        "```\n",
        "\n",
        "#### b. **Type Aliases**\n",
        "- You can define type aliases for complex types to make code more readable.\n",
        "\n",
        "```python\n",
        "from typing import List, Tuple\n",
        "\n",
        "Coordinates = List[Tuple[float, float]]\n",
        "\n",
        "def calculate_distance(points: Coordinates) -> None:\n",
        "    pass\n",
        "```\n",
        "\n",
        "#### c. **Union Types**\n",
        "- You can specify that a variable can be one of multiple types using the `Union` type.\n",
        "\n",
        "```python\n",
        "from typing import Union\n",
        "\n",
        "def stringify(value: Union[int, float]) -> str:\n",
        "    return str(value)\n",
        "```\n",
        "\n",
        "#### d. **Optional Types**\n",
        "- You can use `Optional` to indicate that a variable can be of a certain type or `None`.\n",
        "\n",
        "```python\n",
        "from typing import Optional\n",
        "\n",
        "def find_item(items: List[str], target: str) -> Optional[int]:\n",
        "    try:\n",
        "        return items.index(target)\n",
        "    except ValueError:\n",
        "        return None\n",
        "```\n"
      ]
    }
  ],
  "metadata": {
    "colab": {
      "provenance": [],
      "toc_visible": true
    },
    "kernelspec": {
      "display_name": "Python 3",
      "name": "python3"
    },
    "language_info": {
      "codemirror_mode": {
        "name": "ipython",
        "version": 3
      },
      "file_extension": ".py",
      "mimetype": "text/x-python",
      "name": "python",
      "nbconvert_exporter": "python",
      "pygments_lexer": "ipython3",
      "version": "3.12.3"
    }
  },
  "nbformat": 4,
  "nbformat_minor": 0
}
